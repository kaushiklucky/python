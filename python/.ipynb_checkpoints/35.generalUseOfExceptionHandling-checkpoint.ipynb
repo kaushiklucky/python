{
 "cells": [
  {
   "cell_type": "code",
   "execution_count": 2,
   "id": "8949167c-4f0e-4696-b389-b34820dda829",
   "metadata": {},
   "outputs": [],
   "source": [
    "# 100/\"2\" throw error"
   ]
  },
  {
   "cell_type": "code",
   "execution_count": 3,
   "id": "781da1a3-de08-48b1-97fa-5b6aac151828",
   "metadata": {},
   "outputs": [],
   "source": [
    "# 100/0 throw error"
   ]
  },
  {
   "cell_type": "code",
   "execution_count": 4,
   "id": "f6381c46-d9c4-487a-a525-d77e7fe21fda",
   "metadata": {},
   "outputs": [
    {
     "name": "stdout",
     "output_type": "stream",
     "text": [
      "there is some error\n"
     ]
    }
   ],
   "source": [
    "try:\n",
    "    100/0\n",
    "except: # generic exception to print your msg\n",
    "    print(\"there is some error\")"
   ]
  },
  {
   "cell_type": "code",
   "execution_count": 5,
   "id": "9e25052e-2cc7-40a4-90de-f1593de7e302",
   "metadata": {},
   "outputs": [
    {
     "name": "stdout",
     "output_type": "stream",
     "text": [
      "There is some error\n"
     ]
    }
   ],
   "source": [
    "try:\n",
    "    10/\"some string\"\n",
    "except:\n",
    "    print(\"There is some error\")"
   ]
  },
  {
   "cell_type": "code",
   "execution_count": 6,
   "id": "0b06b88d-2672-45bf-b804-b06f9fe8a270",
   "metadata": {},
   "outputs": [
    {
     "ename": "ZeroDivisionError",
     "evalue": "division by zero",
     "output_type": "error",
     "traceback": [
      "\u001b[1;31m---------------------------------------------------------------------------\u001b[0m",
      "\u001b[1;31mZeroDivisionError\u001b[0m                         Traceback (most recent call last)",
      "Cell \u001b[1;32mIn[6], line 1\u001b[0m\n\u001b[1;32m----> 1\u001b[0m \u001b[38;5;241;43m10\u001b[39;49m\u001b[38;5;241;43m/\u001b[39;49m\u001b[38;5;241;43m0\u001b[39;49m\n",
      "\u001b[1;31mZeroDivisionError\u001b[0m: division by zero"
     ]
    }
   ],
   "source": [
    "10/0"
   ]
  },
  {
   "cell_type": "code",
   "execution_count": 50,
   "id": "96b0b219-38df-48d4-85a8-33953c7f7276",
   "metadata": {},
   "outputs": [
    {
     "name": "stdout",
     "output_type": "stream",
     "text": [
      "There is some error of division by zero\n"
     ]
    }
   ],
   "source": [
    "try:\n",
    "    10/0\n",
    "except Exception as e:\n",
    "    print(\"There is some error of\", e)"
   ]
  },
  {
   "cell_type": "code",
   "execution_count": 52,
   "id": "96ddc149-9979-42d8-9703-bff96e0bc455",
   "metadata": {},
   "outputs": [],
   "source": [
    "# the above example is of generic exception handling"
   ]
  },
  {
   "cell_type": "code",
   "execution_count": 54,
   "id": "60c3e7ca-7a75-4fcc-bdfa-808a578d8db9",
   "metadata": {},
   "outputs": [
    {
     "name": "stdout",
     "output_type": "stream",
     "text": [
      "Here I am handling the zero division error : division by zero\n"
     ]
    }
   ],
   "source": [
    "try:\n",
    "    10/0 # suspicion\n",
    "except ZeroDivisionError as e:\n",
    "    print(\"Here I am handling the zero division error :\", e)"
   ]
  },
  {
   "cell_type": "code",
   "execution_count": 56,
   "id": "37b518c9-a552-47c6-b68f-fb340641b5e1",
   "metadata": {},
   "outputs": [],
   "source": [
    "# best practice 1: always catch specific error\n",
    "#specificity in exception handling"
   ]
  },
  {
   "cell_type": "code",
   "execution_count": 58,
   "id": "62c0da33-86ea-4309-bc23-a3892c946968",
   "metadata": {},
   "outputs": [
    {
     "ename": "TypeError",
     "evalue": "unsupported operand type(s) for /: 'int' and 'str'",
     "output_type": "error",
     "traceback": [
      "\u001b[1;31m---------------------------------------------------------------------------\u001b[0m",
      "\u001b[1;31mTypeError\u001b[0m                                 Traceback (most recent call last)",
      "Cell \u001b[1;32mIn[58], line 1\u001b[0m\n\u001b[1;32m----> 1\u001b[0m \u001b[38;5;241;43m10\u001b[39;49m\u001b[38;5;241;43m/\u001b[39;49m\u001b[38;5;124;43m\"\u001b[39;49m\u001b[38;5;124;43msome string\u001b[39;49m\u001b[38;5;124;43m\"\u001b[39;49m\n",
      "\u001b[1;31mTypeError\u001b[0m: unsupported operand type(s) for /: 'int' and 'str'"
     ]
    }
   ],
   "source": [
    "10/\"some string\""
   ]
  },
  {
   "cell_type": "code",
   "execution_count": 60,
   "id": "33bf1774-087a-4cbf-acf5-0cd8f842ecbe",
   "metadata": {},
   "outputs": [
    {
     "name": "stdout",
     "output_type": "stream",
     "text": [
      "Some string is being used in division unsupported operand type(s) for /: 'int' and 'str'\n"
     ]
    }
   ],
   "source": [
    "try:\n",
    "    10/\"some string\"\n",
    "except TypeError as e:\n",
    "    print(\"Some string is being used in division\", e)"
   ]
  },
  {
   "cell_type": "code",
   "execution_count": 62,
   "id": "698bce5e-c014-4808-ba6d-880abf89c7c6",
   "metadata": {},
   "outputs": [],
   "source": [
    "# benefit of handling specific error >> you know what error is expected and if other error comes which you were not able to think, you will be able address that"
   ]
  },
  {
   "cell_type": "code",
   "execution_count": 64,
   "id": "286a2024-9ca2-4907-b516-d49a54266924",
   "metadata": {},
   "outputs": [
    {
     "name": "stdout",
     "output_type": "stream",
     "text": [
      "Some string is being used in division unsupported operand type(s) for /: 'int' and 'str'\n",
      "The calculation is 3.3333333333333335\n"
     ]
    }
   ],
   "source": [
    "# example to handle some specific exception\n",
    "try:\n",
    "    10/\"3\"\n",
    "except TypeError as e:\n",
    "    print(\"Some string is being used in division\", e)\n",
    "    print(\"The calculation is\", 10/int(\"3\"))"
   ]
  },
  {
   "cell_type": "code",
   "execution_count": 66,
   "id": "803f0a91-1b88-4303-9b20-8d13ea6bba2c",
   "metadata": {},
   "outputs": [
    {
     "name": "stdout",
     "output_type": "stream",
     "text": [
      "Here I am handling the zero division error: division by zero\n",
      "Since the den value is 0, using default value 1, the quotient is  10.0\n"
     ]
    }
   ],
   "source": [
    "# another example of handling specific exception\n",
    "\n",
    "try:\n",
    "    10/0\n",
    "except ZeroDivisionError as e:\n",
    "    print(\"Here I am handling the zero division error:\", e)\n",
    "    print(\"Since the den value is 0, using default value 1, the quotient is \", 10/1)"
   ]
  },
  {
   "cell_type": "code",
   "execution_count": 68,
   "id": "a8f1228a-993f-46d8-b9ba-cce83ef30088",
   "metadata": {},
   "outputs": [
    {
     "ename": "ValueError",
     "evalue": "invalid literal for int() with base 10: 'pwskills'",
     "output_type": "error",
     "traceback": [
      "\u001b[1;31m---------------------------------------------------------------------------\u001b[0m",
      "\u001b[1;31mValueError\u001b[0m                                Traceback (most recent call last)",
      "Cell \u001b[1;32mIn[68], line 1\u001b[0m\n\u001b[1;32m----> 1\u001b[0m \u001b[38;5;28;43mint\u001b[39;49m\u001b[43m(\u001b[49m\u001b[38;5;124;43m\"\u001b[39;49m\u001b[38;5;124;43mpwskills\u001b[39;49m\u001b[38;5;124;43m\"\u001b[39;49m\u001b[43m)\u001b[49m\n",
      "\u001b[1;31mValueError\u001b[0m: invalid literal for int() with base 10: 'pwskills'"
     ]
    }
   ],
   "source": [
    "int(\"pwskills\")"
   ]
  },
  {
   "cell_type": "code",
   "execution_count": 70,
   "id": "33a67031-f764-4895-be4a-b5dc8b7d0a33",
   "metadata": {},
   "outputs": [
    {
     "name": "stdout",
     "output_type": "stream",
     "text": [
      "The string can not be converted to integer invalid literal for int() with base 10: 'pwskills'\n"
     ]
    }
   ],
   "source": [
    "try:\n",
    "    int(\"pwskills\")\n",
    "except ValueError as e:\n",
    "    print(\"The string can not be converted to integer\", e)"
   ]
  },
  {
   "cell_type": "code",
   "execution_count": 72,
   "id": "3a30ac8f-e7c4-4a1d-9514-0e99bfc59e15",
   "metadata": {},
   "outputs": [
    {
     "name": "stdout",
     "output_type": "stream",
     "text": [
      "The divison is not possible due the error>> unsupported operand type(s) for /: 'int' and 'str'\n"
     ]
    }
   ],
   "source": [
    "# hanling two specific exception/multiple exceptions\n",
    "try:\n",
    "    10/\"3\"\n",
    "except (ZeroDivisionError, TypeError) as e:\n",
    "    print(\"The divison is not possible due the error>>\", e)"
   ]
  },
  {
   "cell_type": "code",
   "execution_count": 74,
   "id": "0c1c5e34-6060-4081-b498-32de0a5ebe24",
   "metadata": {},
   "outputs": [
    {
     "name": "stdout",
     "output_type": "stream",
     "text": [
      "The divison is not possible due the error>> division by zero\n"
     ]
    }
   ],
   "source": [
    "try:\n",
    "    10/0\n",
    "except (ZeroDivisionError, TypeError) as e:\n",
    "    print(\"The divison is not possible due the error>>\", e)"
   ]
  },
  {
   "cell_type": "code",
   "execution_count": 76,
   "id": "fdcf7899-b9ce-41f5-9187-c997ca21119d",
   "metadata": {},
   "outputs": [
    {
     "name": "stdout",
     "output_type": "stream",
     "text": [
      "The divison is not possible due the error>> division by zero\n"
     ]
    }
   ],
   "source": [
    "#handle multiple exceptions in separate blocks\n",
    "try:\n",
    "    10/0\n",
    "except ZeroDivisionError as e:\n",
    "    print(\"The divison is not possible due the error>>\", e)\n",
    "except TypeError as e:\n",
    "    print(\"This is value error>>\", e)"
   ]
  },
  {
   "cell_type": "code",
   "execution_count": 78,
   "id": "8749136c-79d4-4683-b208-c9c87e1955b7",
   "metadata": {},
   "outputs": [
    {
     "ename": "TypeError",
     "evalue": "unsupported operand type(s) for /: 'int' and 'str'",
     "output_type": "error",
     "traceback": [
      "\u001b[1;31m---------------------------------------------------------------------------\u001b[0m",
      "\u001b[1;31mTypeError\u001b[0m                                 Traceback (most recent call last)",
      "Cell \u001b[1;32mIn[78], line 1\u001b[0m\n\u001b[1;32m----> 1\u001b[0m \u001b[38;5;241;43m10\u001b[39;49m\u001b[38;5;241;43m/\u001b[39;49m\u001b[38;5;124;43m\"\u001b[39;49m\u001b[38;5;124;43msome string\u001b[39;49m\u001b[38;5;124;43m\"\u001b[39;49m\n",
      "\u001b[1;31mTypeError\u001b[0m: unsupported operand type(s) for /: 'int' and 'str'"
     ]
    }
   ],
   "source": [
    " 10/\"some string\""
   ]
  },
  {
   "cell_type": "code",
   "execution_count": 80,
   "id": "926400fe-0cad-4578-ac3b-4d26180b0476",
   "metadata": {},
   "outputs": [
    {
     "name": "stdout",
     "output_type": "stream",
     "text": [
      "This is value error>> unsupported operand type(s) for /: 'int' and 'str'\n"
     ]
    }
   ],
   "source": [
    "try:\n",
    "    10/\"some string\"\n",
    "except ZeroDivisionError as e:\n",
    "    print(\"The divison is not possible due the error>>\", e)\n",
    "except TypeError as e:\n",
    "    print(\"This is value error>>\", e)"
   ]
  },
  {
   "cell_type": "code",
   "execution_count": 82,
   "id": "c04165b5-56b3-47bc-a5ca-a4518ab000f6",
   "metadata": {},
   "outputs": [],
   "source": [
    "import csv"
   ]
  },
  {
   "cell_type": "code",
   "execution_count": 84,
   "id": "770a9bdc-6dfa-4c53-9571-9c730e0e5959",
   "metadata": {},
   "outputs": [
    {
     "ename": "ModuleNotFoundError",
     "evalue": "No module named 'pwskills'",
     "output_type": "error",
     "traceback": [
      "\u001b[1;31m---------------------------------------------------------------------------\u001b[0m",
      "\u001b[1;31mModuleNotFoundError\u001b[0m                       Traceback (most recent call last)",
      "Cell \u001b[1;32mIn[84], line 1\u001b[0m\n\u001b[1;32m----> 1\u001b[0m \u001b[38;5;28;01mimport\u001b[39;00m \u001b[38;5;21;01mpwskills\u001b[39;00m\n",
      "\u001b[1;31mModuleNotFoundError\u001b[0m: No module named 'pwskills'"
     ]
    }
   ],
   "source": [
    "import pwskills"
   ]
  },
  {
   "cell_type": "code",
   "execution_count": 86,
   "id": "c143ce58-66f4-4212-8f74-892b68f33bae",
   "metadata": {},
   "outputs": [
    {
     "name": "stdout",
     "output_type": "stream",
     "text": [
      "The module not found No module named 'pwskills'\n"
     ]
    }
   ],
   "source": [
    "try:\n",
    "    import pwskills\n",
    "except ModuleNotFoundError as e:\n",
    "    print(\"The module not found\", e)"
   ]
  },
  {
   "cell_type": "code",
   "execution_count": 88,
   "id": "3a6100fa-a3e6-4760-b9fa-3159a50fd6ad",
   "metadata": {},
   "outputs": [
    {
     "ename": "NameError",
     "evalue": "name 'test' is not defined",
     "output_type": "error",
     "traceback": [
      "\u001b[1;31m---------------------------------------------------------------------------\u001b[0m",
      "\u001b[1;31mNameError\u001b[0m                                 Traceback (most recent call last)",
      "Cell \u001b[1;32mIn[88], line 1\u001b[0m\n\u001b[1;32m----> 1\u001b[0m \u001b[43mtest\u001b[49m()\n",
      "\u001b[1;31mNameError\u001b[0m: name 'test' is not defined"
     ]
    }
   ],
   "source": [
    "test()"
   ]
  },
  {
   "cell_type": "code",
   "execution_count": 90,
   "id": "abacfb92-d705-4a64-a681-dbd9dd28e2d0",
   "metadata": {},
   "outputs": [
    {
     "name": "stdout",
     "output_type": "stream",
     "text": [
      "name 'test' is not defined\n"
     ]
    }
   ],
   "source": [
    "try:\n",
    "    test()\n",
    "except NameError as e:\n",
    "    print(e)"
   ]
  },
  {
   "cell_type": "code",
   "execution_count": 92,
   "id": "5eab804c-6814-412e-b83f-f8d30c147ad0",
   "metadata": {},
   "outputs": [],
   "source": [
    "d = {\"name\": \"Ajay\", \"class\": \"ds\"}"
   ]
  },
  {
   "cell_type": "code",
   "execution_count": 94,
   "id": "20980aeb-39dd-4f24-b156-ef385cea08cb",
   "metadata": {},
   "outputs": [
    {
     "ename": "KeyError",
     "evalue": "'age'",
     "output_type": "error",
     "traceback": [
      "\u001b[1;31m---------------------------------------------------------------------------\u001b[0m",
      "\u001b[1;31mKeyError\u001b[0m                                  Traceback (most recent call last)",
      "Cell \u001b[1;32mIn[94], line 1\u001b[0m\n\u001b[1;32m----> 1\u001b[0m \u001b[43md\u001b[49m\u001b[43m[\u001b[49m\u001b[38;5;124;43m\"\u001b[39;49m\u001b[38;5;124;43mage\u001b[39;49m\u001b[38;5;124;43m\"\u001b[39;49m\u001b[43m]\u001b[49m\n",
      "\u001b[1;31mKeyError\u001b[0m: 'age'"
     ]
    }
   ],
   "source": [
    "d[\"age\"]"
   ]
  },
  {
   "cell_type": "code",
   "execution_count": 96,
   "id": "4329f96a-8727-444b-b74a-77ef55b2d842",
   "metadata": {},
   "outputs": [
    {
     "name": "stdout",
     "output_type": "stream",
     "text": [
      "The key is not found 'age'\n"
     ]
    }
   ],
   "source": [
    "try:\n",
    "    d = {\"name\": \"Ajay\", \"class\": \"ds\"}\n",
    "    d[\"age\"]\n",
    "except KeyError as e:\n",
    "    print(\"The key is not found\", e)"
   ]
  },
  {
   "cell_type": "code",
   "execution_count": 98,
   "id": "314e253e-17b4-4a3a-a11f-92f434f158d4",
   "metadata": {},
   "outputs": [
    {
     "ename": "IndexError",
     "evalue": "list index out of range",
     "output_type": "error",
     "traceback": [
      "\u001b[1;31m---------------------------------------------------------------------------\u001b[0m",
      "\u001b[1;31mIndexError\u001b[0m                                Traceback (most recent call last)",
      "Cell \u001b[1;32mIn[98], line 2\u001b[0m\n\u001b[0;32m      1\u001b[0m l \u001b[38;5;241m=\u001b[39m [\u001b[38;5;241m1\u001b[39m, \u001b[38;5;241m2\u001b[39m, \u001b[38;5;241m3\u001b[39m, \u001b[38;5;241m4\u001b[39m]\n\u001b[1;32m----> 2\u001b[0m \u001b[43ml\u001b[49m\u001b[43m[\u001b[49m\u001b[38;5;241;43m4\u001b[39;49m\u001b[43m]\u001b[49m\n",
      "\u001b[1;31mIndexError\u001b[0m: list index out of range"
     ]
    }
   ],
   "source": [
    "l = [1, 2, 3, 4]\n",
    "l[4]"
   ]
  },
  {
   "cell_type": "code",
   "execution_count": 100,
   "id": "f20d0244-63a8-4aa3-be96-b6959fac082c",
   "metadata": {},
   "outputs": [
    {
     "name": "stdout",
     "output_type": "stream",
     "text": [
      "The index not found list index out of range\n"
     ]
    }
   ],
   "source": [
    "try:\n",
    "    l = [1, 2, 3, 4]\n",
    "    l[4]\n",
    "except IndexError as e:\n",
    "    print(\"The index not found\", e)"
   ]
  },
  {
   "cell_type": "code",
   "execution_count": 102,
   "id": "280501a2-4f0d-48e8-b2a2-ebe7da05eaad",
   "metadata": {},
   "outputs": [],
   "source": [
    "f = open(\"example.txt\", \"r\")"
   ]
  },
  {
   "cell_type": "code",
   "execution_count": 104,
   "id": "6754f523-15f9-48cd-bd64-a9027122ee0b",
   "metadata": {},
   "outputs": [],
   "source": [
    "try:\n",
    "    f = open(\"example.txt\", \"r\")\n",
    "    f.read()\n",
    "except FileNotFoundError as e:\n",
    "    print(\"The following file was not created, please re run the code\", e)"
   ]
  },
  {
   "cell_type": "code",
   "execution_count": 110,
   "id": "ac3be572-fbb9-4ba8-828e-c0c1c30fd4b1",
   "metadata": {},
   "outputs": [],
   "source": [
    "#sometime you will not know what could be the possible exceptions\n",
    "try:\n",
    "    f = open(\"example.txt\", \"r\")\n",
    "    f.read()\n",
    "except Exception as e: #parent class\n",
    "    print(\"first msg-----File is not opened due to\", e)\n",
    "except FileNotFoundError as e:\n",
    "    print(\"The following file was not created, please re run the code\", e)"
   ]
  },
  {
   "cell_type": "code",
   "execution_count": 112,
   "id": "0c51fcfe-d73a-46f3-94d6-2e17ba1189a3",
   "metadata": {},
   "outputs": [],
   "source": [
    "#best practice\n",
    "#in case you know specific exception keep that block first \n",
    "#and the block of generic exception after that\n",
    "\n",
    "try:\n",
    "    f = open(\"example.txt\", \"r\")\n",
    "    f.read()\n",
    "except FileNotFoundError as e:\n",
    "    print(\"The following file was not created, please re run the code\", e)\n",
    "except Exception as e: #parent class\n",
    "    print(\"first msg-----File is not opened due to\", e)"
   ]
  },
  {
   "cell_type": "code",
   "execution_count": 114,
   "id": "ec5b6de7-7594-4c81-a9e7-f1178e5ab565",
   "metadata": {},
   "outputs": [
    {
     "name": "stdout",
     "output_type": "stream",
     "text": [
      "The error is unsupported operand type(s) for /: 'int' and 'str'\n"
     ]
    }
   ],
   "source": [
    "#anothe rexample of above case\n",
    "try:\n",
    "    10/\"string\"\n",
    "except ZeroDivisionError as e:\n",
    "    print(\"The divison is not possible due the error>>\", e)\n",
    "except Exception as e:\n",
    "    print(\"The error is\", e)"
   ]
  },
  {
   "cell_type": "code",
   "execution_count": 116,
   "id": "9d0640e3-1c90-47de-8601-2b2dbab4f5d5",
   "metadata": {},
   "outputs": [],
   "source": [
    "#best practice>> always try to log\n",
    "import logging\n",
    "logging.basicConfig(filename = \"program.log\", level = logging.DEBUG)\n",
    "try:\n",
    "    f = open(\"example.txt\", \"r\")\n",
    "    f.read()\n",
    "except FileNotFoundError as e:\n",
    "    logging.error(f\"My file was not found {e}\")"
   ]
  },
  {
   "cell_type": "code",
   "execution_count": 118,
   "id": "b93560a2-7224-4d4e-9ff6-c674e15718d4",
   "metadata": {},
   "outputs": [],
   "source": [
    "import logging\n",
    "logging.basicConfig(filename = \"program1.log\", level = logging.DEBUG)\n",
    "try:\n",
    "    10/0\n",
    "except ZeroDivisionError as e:\n",
    "    logging.error(f\"My file was not found {e}\")"
   ]
  },
  {
   "cell_type": "code",
   "execution_count": 120,
   "id": "50c22f17-3e83-44a0-a0f2-97b1be7d3082",
   "metadata": {},
   "outputs": [],
   "source": [
    "#putting exception handling in a function\n",
    "def test(file):\n",
    "    try:\n",
    "        f = open(file, \"r\")\n",
    "        f.read()\n",
    "    except FileNotFoundError as e:\n",
    "        print(f\"My file was not found {e}\")"
   ]
  },
  {
   "cell_type": "code",
   "execution_count": 122,
   "id": "dda95354-40ec-4e4d-8bc4-314d468bcab6",
   "metadata": {},
   "outputs": [],
   "source": [
    "test(\"example.txt\")"
   ]
  },
  {
   "cell_type": "code",
   "execution_count": 124,
   "id": "17edd40f-a0b1-46c4-bad4-c070c55bc936",
   "metadata": {},
   "outputs": [
    {
     "name": "stdout",
     "output_type": "stream",
     "text": [
      "The divison is not possible due the error>> division by zero\n"
     ]
    }
   ],
   "source": [
    "#do not try to use unnecessary exception/multiple exception\n",
    "#exmple:: filenotfound exception is never possible in divison\n",
    "#so no point to handle filenotfound error here\n",
    "#instead you can handle typeError or use generic excepction class\n",
    "try:\n",
    "    10/0\n",
    "except ZeroDivisionError as e:\n",
    "    print(\"The divison is not possible due the error>>\", e)\n",
    "except FileNotFoundError as e:\n",
    "    print(\"The error is\", e)"
   ]
  },
  {
   "cell_type": "code",
   "execution_count": 126,
   "id": "682c87fc-8fb4-44a1-9643-e4fa76782d59",
   "metadata": {},
   "outputs": [],
   "source": [
    "#zero divion error doesnt make any sense here\n",
    "def test(file):\n",
    "    try:\n",
    "        f = open(file, \"r\")\n",
    "        f.read()\n",
    "    except FileNotFoundError as e:\n",
    "        print(f\"My file was not found {e}\")\n",
    "    except ZeroDivisionError as e:#unnecesary\n",
    "        print(\"The divison is not possible due the error>>\", e) "
   ]
  },
  {
   "cell_type": "code",
   "execution_count": 128,
   "id": "d4c723fd-70d3-43f3-b572-98d1cd7466b0",
   "metadata": {},
   "outputs": [],
   "source": [
    "test(\"example.txt\")"
   ]
  },
  {
   "cell_type": "code",
   "execution_count": 130,
   "id": "0fad5925-7a07-454c-b769-cc3d258e2827",
   "metadata": {},
   "outputs": [],
   "source": [
    "#best practice:: give proper documentation in docstring/proper comments in your code\n",
    "def test(file):\n",
    "    \"\"\"\n",
    "    This function is about is reading a file.\n",
    "    \n",
    "    Args:\n",
    "        input: file(str)\n",
    "        output: text(str)\n",
    "    \"\"\"\n",
    "    try:\n",
    "        f = open(file, \"r\")\n",
    "        f.read()\n",
    "    except FileNotFoundError as e:\n",
    "        print(f\"My file was not found {e}\")\n",
    "    #unnecesary exception\n",
    "    except ZeroDivisionError as e:\n",
    "        print(\"The divison is not possible due the error>>\", e) "
   ]
  },
  {
   "cell_type": "code",
   "execution_count": 132,
   "id": "32f61e0a-e108-4526-a42c-bc61369f3e7c",
   "metadata": {},
   "outputs": [],
   "source": [
    "test(\"example.txt\")"
   ]
  },
  {
   "cell_type": "code",
   "execution_count": 134,
   "id": "e112829d-b896-4916-b3ef-0dec2f46823b",
   "metadata": {},
   "outputs": [],
   "source": [
    "#best practice>> always clean up the resources using finally\n",
    "\n",
    "\n",
    "def test(file):\n",
    "    \"\"\"\n",
    "    This function is about is reading a file.\n",
    "    \n",
    "    Args:\n",
    "        input: file(str)\n",
    "        output: text(str)\n",
    "    \"\"\"\n",
    "    try:\n",
    "        f = open(file, \"w\")\n",
    "        f.write(\"Anything being written\")\n",
    "    except FileNotFoundError as e:\n",
    "        print(f\"My file was not found {e}\")\n",
    "    finally:\n",
    "        f.close()"
   ]
  },
  {
   "cell_type": "code",
   "execution_count": 136,
   "id": "bfb0e3a9-4d44-431b-aec8-c75c2cba12fc",
   "metadata": {},
   "outputs": [],
   "source": [
    "test(\"example.txt\")"
   ]
  },
  {
   "cell_type": "code",
   "execution_count": null,
   "id": "54cec017-f98e-4a11-b5f3-80ccbecacf75",
   "metadata": {},
   "outputs": [],
   "source": []
  }
 ],
 "metadata": {
  "kernelspec": {
   "display_name": "Python 3 (ipykernel)",
   "language": "python",
   "name": "python3"
  },
  "language_info": {
   "codemirror_mode": {
    "name": "ipython",
    "version": 3
   },
   "file_extension": ".py",
   "mimetype": "text/x-python",
   "name": "python",
   "nbconvert_exporter": "python",
   "pygments_lexer": "ipython3",
   "version": "3.12.4"
  }
 },
 "nbformat": 4,
 "nbformat_minor": 5
}
