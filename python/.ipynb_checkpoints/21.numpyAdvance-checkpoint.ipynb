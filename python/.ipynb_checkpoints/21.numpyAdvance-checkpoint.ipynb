{
 "cells": [
  {
   "cell_type": "code",
   "execution_count": 4,
   "id": "fbb91489-43d8-41ba-b870-0acf080f90fb",
   "metadata": {},
   "outputs": [],
   "source": [
    "import numpy as np"
   ]
  },
  {
   "cell_type": "code",
   "execution_count": 6,
   "id": "dd5012dd-39ec-417a-9310-027431ac0dd6",
   "metadata": {
    "editable": true,
    "panel-layout": {
     "height": 68.4688,
     "visible": true,
     "width": 100
    },
    "slideshow": {
     "slide_type": ""
    },
    "tags": []
   },
   "outputs": [
    {
     "data": {
      "text/plain": [
       "array([0., 0., 0., 0., 0.])"
      ]
     },
     "execution_count": 6,
     "metadata": {},
     "output_type": "execute_result"
    }
   ],
   "source": [
    "np.zeros(5) "
   ]
  },
  {
   "cell_type": "code",
   "execution_count": 8,
   "id": "44ba4b73-e782-43ff-a0b2-e66bbc88afdf",
   "metadata": {},
   "outputs": [
    {
     "data": {
      "text/plain": [
       "array([0, 0, 0, 0, 0, 0, 0, 0, 0, 0])"
      ]
     },
     "execution_count": 8,
     "metadata": {},
     "output_type": "execute_result"
    }
   ],
   "source": [
    "np.zeros(10, dtype=int)"
   ]
  },
  {
   "cell_type": "code",
   "execution_count": 12,
   "id": "fa80d890-ce46-464b-bcf7-2a6bed07f074",
   "metadata": {},
   "outputs": [],
   "source": [
    "b = np.zeros((3,4))"
   ]
  },
  {
   "cell_type": "code",
   "execution_count": 14,
   "id": "207dba9c-8966-4fd5-abe6-2ac89972881c",
   "metadata": {},
   "outputs": [
    {
     "data": {
      "text/plain": [
       "array([[0., 0., 0., 0.],\n",
       "       [0., 0., 0., 0.],\n",
       "       [0., 0., 0., 0.]])"
      ]
     },
     "execution_count": 14,
     "metadata": {},
     "output_type": "execute_result"
    }
   ],
   "source": [
    "b"
   ]
  },
  {
   "cell_type": "code",
   "execution_count": 16,
   "id": "60a7ebaa-a74b-40aa-98ab-87d2e26306b2",
   "metadata": {},
   "outputs": [
    {
     "data": {
      "text/plain": [
       "2"
      ]
     },
     "execution_count": 16,
     "metadata": {},
     "output_type": "execute_result"
    }
   ],
   "source": [
    "b.ndim"
   ]
  },
  {
   "cell_type": "code",
   "execution_count": 18,
   "id": "116948e0-b6b8-4de8-ae26-898ee639ecd3",
   "metadata": {},
   "outputs": [
    {
     "data": {
      "text/plain": [
       "array([1., 1., 1., 1., 1.])"
      ]
     },
     "execution_count": 18,
     "metadata": {},
     "output_type": "execute_result"
    }
   ],
   "source": [
    "np.ones(5)"
   ]
  },
  {
   "cell_type": "code",
   "execution_count": 20,
   "id": "96bd06e2-181a-4a32-a988-64333a29440f",
   "metadata": {},
   "outputs": [
    {
     "data": {
      "text/plain": [
       "array([1, 1, 1, 1, 1])"
      ]
     },
     "execution_count": 20,
     "metadata": {},
     "output_type": "execute_result"
    }
   ],
   "source": [
    "np.ones(5, dtype=int)"
   ]
  },
  {
   "cell_type": "code",
   "execution_count": 22,
   "id": "69cbe67f-8561-4703-9de7-3c9b4278f4b3",
   "metadata": {},
   "outputs": [
    {
     "data": {
      "text/plain": [
       "array([[1, 1, 1],\n",
       "       [1, 1, 1],\n",
       "       [1, 1, 1]])"
      ]
     },
     "execution_count": 22,
     "metadata": {},
     "output_type": "execute_result"
    }
   ],
   "source": [
    "np.ones((3,3), dtype=int)"
   ]
  },
  {
   "cell_type": "code",
   "execution_count": 26,
   "id": "c7ea45ec-6aea-4ef6-9a67-9473d2b3e377",
   "metadata": {},
   "outputs": [],
   "source": [
    "# np.twos(5)  #doesnt exist in numpy"
   ]
  },
  {
   "cell_type": "code",
   "execution_count": 28,
   "id": "d1bf7f7d-8025-4c16-a04b-7b0ac7d9efec",
   "metadata": {},
   "outputs": [
    {
     "data": {
      "text/plain": [
       "array([[2, 2, 2],\n",
       "       [2, 2, 2]])"
      ]
     },
     "execution_count": 28,
     "metadata": {},
     "output_type": "execute_result"
    }
   ],
   "source": [
    "np.array([[2,2,2],[2,2,2]])"
   ]
  },
  {
   "cell_type": "code",
   "execution_count": 30,
   "id": "100b1817-d949-4855-8fa1-5fae537a787e",
   "metadata": {},
   "outputs": [],
   "source": [
    "# 3 dimensional array"
   ]
  },
  {
   "cell_type": "code",
   "execution_count": 34,
   "id": "b1251714-f077-47d9-90a2-a76716afdcf5",
   "metadata": {},
   "outputs": [
    {
     "data": {
      "text/plain": [
       "array([0., 0., 0.])"
      ]
     },
     "execution_count": 34,
     "metadata": {},
     "output_type": "execute_result"
    }
   ],
   "source": [
    "np.zeros(3)  #1D"
   ]
  },
  {
   "cell_type": "code",
   "execution_count": 36,
   "id": "752ab8b0-9e5c-412a-892e-da1896719655",
   "metadata": {},
   "outputs": [
    {
     "data": {
      "text/plain": [
       "array([[0., 0., 0., 0.],\n",
       "       [0., 0., 0., 0.],\n",
       "       [0., 0., 0., 0.]])"
      ]
     },
     "execution_count": 36,
     "metadata": {},
     "output_type": "execute_result"
    }
   ],
   "source": [
    "np.zeros((3,4))  #2D"
   ]
  },
  {
   "cell_type": "code",
   "execution_count": 52,
   "id": "2e3c941e-8468-4d6e-ba55-62c02ec76d1e",
   "metadata": {},
   "outputs": [],
   "source": [
    "arr = np.zeros((3, 3, 4)) #3D"
   ]
  },
  {
   "cell_type": "code",
   "execution_count": 54,
   "id": "9bf6d4ee-d57b-49e7-8f13-23e28d0d9417",
   "metadata": {},
   "outputs": [
    {
     "data": {
      "text/plain": [
       "array([[[0., 0., 0., 0.],\n",
       "        [0., 0., 0., 0.],\n",
       "        [0., 0., 0., 0.]],\n",
       "\n",
       "       [[0., 0., 0., 0.],\n",
       "        [0., 0., 0., 0.],\n",
       "        [0., 0., 0., 0.]],\n",
       "\n",
       "       [[0., 0., 0., 0.],\n",
       "        [0., 0., 0., 0.],\n",
       "        [0., 0., 0., 0.]]])"
      ]
     },
     "execution_count": 54,
     "metadata": {},
     "output_type": "execute_result"
    }
   ],
   "source": [
    "arr"
   ]
  },
  {
   "cell_type": "code",
   "execution_count": 56,
   "id": "14f7b090-b1ec-45ac-8538-53843feae631",
   "metadata": {},
   "outputs": [
    {
     "data": {
      "text/plain": [
       "3"
      ]
     },
     "execution_count": 56,
     "metadata": {},
     "output_type": "execute_result"
    }
   ],
   "source": [
    "arr.ndim"
   ]
  },
  {
   "cell_type": "code",
   "execution_count": 58,
   "id": "2d276731-210e-4804-acc8-c4680de53e79",
   "metadata": {},
   "outputs": [],
   "source": [
    "arr1 = np.zeros((3, 3, 3, 4)) #4D"
   ]
  },
  {
   "cell_type": "code",
   "execution_count": 60,
   "id": "ba86f2e0-973c-4c98-8def-16e8789b4c77",
   "metadata": {},
   "outputs": [
    {
     "data": {
      "text/plain": [
       "array([[[[0., 0., 0., 0.],\n",
       "         [0., 0., 0., 0.],\n",
       "         [0., 0., 0., 0.]],\n",
       "\n",
       "        [[0., 0., 0., 0.],\n",
       "         [0., 0., 0., 0.],\n",
       "         [0., 0., 0., 0.]],\n",
       "\n",
       "        [[0., 0., 0., 0.],\n",
       "         [0., 0., 0., 0.],\n",
       "         [0., 0., 0., 0.]]],\n",
       "\n",
       "\n",
       "       [[[0., 0., 0., 0.],\n",
       "         [0., 0., 0., 0.],\n",
       "         [0., 0., 0., 0.]],\n",
       "\n",
       "        [[0., 0., 0., 0.],\n",
       "         [0., 0., 0., 0.],\n",
       "         [0., 0., 0., 0.]],\n",
       "\n",
       "        [[0., 0., 0., 0.],\n",
       "         [0., 0., 0., 0.],\n",
       "         [0., 0., 0., 0.]]],\n",
       "\n",
       "\n",
       "       [[[0., 0., 0., 0.],\n",
       "         [0., 0., 0., 0.],\n",
       "         [0., 0., 0., 0.]],\n",
       "\n",
       "        [[0., 0., 0., 0.],\n",
       "         [0., 0., 0., 0.],\n",
       "         [0., 0., 0., 0.]],\n",
       "\n",
       "        [[0., 0., 0., 0.],\n",
       "         [0., 0., 0., 0.],\n",
       "         [0., 0., 0., 0.]]]])"
      ]
     },
     "execution_count": 60,
     "metadata": {},
     "output_type": "execute_result"
    }
   ],
   "source": [
    "arr1"
   ]
  },
  {
   "cell_type": "code",
   "execution_count": 62,
   "id": "7d47f6ec-b925-4d47-87f7-fefd9fd1fd84",
   "metadata": {},
   "outputs": [],
   "source": [
    "arr2 = np.zeros((2, 3, 3, 3, 4)) # 5D"
   ]
  },
  {
   "cell_type": "code",
   "execution_count": 64,
   "id": "f66dd082-2b7e-4fe3-a97f-10d138bc8a7d",
   "metadata": {},
   "outputs": [
    {
     "data": {
      "text/plain": [
       "array([[[[[0., 0., 0., 0.],\n",
       "          [0., 0., 0., 0.],\n",
       "          [0., 0., 0., 0.]],\n",
       "\n",
       "         [[0., 0., 0., 0.],\n",
       "          [0., 0., 0., 0.],\n",
       "          [0., 0., 0., 0.]],\n",
       "\n",
       "         [[0., 0., 0., 0.],\n",
       "          [0., 0., 0., 0.],\n",
       "          [0., 0., 0., 0.]]],\n",
       "\n",
       "\n",
       "        [[[0., 0., 0., 0.],\n",
       "          [0., 0., 0., 0.],\n",
       "          [0., 0., 0., 0.]],\n",
       "\n",
       "         [[0., 0., 0., 0.],\n",
       "          [0., 0., 0., 0.],\n",
       "          [0., 0., 0., 0.]],\n",
       "\n",
       "         [[0., 0., 0., 0.],\n",
       "          [0., 0., 0., 0.],\n",
       "          [0., 0., 0., 0.]]],\n",
       "\n",
       "\n",
       "        [[[0., 0., 0., 0.],\n",
       "          [0., 0., 0., 0.],\n",
       "          [0., 0., 0., 0.]],\n",
       "\n",
       "         [[0., 0., 0., 0.],\n",
       "          [0., 0., 0., 0.],\n",
       "          [0., 0., 0., 0.]],\n",
       "\n",
       "         [[0., 0., 0., 0.],\n",
       "          [0., 0., 0., 0.],\n",
       "          [0., 0., 0., 0.]]]],\n",
       "\n",
       "\n",
       "\n",
       "       [[[[0., 0., 0., 0.],\n",
       "          [0., 0., 0., 0.],\n",
       "          [0., 0., 0., 0.]],\n",
       "\n",
       "         [[0., 0., 0., 0.],\n",
       "          [0., 0., 0., 0.],\n",
       "          [0., 0., 0., 0.]],\n",
       "\n",
       "         [[0., 0., 0., 0.],\n",
       "          [0., 0., 0., 0.],\n",
       "          [0., 0., 0., 0.]]],\n",
       "\n",
       "\n",
       "        [[[0., 0., 0., 0.],\n",
       "          [0., 0., 0., 0.],\n",
       "          [0., 0., 0., 0.]],\n",
       "\n",
       "         [[0., 0., 0., 0.],\n",
       "          [0., 0., 0., 0.],\n",
       "          [0., 0., 0., 0.]],\n",
       "\n",
       "         [[0., 0., 0., 0.],\n",
       "          [0., 0., 0., 0.],\n",
       "          [0., 0., 0., 0.]]],\n",
       "\n",
       "\n",
       "        [[[0., 0., 0., 0.],\n",
       "          [0., 0., 0., 0.],\n",
       "          [0., 0., 0., 0.]],\n",
       "\n",
       "         [[0., 0., 0., 0.],\n",
       "          [0., 0., 0., 0.],\n",
       "          [0., 0., 0., 0.]],\n",
       "\n",
       "         [[0., 0., 0., 0.],\n",
       "          [0., 0., 0., 0.],\n",
       "          [0., 0., 0., 0.]]]]])"
      ]
     },
     "execution_count": 64,
     "metadata": {},
     "output_type": "execute_result"
    }
   ],
   "source": [
    "arr2"
   ]
  },
  {
   "cell_type": "code",
   "execution_count": 66,
   "id": "e79d6db4-7092-4979-a2c2-7e9d96b19726",
   "metadata": {},
   "outputs": [
    {
     "data": {
      "text/plain": [
       "5"
      ]
     },
     "execution_count": 66,
     "metadata": {},
     "output_type": "execute_result"
    }
   ],
   "source": [
    "arr2.ndim"
   ]
  },
  {
   "cell_type": "code",
   "execution_count": 74,
   "id": "db9a7335-7804-4bf9-b2e9-195aaffe0aa0",
   "metadata": {},
   "outputs": [],
   "source": [
    "arr3 = np.zeros((3,5))"
   ]
  },
  {
   "cell_type": "code",
   "execution_count": 76,
   "id": "92caba54-53f1-468e-9986-6699120c4741",
   "metadata": {},
   "outputs": [
    {
     "data": {
      "text/plain": [
       "array([[0., 0., 0., 0., 0.],\n",
       "       [0., 0., 0., 0., 0.],\n",
       "       [0., 0., 0., 0., 0.]])"
      ]
     },
     "execution_count": 76,
     "metadata": {},
     "output_type": "execute_result"
    }
   ],
   "source": [
    "arr3"
   ]
  },
  {
   "cell_type": "code",
   "execution_count": 80,
   "id": "39e686fc-ce6c-4ad3-893d-7d0d01a94f78",
   "metadata": {},
   "outputs": [],
   "source": [
    "a = arr3 + 5"
   ]
  },
  {
   "cell_type": "code",
   "execution_count": 82,
   "id": "7ca5a838-9399-4de3-90c3-c72749165971",
   "metadata": {},
   "outputs": [
    {
     "data": {
      "text/plain": [
       "array([[5., 5., 5., 5., 5.],\n",
       "       [5., 5., 5., 5., 5.],\n",
       "       [5., 5., 5., 5., 5.]])"
      ]
     },
     "execution_count": 82,
     "metadata": {},
     "output_type": "execute_result"
    }
   ],
   "source": [
    "a"
   ]
  },
  {
   "cell_type": "code",
   "execution_count": 84,
   "id": "19c9cf4f-339f-479b-935f-0e597c770d1a",
   "metadata": {},
   "outputs": [
    {
     "data": {
      "text/plain": [
       "array([[10., 10., 10., 10., 10.],\n",
       "       [10., 10., 10., 10., 10.],\n",
       "       [10., 10., 10., 10., 10.]])"
      ]
     },
     "execution_count": 84,
     "metadata": {},
     "output_type": "execute_result"
    }
   ],
   "source": [
    "a * 2"
   ]
  },
  {
   "cell_type": "code",
   "execution_count": 86,
   "id": "bb170b48-5f87-4c28-8068-ad27560b1090",
   "metadata": {},
   "outputs": [
    {
     "data": {
      "text/plain": [
       "array([[5., 5., 5., 5., 5.],\n",
       "       [5., 5., 5., 5., 5.],\n",
       "       [5., 5., 5., 5., 5.]])"
      ]
     },
     "execution_count": 86,
     "metadata": {},
     "output_type": "execute_result"
    }
   ],
   "source": [
    "a"
   ]
  },
  {
   "cell_type": "code",
   "execution_count": 88,
   "id": "63f0d3d4-ff06-48e3-8c4e-cb11ccf127d3",
   "metadata": {},
   "outputs": [
    {
     "data": {
      "text/plain": [
       "array([[4., 4., 4., 4., 4.],\n",
       "       [4., 4., 4., 4., 4.],\n",
       "       [4., 4., 4., 4., 4.]])"
      ]
     },
     "execution_count": 88,
     "metadata": {},
     "output_type": "execute_result"
    }
   ],
   "source": [
    "a-1"
   ]
  },
  {
   "cell_type": "code",
   "execution_count": 90,
   "id": "1b0e9b8e-cf4e-4372-808d-99993826f267",
   "metadata": {},
   "outputs": [
    {
     "data": {
      "text/plain": [
       "array([[9., 9., 9., 9., 9.],\n",
       "       [9., 9., 9., 9., 9.],\n",
       "       [9., 9., 9., 9., 9.]])"
      ]
     },
     "execution_count": 90,
     "metadata": {},
     "output_type": "execute_result"
    }
   ],
   "source": [
    "a+4"
   ]
  },
  {
   "cell_type": "code",
   "execution_count": 94,
   "id": "1a9012cc-fc4b-4b13-948f-6930960a7fe7",
   "metadata": {},
   "outputs": [
    {
     "data": {
      "text/plain": [
       "array([[1., 0., 0.],\n",
       "       [0., 1., 0.],\n",
       "       [0., 0., 1.]])"
      ]
     },
     "execution_count": 94,
     "metadata": {},
     "output_type": "execute_result"
    }
   ],
   "source": [
    "np.eye(3) #Return a 2-D array with ones on the diagonal and zeros elsewhere."
   ]
  },
  {
   "cell_type": "code",
   "execution_count": 96,
   "id": "2884f3af-cffd-424f-a0e3-260973187780",
   "metadata": {},
   "outputs": [
    {
     "data": {
      "text/plain": [
       "array([[1, 0, 0, 0],\n",
       "       [0, 1, 0, 0],\n",
       "       [0, 0, 1, 0],\n",
       "       [0, 0, 0, 1]])"
      ]
     },
     "execution_count": 96,
     "metadata": {},
     "output_type": "execute_result"
    }
   ],
   "source": [
    "np.eye(4, dtype=int)"
   ]
  },
  {
   "cell_type": "code",
   "execution_count": 106,
   "id": "d310683d-9958-48ec-83d0-22bee6167475",
   "metadata": {},
   "outputs": [
    {
     "data": {
      "text/plain": [
       "array([[0., 0., 0., 0., 0.],\n",
       "       [0., 0., 0., 0., 0.],\n",
       "       [0., 0., 0., 0., 0.]])"
      ]
     },
     "execution_count": 106,
     "metadata": {},
     "output_type": "execute_result"
    }
   ],
   "source": [
    "np.empty((3, 5)) #Return a new array of given shape and type, without initializing entries. >> it means entries in array can be anything in the array"
   ]
  },
  {
   "cell_type": "code",
   "execution_count": 113,
   "id": "552b2fcd-6d54-4c9b-af4a-dfdab37bb263",
   "metadata": {},
   "outputs": [
    {
     "data": {
      "text/plain": [
       "6"
      ]
     },
     "execution_count": 113,
     "metadata": {},
     "output_type": "execute_result"
    }
   ],
   "source": [
    "import random\n",
    "random.choice((1,2,3,4,5,6))"
   ]
  },
  {
   "cell_type": "code",
   "execution_count": 115,
   "id": "0c8a85ba-7115-42a5-8eac-dfffaafd9cb0",
   "metadata": {},
   "outputs": [
    {
     "data": {
      "text/plain": [
       "'k'"
      ]
     },
     "execution_count": 115,
     "metadata": {},
     "output_type": "execute_result"
    }
   ],
   "source": [
    "random.choice(\"Lucky\")"
   ]
  },
  {
   "cell_type": "code",
   "execution_count": 117,
   "id": "22c7941e-df0b-4628-9e34-873026c90dcd",
   "metadata": {},
   "outputs": [
    {
     "data": {
      "text/plain": [
       "5"
      ]
     },
     "execution_count": 117,
     "metadata": {},
     "output_type": "execute_result"
    }
   ],
   "source": [
    "random.randrange(1, 10)"
   ]
  },
  {
   "cell_type": "code",
   "execution_count": 119,
   "id": "a1a6142a-5d54-4844-bdcb-aeb4f114d62b",
   "metadata": {},
   "outputs": [
    {
     "data": {
      "text/plain": [
       "0.39527718482485363"
      ]
     },
     "execution_count": 119,
     "metadata": {},
     "output_type": "execute_result"
    }
   ],
   "source": [
    "random.random()  # a random no generated between 0(included) and 1(excluded)"
   ]
  },
  {
   "cell_type": "code",
   "execution_count": 121,
   "id": "b5cde60d-3995-4600-aff9-76c02e5d13bb",
   "metadata": {},
   "outputs": [
    {
     "data": {
      "text/plain": [
       "[1, 2, 3, 4, 5, 6]"
      ]
     },
     "execution_count": 121,
     "metadata": {},
     "output_type": "execute_result"
    }
   ],
   "source": [
    "lis = [1,2,3,4,5,6]\n",
    "lis"
   ]
  },
  {
   "cell_type": "code",
   "execution_count": 123,
   "id": "cee1c687-c17d-46de-bd4c-1cbf69502b56",
   "metadata": {},
   "outputs": [],
   "source": [
    "random.shuffle(lis)"
   ]
  },
  {
   "cell_type": "code",
   "execution_count": 125,
   "id": "a43a2b37-e223-424d-97e8-487d87c46ed2",
   "metadata": {},
   "outputs": [
    {
     "data": {
      "text/plain": [
       "[6, 1, 3, 2, 5, 4]"
      ]
     },
     "execution_count": 125,
     "metadata": {},
     "output_type": "execute_result"
    }
   ],
   "source": [
    "lis"
   ]
  },
  {
   "cell_type": "code",
   "execution_count": 127,
   "id": "eb2f1967-4c85-4a4f-9dbd-56f18d8c1971",
   "metadata": {},
   "outputs": [
    {
     "data": {
      "text/plain": [
       "12.86499490284993"
      ]
     },
     "execution_count": 127,
     "metadata": {},
     "output_type": "execute_result"
    }
   ],
   "source": [
    "random.uniform(7,14)"
   ]
  },
  {
   "cell_type": "code",
   "execution_count": 129,
   "id": "a0affec2-0ffb-4614-b8fa-20dd82341fe1",
   "metadata": {},
   "outputs": [
    {
     "data": {
      "text/plain": [
       "array([], dtype=float64)"
      ]
     },
     "execution_count": 129,
     "metadata": {},
     "output_type": "execute_result"
    }
   ],
   "source": [
    "# random number related concept in numpy\n",
    "np.array([])"
   ]
  },
  {
   "cell_type": "code",
   "execution_count": 131,
   "id": "c7d4f2da-7e69-40e0-8382-c26456bd2c01",
   "metadata": {},
   "outputs": [
    {
     "data": {
      "text/plain": [
       "3"
      ]
     },
     "execution_count": 131,
     "metadata": {},
     "output_type": "execute_result"
    }
   ],
   "source": [
    "random.choice((1,2,3,4,5,6))"
   ]
  },
  {
   "cell_type": "code",
   "execution_count": 133,
   "id": "a7f58f18-4d45-45a0-8e3f-07e7f5962c64",
   "metadata": {},
   "outputs": [
    {
     "data": {
      "text/plain": [
       "0.6626489691888098"
      ]
     },
     "execution_count": 133,
     "metadata": {},
     "output_type": "execute_result"
    }
   ],
   "source": [
    "np.random.random_sample()"
   ]
  },
  {
   "cell_type": "code",
   "execution_count": 137,
   "id": "63badc54-1758-4c05-aa64-dba6188be893",
   "metadata": {},
   "outputs": [
    {
     "data": {
      "text/plain": [
       "array([0.85795603, 0.34865832, 0.9181982 , 0.29749265, 0.75404922])"
      ]
     },
     "execution_count": 137,
     "metadata": {},
     "output_type": "execute_result"
    }
   ],
   "source": [
    "np.random.random_sample((5, )) # 1D array of 5 rand nos"
   ]
  },
  {
   "cell_type": "code",
   "execution_count": 139,
   "id": "bdd1de42-1347-472b-b57d-f48669844f12",
   "metadata": {},
   "outputs": [
    {
     "data": {
      "text/plain": [
       "array([0.94199431])"
      ]
     },
     "execution_count": 139,
     "metadata": {},
     "output_type": "execute_result"
    }
   ],
   "source": [
    "np.random.rand(1)"
   ]
  },
  {
   "cell_type": "code",
   "execution_count": 141,
   "id": "c47d8e6f-e3a9-4fdd-9e3e-ae4b5a726920",
   "metadata": {
    "collapsed": true,
    "jupyter": {
     "outputs_hidden": true
    }
   },
   "outputs": [
    {
     "data": {
      "text/plain": [
       "array([[0.23729447, 0.8225498 , 0.64246787],\n",
       "       [0.55013922, 0.05594638, 0.76246371]])"
      ]
     },
     "execution_count": 141,
     "metadata": {},
     "output_type": "execute_result"
    }
   ],
   "source": [
    "np.random.rand(2,3)"
   ]
  },
  {
   "cell_type": "code",
   "execution_count": 143,
   "id": "fffe115a-04dc-4f8a-8939-822ebefc6009",
   "metadata": {},
   "outputs": [
    {
     "data": {
      "text/plain": [
       "array([[ 3.0880491 , -0.33465228,  1.60769425],\n",
       "       [ 0.06114027, -0.51459026,  0.52112412]])"
      ]
     },
     "execution_count": 143,
     "metadata": {},
     "output_type": "execute_result"
    }
   ],
   "source": [
    "np.random.randn(2,3) #Return a sample (or samples) from the \"standard normal\" distribution."
   ]
  },
  {
   "cell_type": "code",
   "execution_count": 155,
   "id": "a541941c-daf3-4d90-8b56-32770486c8c0",
   "metadata": {},
   "outputs": [],
   "source": [
    " arr4 = np.random.randint(1, 5, size = (3,4)) # start from 1 and end 5-1 and give array of shape 3,4"
   ]
  },
  {
   "cell_type": "code",
   "execution_count": 157,
   "id": "c579eab5-1e2a-41fa-b651-603147bce9c1",
   "metadata": {},
   "outputs": [
    {
     "data": {
      "text/plain": [
       "array([[2, 3, 4, 3],\n",
       "       [4, 4, 1, 3],\n",
       "       [2, 3, 4, 1]])"
      ]
     },
     "execution_count": 157,
     "metadata": {},
     "output_type": "execute_result"
    }
   ],
   "source": [
    "arr4"
   ]
  },
  {
   "cell_type": "code",
   "execution_count": 167,
   "id": "b3f3e55b-ab02-415d-828c-3ffb034f7c29",
   "metadata": {},
   "outputs": [
    {
     "data": {
      "text/plain": [
       "2"
      ]
     },
     "execution_count": 167,
     "metadata": {},
     "output_type": "execute_result"
    }
   ],
   "source": [
    "arr4.ndim"
   ]
  },
  {
   "cell_type": "code",
   "execution_count": 169,
   "id": "b14da3f1-ed1f-46c5-89b4-d504f5029a09",
   "metadata": {},
   "outputs": [
    {
     "data": {
      "text/plain": [
       "(3, 4)"
      ]
     },
     "execution_count": 169,
     "metadata": {},
     "output_type": "execute_result"
    }
   ],
   "source": [
    "arr4.shape"
   ]
  },
  {
   "cell_type": "code",
   "execution_count": 171,
   "id": "61d84628-ac38-49fa-80f2-a4e90dc7164f",
   "metadata": {},
   "outputs": [
    {
     "data": {
      "text/plain": [
       "12"
      ]
     },
     "execution_count": 171,
     "metadata": {},
     "output_type": "execute_result"
    }
   ],
   "source": [
    "arr4.size"
   ]
  },
  {
   "cell_type": "code",
   "execution_count": 175,
   "id": "eaaa456f-595d-485d-800f-81f66d0217b1",
   "metadata": {},
   "outputs": [],
   "source": [
    "# reshaping of array\n",
    "arr5 = arr4.reshape(2, 6) # Returns an array containing the same data with a new shape."
   ]
  },
  {
   "cell_type": "code",
   "execution_count": 177,
   "id": "a5d0423b-ca64-4884-86f4-f1345a8ef703",
   "metadata": {},
   "outputs": [
    {
     "data": {
      "text/plain": [
       "array([[2, 3, 4, 3, 4, 4],\n",
       "       [1, 3, 2, 3, 4, 1]])"
      ]
     },
     "execution_count": 177,
     "metadata": {},
     "output_type": "execute_result"
    }
   ],
   "source": [
    "arr5"
   ]
  },
  {
   "cell_type": "code",
   "execution_count": 179,
   "id": "655ea155-9701-40fa-82e5-4e3a3b74d800",
   "metadata": {},
   "outputs": [
    {
     "data": {
      "text/plain": [
       "12"
      ]
     },
     "execution_count": 179,
     "metadata": {},
     "output_type": "execute_result"
    }
   ],
   "source": [
    "arr5.size"
   ]
  },
  {
   "cell_type": "code",
   "execution_count": 181,
   "id": "f13be8dc-96a3-4622-aa47-82a1c0b62a24",
   "metadata": {},
   "outputs": [
    {
     "data": {
      "text/plain": [
       "(2, 6)"
      ]
     },
     "execution_count": 181,
     "metadata": {},
     "output_type": "execute_result"
    }
   ],
   "source": [
    "arr5.shape"
   ]
  },
  {
   "cell_type": "code",
   "execution_count": 183,
   "id": "9a1fdf2e-b884-4f2e-86be-f530d5143ef8",
   "metadata": {},
   "outputs": [
    {
     "data": {
      "text/plain": [
       "2"
      ]
     },
     "execution_count": 183,
     "metadata": {},
     "output_type": "execute_result"
    }
   ],
   "source": [
    "arr5.ndim"
   ]
  },
  {
   "cell_type": "code",
   "execution_count": 187,
   "id": "c435229b-f004-4d25-8307-21b02a534b42",
   "metadata": {},
   "outputs": [],
   "source": [
    "# array size will never change, always reshape parameter should be multilpecation of original array size"
   ]
  },
  {
   "cell_type": "code",
   "execution_count": 189,
   "id": "eabfea13-c659-4b59-bf88-35b555f4dd0f",
   "metadata": {},
   "outputs": [
    {
     "ename": "ValueError",
     "evalue": "cannot reshape array of size 12 into shape (3,2)",
     "output_type": "error",
     "traceback": [
      "\u001b[1;31m---------------------------------------------------------------------------\u001b[0m",
      "\u001b[1;31mValueError\u001b[0m                                Traceback (most recent call last)",
      "Cell \u001b[1;32mIn[189], line 1\u001b[0m\n\u001b[1;32m----> 1\u001b[0m \u001b[43marr4\u001b[49m\u001b[38;5;241;43m.\u001b[39;49m\u001b[43mreshape\u001b[49m\u001b[43m(\u001b[49m\u001b[38;5;241;43m3\u001b[39;49m\u001b[43m,\u001b[49m\u001b[38;5;241;43m2\u001b[39;49m\u001b[43m)\u001b[49m\n",
      "\u001b[1;31mValueError\u001b[0m: cannot reshape array of size 12 into shape (3,2)"
     ]
    }
   ],
   "source": [
    "arr4.reshape(3,2)"
   ]
  },
  {
   "cell_type": "code",
   "execution_count": 191,
   "id": "9faae2e5-2bf8-442b-a54d-f7f55c838895",
   "metadata": {},
   "outputs": [
    {
     "ename": "ValueError",
     "evalue": "cannot reshape array of size 12 into shape (3,5)",
     "output_type": "error",
     "traceback": [
      "\u001b[1;31m---------------------------------------------------------------------------\u001b[0m",
      "\u001b[1;31mValueError\u001b[0m                                Traceback (most recent call last)",
      "Cell \u001b[1;32mIn[191], line 1\u001b[0m\n\u001b[1;32m----> 1\u001b[0m \u001b[43marr4\u001b[49m\u001b[38;5;241;43m.\u001b[39;49m\u001b[43mreshape\u001b[49m\u001b[43m(\u001b[49m\u001b[38;5;241;43m3\u001b[39;49m\u001b[43m,\u001b[49m\u001b[38;5;241;43m5\u001b[39;49m\u001b[43m)\u001b[49m\n",
      "\u001b[1;31mValueError\u001b[0m: cannot reshape array of size 12 into shape (3,5)"
     ]
    }
   ],
   "source": [
    "arr4.reshape(3,5)"
   ]
  },
  {
   "cell_type": "code",
   "execution_count": 193,
   "id": "ca9d4254-17b4-41e7-a3c8-98078a2314c1",
   "metadata": {},
   "outputs": [
    {
     "data": {
      "text/plain": [
       "array([[2, 3, 4],\n",
       "       [3, 4, 4],\n",
       "       [1, 3, 2],\n",
       "       [3, 4, 1]])"
      ]
     },
     "execution_count": 193,
     "metadata": {},
     "output_type": "execute_result"
    }
   ],
   "source": [
    "arr4.reshape(4,3)"
   ]
  },
  {
   "cell_type": "code",
   "execution_count": 195,
   "id": "9b3dc815-8d68-4b5b-85b6-6a0993523910",
   "metadata": {},
   "outputs": [
    {
     "data": {
      "text/plain": [
       "array([[2, 3, 4, 3, 4, 4, 1, 3, 2, 3, 4, 1]])"
      ]
     },
     "execution_count": 195,
     "metadata": {},
     "output_type": "execute_result"
    }
   ],
   "source": [
    "arr4.reshape(1,12)"
   ]
  },
  {
   "cell_type": "code",
   "execution_count": 197,
   "id": "d9f599fa-2efc-4a02-865b-9fe9487098e8",
   "metadata": {},
   "outputs": [
    {
     "data": {
      "text/plain": [
       "array([[2],\n",
       "       [3],\n",
       "       [4],\n",
       "       [3],\n",
       "       [4],\n",
       "       [4],\n",
       "       [1],\n",
       "       [3],\n",
       "       [2],\n",
       "       [3],\n",
       "       [4],\n",
       "       [1]])"
      ]
     },
     "execution_count": 197,
     "metadata": {},
     "output_type": "execute_result"
    }
   ],
   "source": [
    "arr4.reshape(12,1)"
   ]
  },
  {
   "cell_type": "code",
   "execution_count": 199,
   "id": "a4eec6d4-6bff-485f-bb29-9fb4fa432298",
   "metadata": {},
   "outputs": [
    {
     "data": {
      "text/plain": [
       "array([[2, 3, 4],\n",
       "       [3, 4, 4],\n",
       "       [1, 3, 2],\n",
       "       [3, 4, 1]])"
      ]
     },
     "execution_count": 199,
     "metadata": {},
     "output_type": "execute_result"
    }
   ],
   "source": [
    "# cae when you dont know in reshape what should be the row or column count\n",
    "# use any negative value for rows or coloumn\n",
    "arr4.reshape(4, -1)"
   ]
  },
  {
   "cell_type": "code",
   "execution_count": 209,
   "id": "b315bcdf-dd73-4920-b8a3-f03c4dac6913",
   "metadata": {},
   "outputs": [
    {
     "ename": "ValueError",
     "evalue": "cannot reshape array of size 12 into shape (5)",
     "output_type": "error",
     "traceback": [
      "\u001b[1;31m---------------------------------------------------------------------------\u001b[0m",
      "\u001b[1;31mValueError\u001b[0m                                Traceback (most recent call last)",
      "Cell \u001b[1;32mIn[209], line 1\u001b[0m\n\u001b[1;32m----> 1\u001b[0m \u001b[43marr4\u001b[49m\u001b[38;5;241;43m.\u001b[39;49m\u001b[43mreshape\u001b[49m\u001b[43m(\u001b[49m\u001b[38;5;241;43m-\u001b[39;49m\u001b[38;5;241;43m1\u001b[39;49m\u001b[43m,\u001b[49m\u001b[43m \u001b[49m\u001b[38;5;241;43m5\u001b[39;49m\u001b[43m)\u001b[49m\n",
      "\u001b[1;31mValueError\u001b[0m: cannot reshape array of size 12 into shape (5)"
     ]
    }
   ],
   "source": [
    "arr4.reshape(-1, 5)"
   ]
  },
  {
   "cell_type": "code",
   "execution_count": 213,
   "id": "6f0210f1-fcb6-4ea9-96e7-e69c446e6457",
   "metadata": {},
   "outputs": [
    {
     "data": {
      "text/plain": [
       "array([[2, 3, 4, 3],\n",
       "       [4, 4, 1, 3],\n",
       "       [2, 3, 4, 1]])"
      ]
     },
     "execution_count": 213,
     "metadata": {},
     "output_type": "execute_result"
    }
   ],
   "source": [
    "arr4.reshape(12,1).base"
   ]
  },
  {
   "cell_type": "code",
   "execution_count": 217,
   "id": "314c3958-f9e0-4461-b829-7ef68ece96e2",
   "metadata": {},
   "outputs": [
    {
     "data": {
      "text/plain": [
       "array([[[2, 3, 4],\n",
       "        [3, 4, 4]],\n",
       "\n",
       "       [[1, 3, 2],\n",
       "        [3, 4, 1]]])"
      ]
     },
     "execution_count": 217,
     "metadata": {},
     "output_type": "execute_result"
    }
   ],
   "source": [
    "arr4.reshape(2,2,3) # multiplication should be equals to array size"
   ]
  },
  {
   "cell_type": "code",
   "execution_count": 219,
   "id": "bad82891-33bf-4b5b-b9f8-cf7dfe8b19f6",
   "metadata": {},
   "outputs": [
    {
     "data": {
      "text/plain": [
       "4"
      ]
     },
     "execution_count": 219,
     "metadata": {},
     "output_type": "execute_result"
    }
   ],
   "source": [
    "arr4.reshape(1,2,2,3).ndim"
   ]
  },
  {
   "cell_type": "code",
   "execution_count": 223,
   "id": "29047a9e-1f51-4d5d-a9af-bb6c628eec06",
   "metadata": {},
   "outputs": [
    {
     "data": {
      "text/plain": [
       "array([[[2],\n",
       "        [3],\n",
       "        [4]],\n",
       "\n",
       "       [[3],\n",
       "        [4],\n",
       "        [4]],\n",
       "\n",
       "       [[1],\n",
       "        [3],\n",
       "        [2]],\n",
       "\n",
       "       [[3],\n",
       "        [4],\n",
       "        [1]]])"
      ]
     },
     "execution_count": 223,
     "metadata": {},
     "output_type": "execute_result"
    }
   ],
   "source": [
    "arr4.reshape(4,3,1) # 3 rows 1 coloumn repeted 4 times in the third dimention"
   ]
  },
  {
   "cell_type": "code",
   "execution_count": 225,
   "id": "1c60b5ae-716a-4018-956c-e280a9a5e184",
   "metadata": {},
   "outputs": [],
   "source": [
    "# conditions on array\n",
    "arr6 = np.random.randint(1, 10, (5, 6))"
   ]
  },
  {
   "cell_type": "code",
   "execution_count": 227,
   "id": "c1fb96aa-7870-449a-ab0d-16fc315cccf4",
   "metadata": {},
   "outputs": [
    {
     "data": {
      "text/plain": [
       "array([[4, 5, 4, 5, 8, 9],\n",
       "       [5, 3, 7, 1, 8, 8],\n",
       "       [5, 3, 3, 4, 6, 4],\n",
       "       [6, 7, 2, 7, 7, 3],\n",
       "       [7, 5, 5, 1, 4, 2]])"
      ]
     },
     "execution_count": 227,
     "metadata": {},
     "output_type": "execute_result"
    }
   ],
   "source": [
    "arr6"
   ]
  },
  {
   "cell_type": "code",
   "execution_count": 229,
   "id": "8bfb74b1-e517-4298-8c81-b588ebafef1d",
   "metadata": {},
   "outputs": [
    {
     "data": {
      "text/plain": [
       "2"
      ]
     },
     "execution_count": 229,
     "metadata": {},
     "output_type": "execute_result"
    }
   ],
   "source": [
    "arr6.ndim"
   ]
  },
  {
   "cell_type": "code",
   "execution_count": 231,
   "id": "9c2bc57c-0283-4bb0-999f-ed7d850111b1",
   "metadata": {},
   "outputs": [
    {
     "data": {
      "text/plain": [
       "(5, 6)"
      ]
     },
     "execution_count": 231,
     "metadata": {},
     "output_type": "execute_result"
    }
   ],
   "source": [
    "arr6.shape"
   ]
  },
  {
   "cell_type": "code",
   "execution_count": 233,
   "id": "a355a3a1-b2f1-4bbe-ad40-989c466fb783",
   "metadata": {},
   "outputs": [
    {
     "data": {
      "text/plain": [
       "30"
      ]
     },
     "execution_count": 233,
     "metadata": {},
     "output_type": "execute_result"
    }
   ],
   "source": [
    "arr6.size"
   ]
  },
  {
   "cell_type": "code",
   "execution_count": 237,
   "id": "159850fc-361e-4639-a917-b48127a996d9",
   "metadata": {},
   "outputs": [
    {
     "data": {
      "text/plain": [
       "array([[ True,  True,  True,  True,  True,  True],\n",
       "       [ True, False,  True, False,  True,  True],\n",
       "       [ True, False, False,  True,  True,  True],\n",
       "       [ True,  True, False,  True,  True, False],\n",
       "       [ True,  True,  True, False,  True, False]])"
      ]
     },
     "execution_count": 237,
     "metadata": {},
     "output_type": "execute_result"
    }
   ],
   "source": [
    "arr6>3"
   ]
  },
  {
   "cell_type": "code",
   "execution_count": 239,
   "id": "b89fe4bd-724c-4af7-abac-d53b060610ce",
   "metadata": {},
   "outputs": [
    {
     "data": {
      "text/plain": [
       "array([4, 5, 4, 5, 8, 9, 5, 7, 8, 8, 5, 4, 6, 4, 6, 7, 7, 7, 7, 5, 5, 4])"
      ]
     },
     "execution_count": 239,
     "metadata": {},
     "output_type": "execute_result"
    }
   ],
   "source": [
    "arr6[arr6>3]  # select all the element of arr6 where the condition is true"
   ]
  },
  {
   "cell_type": "code",
   "execution_count": 241,
   "id": "476f980d-bb5f-40b7-ae85-3ea3c42b1558",
   "metadata": {},
   "outputs": [
    {
     "data": {
      "text/plain": [
       "array([1, 2, 1, 2])"
      ]
     },
     "execution_count": 241,
     "metadata": {},
     "output_type": "execute_result"
    }
   ],
   "source": [
    "arr6[arr6<3]"
   ]
  },
  {
   "cell_type": "code",
   "execution_count": 255,
   "id": "8f35fe63-9c98-413a-9b3b-a912de7e9bfb",
   "metadata": {},
   "outputs": [
    {
     "data": {
      "text/plain": [
       "array([[4, 5, 4, 5, 8, 9],\n",
       "       [5, 3, 7, 1, 8, 8],\n",
       "       [5, 3, 3, 4, 6, 4],\n",
       "       [6, 7, 2, 7, 7, 3],\n",
       "       [7, 5, 5, 1, 4, 2]])"
      ]
     },
     "execution_count": 255,
     "metadata": {},
     "output_type": "execute_result"
    }
   ],
   "source": [
    "# to access element in an array\n",
    "arr6"
   ]
  },
  {
   "cell_type": "code",
   "execution_count": 253,
   "id": "94621b93-1695-49d0-8e55-d8b5beeaa367",
   "metadata": {},
   "outputs": [
    {
     "data": {
      "text/plain": [
       "array([4, 5, 4, 5, 8, 9])"
      ]
     },
     "execution_count": 253,
     "metadata": {},
     "output_type": "execute_result"
    }
   ],
   "source": [
    "arr6[0]"
   ]
  },
  {
   "cell_type": "code",
   "execution_count": 245,
   "id": "5787815e-15d0-4314-a05b-a7816acfc437",
   "metadata": {},
   "outputs": [
    {
     "data": {
      "text/plain": [
       "array([6, 7, 2, 7, 7, 3])"
      ]
     },
     "execution_count": 245,
     "metadata": {},
     "output_type": "execute_result"
    }
   ],
   "source": [
    "arr6[3]"
   ]
  },
  {
   "cell_type": "code",
   "execution_count": 249,
   "id": "13e50eb7-bb72-471d-8574-3796caf12b55",
   "metadata": {},
   "outputs": [
    {
     "data": {
      "text/plain": [
       "4"
      ]
     },
     "execution_count": 249,
     "metadata": {},
     "output_type": "execute_result"
    }
   ],
   "source": [
    "arr6[2][3]"
   ]
  },
  {
   "cell_type": "code",
   "execution_count": 251,
   "id": "db6599a6-4cf4-4b71-81d5-9e0e72cb977f",
   "metadata": {},
   "outputs": [
    {
     "data": {
      "text/plain": [
       "4"
      ]
     },
     "execution_count": 251,
     "metadata": {},
     "output_type": "execute_result"
    }
   ],
   "source": [
    "arr6[2,3]"
   ]
  },
  {
   "cell_type": "code",
   "execution_count": 257,
   "id": "6b7c58ad-297b-4c9d-b24b-c551f27e093b",
   "metadata": {},
   "outputs": [
    {
     "data": {
      "text/plain": [
       "array([[4, 5, 4, 5, 8, 9],\n",
       "       [5, 3, 7, 1, 8, 8],\n",
       "       [5, 3, 3, 4, 6, 4]])"
      ]
     },
     "execution_count": 257,
     "metadata": {},
     "output_type": "execute_result"
    }
   ],
   "source": [
    "#from 0th row to 2nd row\n",
    "arr6[0:3]"
   ]
  },
  {
   "cell_type": "code",
   "execution_count": 265,
   "id": "d4c03099-101a-4742-a41a-46fd901d40fb",
   "metadata": {},
   "outputs": [
    {
     "data": {
      "text/plain": [
       "array([[4, 5, 4, 5, 8, 9],\n",
       "       [5, 3, 7, 1, 8, 8],\n",
       "       [5, 3, 3, 4, 6, 4],\n",
       "       [6, 7, 2, 7, 7, 3],\n",
       "       [7, 5, 5, 1, 4, 2]])"
      ]
     },
     "execution_count": 265,
     "metadata": {},
     "output_type": "execute_result"
    }
   ],
   "source": [
    "arr6"
   ]
  },
  {
   "cell_type": "code",
   "execution_count": 261,
   "id": "b8f721d2-eee6-4571-ad33-5b6b1cc9bc46",
   "metadata": {},
   "outputs": [
    {
     "data": {
      "text/plain": [
       "array([[4, 4],\n",
       "       [5, 7],\n",
       "       [5, 3]])"
      ]
     },
     "execution_count": 261,
     "metadata": {},
     "output_type": "execute_result"
    }
   ],
   "source": [
    "# 0th to 2nd row and 0th and 2nd column\n",
    "arr6[0:3,[0,2]]"
   ]
  },
  {
   "cell_type": "code",
   "execution_count": 267,
   "id": "c741f4d2-03b1-4606-98e5-e758ded6bbbb",
   "metadata": {},
   "outputs": [
    {
     "data": {
      "text/plain": [
       "array([[4, 5, 4, 5, 8, 9],\n",
       "       [5, 3, 7, 1, 8, 8],\n",
       "       [5, 3, 3, 4, 6, 4],\n",
       "       [6, 7, 2, 7, 7, 3],\n",
       "       [7, 5, 5, 1, 4, 2]])"
      ]
     },
     "execution_count": 267,
     "metadata": {},
     "output_type": "execute_result"
    }
   ],
   "source": [
    "arr6"
   ]
  },
  {
   "cell_type": "code",
   "execution_count": 269,
   "id": "39aea5c3-440d-40a8-ba80-c9185c0ed009",
   "metadata": {},
   "outputs": [
    {
     "data": {
      "text/plain": [
       "array([[5, 4],\n",
       "       [3, 7],\n",
       "       [3, 3]])"
      ]
     },
     "execution_count": 269,
     "metadata": {},
     "output_type": "execute_result"
    }
   ],
   "source": [
    "# slicing on both rows and columns together\n",
    "arr6[0:3, 1:3]"
   ]
  },
  {
   "cell_type": "code",
   "execution_count": 271,
   "id": "f3257ef8-9330-491d-84ac-7a80afca3ae6",
   "metadata": {},
   "outputs": [
    {
     "data": {
      "text/plain": [
       "array([[4, 5],\n",
       "       [5, 3],\n",
       "       [5, 3]])"
      ]
     },
     "execution_count": 271,
     "metadata": {},
     "output_type": "execute_result"
    }
   ],
   "source": [
    "arr6[0:3, [0,1]]"
   ]
  },
  {
   "cell_type": "code",
   "execution_count": 273,
   "id": "443d7a69-0726-4ecd-a3e1-d8492341f915",
   "metadata": {},
   "outputs": [
    {
     "data": {
      "text/plain": [
       "array([[4, 6, 4],\n",
       "       [7, 7, 3],\n",
       "       [1, 4, 2]])"
      ]
     },
     "execution_count": 273,
     "metadata": {},
     "output_type": "execute_result"
    }
   ],
   "source": [
    "arr6[2: , [3,4,5]]"
   ]
  },
  {
   "cell_type": "code",
   "execution_count": 277,
   "id": "7588c0b6-6169-44c4-9091-9a11b3e2eda8",
   "metadata": {},
   "outputs": [],
   "source": [
    "# mathematical operations on two arrays\n",
    "arr7 = np.random.randint(1,3,(3,3))\n",
    "arr8 = np.random.randint(1,3,(3,3))"
   ]
  },
  {
   "cell_type": "code",
   "execution_count": 279,
   "id": "e4a13922-6314-44b8-b473-defb15d81bde",
   "metadata": {},
   "outputs": [
    {
     "data": {
      "text/plain": [
       "array([[2, 1, 1],\n",
       "       [2, 2, 1],\n",
       "       [2, 2, 2]])"
      ]
     },
     "execution_count": 279,
     "metadata": {},
     "output_type": "execute_result"
    }
   ],
   "source": [
    "arr7"
   ]
  },
  {
   "cell_type": "code",
   "execution_count": 281,
   "id": "c17660b7-6de7-4d78-b683-cd3e6e1e43cc",
   "metadata": {},
   "outputs": [
    {
     "data": {
      "text/plain": [
       "array([[1, 2, 1],\n",
       "       [2, 1, 2],\n",
       "       [2, 2, 1]])"
      ]
     },
     "execution_count": 281,
     "metadata": {},
     "output_type": "execute_result"
    }
   ],
   "source": [
    "arr8"
   ]
  },
  {
   "cell_type": "code",
   "execution_count": 287,
   "id": "0023d990-d5c8-4ac0-a931-48b04fdcba1a",
   "metadata": {},
   "outputs": [
    {
     "data": {
      "text/plain": [
       "array([[3, 3, 2],\n",
       "       [4, 3, 3],\n",
       "       [4, 4, 3]])"
      ]
     },
     "execution_count": 287,
     "metadata": {},
     "output_type": "execute_result"
    }
   ],
   "source": [
    "arr7+arr8 # indexwise element addition"
   ]
  },
  {
   "cell_type": "code",
   "execution_count": 289,
   "id": "c48f0238-6b0a-4bd5-9d07-657abe174174",
   "metadata": {},
   "outputs": [
    {
     "data": {
      "text/plain": [
       "array([[ 1, -1,  0],\n",
       "       [ 0,  1, -1],\n",
       "       [ 0,  0,  1]])"
      ]
     },
     "execution_count": 289,
     "metadata": {},
     "output_type": "execute_result"
    }
   ],
   "source": [
    "arr7-arr8 # indexwise element subtranction"
   ]
  },
  {
   "cell_type": "code",
   "execution_count": 291,
   "id": "1b52ee2e-43fd-4ed9-a9c7-4d9e9efc6bb6",
   "metadata": {},
   "outputs": [
    {
     "data": {
      "text/plain": [
       "array([[2, 2, 1],\n",
       "       [4, 2, 2],\n",
       "       [4, 4, 2]])"
      ]
     },
     "execution_count": 291,
     "metadata": {},
     "output_type": "execute_result"
    }
   ],
   "source": [
    "arr7*arr8  # indexwise element multiplication"
   ]
  },
  {
   "cell_type": "code",
   "execution_count": 293,
   "id": "b5703a52-417e-4ab3-a4e1-da0101fe0f3e",
   "metadata": {},
   "outputs": [
    {
     "data": {
      "text/plain": [
       "(array([[2, 1, 1],\n",
       "        [2, 2, 1],\n",
       "        [2, 2, 2]]),\n",
       " array([[1, 2, 1],\n",
       "        [2, 1, 2],\n",
       "        [2, 2, 1]]))"
      ]
     },
     "execution_count": 293,
     "metadata": {},
     "output_type": "execute_result"
    }
   ],
   "source": [
    "arr7, arr8"
   ]
  },
  {
   "cell_type": "code",
   "execution_count": 295,
   "id": "83518ba2-37ff-47a3-8db5-df658253b545",
   "metadata": {},
   "outputs": [
    {
     "data": {
      "text/plain": [
       "array([[2. , 0.5, 1. ],\n",
       "       [1. , 2. , 0.5],\n",
       "       [1. , 1. , 2. ]])"
      ]
     },
     "execution_count": 295,
     "metadata": {},
     "output_type": "execute_result"
    }
   ],
   "source": [
    "arr7/arr8  # indexwise element division"
   ]
  },
  {
   "cell_type": "code",
   "execution_count": 297,
   "id": "4f314df6-b485-45ef-a355-216606858b26",
   "metadata": {},
   "outputs": [
    {
     "ename": "ZeroDivisionError",
     "evalue": "division by zero",
     "output_type": "error",
     "traceback": [
      "\u001b[1;31m---------------------------------------------------------------------------\u001b[0m",
      "\u001b[1;31mZeroDivisionError\u001b[0m                         Traceback (most recent call last)",
      "Cell \u001b[1;32mIn[297], line 1\u001b[0m\n\u001b[1;32m----> 1\u001b[0m \u001b[38;5;241;43m4\u001b[39;49m\u001b[38;5;241;43m/\u001b[39;49m\u001b[38;5;241;43m0\u001b[39;49m\n",
      "\u001b[1;31mZeroDivisionError\u001b[0m: division by zero"
     ]
    }
   ],
   "source": [
    "4/0"
   ]
  },
  {
   "cell_type": "code",
   "execution_count": 299,
   "id": "6ed737ec-1a50-462a-b7dc-c32d6220d991",
   "metadata": {},
   "outputs": [
    {
     "name": "stderr",
     "output_type": "stream",
     "text": [
      "C:\\Users\\Lucky Kaushik\\AppData\\Local\\Temp\\ipykernel_12144\\3671141249.py:1: RuntimeWarning: divide by zero encountered in divide\n",
      "  arr7/0\n"
     ]
    },
    {
     "data": {
      "text/plain": [
       "array([[inf, inf, inf],\n",
       "       [inf, inf, inf],\n",
       "       [inf, inf, inf]])"
      ]
     },
     "execution_count": 299,
     "metadata": {},
     "output_type": "execute_result"
    }
   ],
   "source": [
    "arr7/0"
   ]
  },
  {
   "cell_type": "code",
   "execution_count": 301,
   "id": "005fc342-8795-42bc-92ff-c55ea11f162d",
   "metadata": {},
   "outputs": [],
   "source": [
    "# matrix multiplication >> matrix is a specialised 2D array\n",
    "# matrix multiplication is different from index wise multiplication"
   ]
  },
  {
   "cell_type": "code",
   "execution_count": 303,
   "id": "40ce0ef7-de34-4036-84ae-c73b090edacb",
   "metadata": {},
   "outputs": [
    {
     "data": {
      "text/plain": [
       "array([[ 6,  7,  5],\n",
       "       [ 8,  8,  7],\n",
       "       [10, 10,  8]])"
      ]
     },
     "execution_count": 303,
     "metadata": {},
     "output_type": "execute_result"
    }
   ],
   "source": [
    "arr7 @ arr8  # matrix multiplication"
   ]
  },
  {
   "cell_type": "code",
   "execution_count": 305,
   "id": "9d73dae1-57be-492f-afc3-11298b17aca6",
   "metadata": {},
   "outputs": [
    {
     "data": {
      "text/plain": [
       "array([[2, 2, 1],\n",
       "       [4, 2, 2],\n",
       "       [4, 4, 2]])"
      ]
     },
     "execution_count": 305,
     "metadata": {},
     "output_type": "execute_result"
    }
   ],
   "source": [
    "arr7 * arr8  # index wise multiplication"
   ]
  },
  {
   "cell_type": "code",
   "execution_count": 307,
   "id": "cc415672-8574-4155-acda-9e1839aba9c4",
   "metadata": {},
   "outputs": [
    {
     "data": {
      "text/plain": [
       "array([[ 6,  7,  5],\n",
       "       [ 8,  8,  7],\n",
       "       [10, 10,  8]])"
      ]
     },
     "execution_count": 307,
     "metadata": {},
     "output_type": "execute_result"
    }
   ],
   "source": [
    "np.dot(arr7,arr8)  # another way of matrix multiplication"
   ]
  },
  {
   "cell_type": "code",
   "execution_count": 309,
   "id": "ca647315-49bf-477c-8d50-8df491d4665a",
   "metadata": {},
   "outputs": [
    {
     "data": {
      "text/plain": [
       "array([[ 8,  7,  5],\n",
       "       [10,  8,  7],\n",
       "       [10,  8,  6]])"
      ]
     },
     "execution_count": 309,
     "metadata": {},
     "output_type": "execute_result"
    }
   ],
   "source": [
    "np.dot(arr8, arr7) "
   ]
  },
  {
   "cell_type": "code",
   "execution_count": 311,
   "id": "efe5a638-003d-43fd-a58a-ec2d2a332fe0",
   "metadata": {},
   "outputs": [],
   "source": [
    "# brodcasting"
   ]
  },
  {
   "cell_type": "code",
   "execution_count": 323,
   "id": "c2a6aae3-4c41-4d5e-bf81-269371f3e0c8",
   "metadata": {},
   "outputs": [],
   "source": [
    "arr9 = np.zeros((3,4))"
   ]
  },
  {
   "cell_type": "code",
   "execution_count": 325,
   "id": "49285306-a961-458b-8bf9-64b02648e399",
   "metadata": {},
   "outputs": [
    {
     "data": {
      "text/plain": [
       "array([[0., 0., 0., 0.],\n",
       "       [0., 0., 0., 0.],\n",
       "       [0., 0., 0., 0.]])"
      ]
     },
     "execution_count": 325,
     "metadata": {},
     "output_type": "execute_result"
    }
   ],
   "source": [
    "arr9"
   ]
  },
  {
   "cell_type": "code",
   "execution_count": 327,
   "id": "3d39285b-15b7-4b1c-af12-94759a50fddd",
   "metadata": {},
   "outputs": [
    {
     "data": {
      "text/plain": [
       "array([[7., 7., 7., 7.],\n",
       "       [7., 7., 7., 7.],\n",
       "       [7., 7., 7., 7.]])"
      ]
     },
     "execution_count": 327,
     "metadata": {},
     "output_type": "execute_result"
    }
   ],
   "source": [
    "arr9+7"
   ]
  },
  {
   "cell_type": "code",
   "execution_count": 329,
   "id": "fc65ad80-b29d-4d38-afe7-420a8b9a519f",
   "metadata": {},
   "outputs": [
    {
     "data": {
      "text/plain": [
       "array([[1., 2., 3., 4.],\n",
       "       [1., 2., 3., 4.],\n",
       "       [1., 2., 3., 4.]])"
      ]
     },
     "execution_count": 329,
     "metadata": {},
     "output_type": "execute_result"
    }
   ],
   "source": [
    "arr9 + [1,2,3,4]"
   ]
  },
  {
   "cell_type": "code",
   "execution_count": 331,
   "id": "a73e0065-3490-404f-acba-9c3111a2dfa1",
   "metadata": {},
   "outputs": [],
   "source": [
    "# Transpose >> converting rows to column and column to rows"
   ]
  },
  {
   "cell_type": "code",
   "execution_count": 355,
   "id": "e6dc700d-5092-4fee-8be4-a1061e6effd5",
   "metadata": {},
   "outputs": [],
   "source": [
    "arr10 = np.random.randint(1, 10, (3, 4))"
   ]
  },
  {
   "cell_type": "code",
   "execution_count": 357,
   "id": "e46e40af-2842-46d8-8cfb-82c1b95ed1d7",
   "metadata": {},
   "outputs": [
    {
     "data": {
      "text/plain": [
       "array([[7, 5, 8, 1],\n",
       "       [7, 1, 9, 6],\n",
       "       [9, 7, 2, 3]])"
      ]
     },
     "execution_count": 357,
     "metadata": {},
     "output_type": "execute_result"
    }
   ],
   "source": [
    "arr10"
   ]
  },
  {
   "cell_type": "code",
   "execution_count": 359,
   "id": "217406cc-1fd1-461b-8971-89439823a5cf",
   "metadata": {},
   "outputs": [
    {
     "data": {
      "text/plain": [
       "array([[7, 7, 9],\n",
       "       [5, 1, 7],\n",
       "       [8, 9, 2],\n",
       "       [1, 6, 3]])"
      ]
     },
     "execution_count": 359,
     "metadata": {},
     "output_type": "execute_result"
    }
   ],
   "source": [
    "arr10.T"
   ]
  },
  {
   "cell_type": "markdown",
   "id": "012211a4-ff44-4546-a7a3-110b25f82034",
   "metadata": {},
   "source": [
    "NUMPY ADVANCE LECTURE 2 :"
   ]
  },
  {
   "cell_type": "code",
   "execution_count": 363,
   "id": "158a20a2-3d16-42d5-ba12-01a8c5f2d709",
   "metadata": {},
   "outputs": [],
   "source": [
    "import numpy as np"
   ]
  },
  {
   "cell_type": "code",
   "execution_count": 375,
   "id": "3fbe2e63-a30e-46c6-aaa8-21c19e2b83c1",
   "metadata": {},
   "outputs": [],
   "source": [
    "arr11 = np.random.randint(1, 5, (3,3))\n",
    "arr12 = np.random.randint(1, 3, (3,3))"
   ]
  },
  {
   "cell_type": "code",
   "execution_count": 377,
   "id": "7240cc62-f6e0-4dc8-a8f9-ad51d597e2e4",
   "metadata": {},
   "outputs": [
    {
     "data": {
      "text/plain": [
       "array([[3, 3, 2],\n",
       "       [2, 2, 2],\n",
       "       [3, 3, 4]])"
      ]
     },
     "execution_count": 377,
     "metadata": {},
     "output_type": "execute_result"
    }
   ],
   "source": [
    "arr11"
   ]
  },
  {
   "cell_type": "code",
   "execution_count": 379,
   "id": "2a3b3d45-3349-476f-b308-817f06025336",
   "metadata": {},
   "outputs": [
    {
     "data": {
      "text/plain": [
       "array([[2, 1, 1],\n",
       "       [2, 1, 2],\n",
       "       [1, 1, 1]])"
      ]
     },
     "execution_count": 379,
     "metadata": {},
     "output_type": "execute_result"
    }
   ],
   "source": [
    "arr12"
   ]
  },
  {
   "cell_type": "code",
   "execution_count": 381,
   "id": "2a631c78-4b8c-4e74-9c8d-6e9bc97e4f7b",
   "metadata": {},
   "outputs": [
    {
     "data": {
      "text/plain": [
       "array([3, 3, 2, 2, 2, 2, 3, 3, 4])"
      ]
     },
     "execution_count": 381,
     "metadata": {},
     "output_type": "execute_result"
    }
   ],
   "source": [
    "arr11.flatten()  #Return a copy of the array collapsed into one dimension."
   ]
  },
  {
   "cell_type": "code",
   "execution_count": 383,
   "id": "7aebe6da-d745-4d5f-bfe9-cc57481bddf3",
   "metadata": {},
   "outputs": [],
   "source": [
    "arr13 = np.array([1,2,3,4,5,6])"
   ]
  },
  {
   "cell_type": "code",
   "execution_count": 385,
   "id": "609d2643-10cf-48a5-8911-bb03cd48ce00",
   "metadata": {},
   "outputs": [
    {
     "data": {
      "text/plain": [
       "array([1, 2, 3, 4, 5, 6])"
      ]
     },
     "execution_count": 385,
     "metadata": {},
     "output_type": "execute_result"
    }
   ],
   "source": [
    "arr13"
   ]
  },
  {
   "cell_type": "code",
   "execution_count": 387,
   "id": "d39223e1-4932-46ba-aef8-31ebfecca02f",
   "metadata": {},
   "outputs": [
    {
     "data": {
      "text/plain": [
       "1"
      ]
     },
     "execution_count": 387,
     "metadata": {},
     "output_type": "execute_result"
    }
   ],
   "source": [
    "arr13.ndim"
   ]
  },
  {
   "cell_type": "code",
   "execution_count": 391,
   "id": "ec5c29e3-c18a-401c-96b2-904183452340",
   "metadata": {},
   "outputs": [
    {
     "data": {
      "text/plain": [
       "array([[1, 2, 3, 4, 5, 6]])"
      ]
     },
     "execution_count": 391,
     "metadata": {},
     "output_type": "execute_result"
    }
   ],
   "source": [
    "np.expand_dims(arr13, axis=0) # increse the dimension by 1 in the provided axis, 0 means rows(x axis) 1 means column wise(y axis)"
   ]
  },
  {
   "cell_type": "code",
   "execution_count": 393,
   "id": "9ae78d6a-8534-42c4-83cd-7cd6c0f09d68",
   "metadata": {},
   "outputs": [
    {
     "data": {
      "text/plain": [
       "array([[1],\n",
       "       [2],\n",
       "       [3],\n",
       "       [4],\n",
       "       [5],\n",
       "       [6]])"
      ]
     },
     "execution_count": 393,
     "metadata": {},
     "output_type": "execute_result"
    }
   ],
   "source": [
    "np.expand_dims(arr13, axis=1)"
   ]
  },
  {
   "cell_type": "code",
   "execution_count": 395,
   "id": "14d237a3-f4cc-44d6-b859-9b82451120c5",
   "metadata": {},
   "outputs": [
    {
     "data": {
      "text/plain": [
       "2"
      ]
     },
     "execution_count": 395,
     "metadata": {},
     "output_type": "execute_result"
    }
   ],
   "source": [
    "np.expand_dims(arr13, axis=1).ndim"
   ]
  },
  {
   "cell_type": "code",
   "execution_count": 401,
   "id": "b1db92fa-be31-4357-8bcd-d4701c051b5d",
   "metadata": {},
   "outputs": [
    {
     "data": {
      "text/plain": [
       "array([[0., 0., 0., 0., 0.],\n",
       "       [0., 0., 0., 0., 0.],\n",
       "       [0., 0., 0., 0., 0.]])"
      ]
     },
     "execution_count": 401,
     "metadata": {},
     "output_type": "execute_result"
    }
   ],
   "source": [
    "arr3"
   ]
  },
  {
   "cell_type": "code",
   "execution_count": 407,
   "id": "f3acb7a6-f40a-4c45-9a57-60366672ff57",
   "metadata": {},
   "outputs": [
    {
     "data": {
      "text/plain": [
       "array([[[0., 0., 0., 0., 0.]],\n",
       "\n",
       "       [[0., 0., 0., 0., 0.]],\n",
       "\n",
       "       [[0., 0., 0., 0., 0.]]])"
      ]
     },
     "execution_count": 407,
     "metadata": {},
     "output_type": "execute_result"
    }
   ],
   "source": [
    "np.expand_dims(arr3, axis=1)"
   ]
  },
  {
   "cell_type": "code",
   "execution_count": 409,
   "id": "7fac5942-6af4-491a-a22b-91c58b5a2e46",
   "metadata": {},
   "outputs": [
    {
     "data": {
      "text/plain": [
       "3"
      ]
     },
     "execution_count": 409,
     "metadata": {},
     "output_type": "execute_result"
    }
   ],
   "source": [
    "np.expand_dims(arr3, axis=1).ndim"
   ]
  },
  {
   "cell_type": "code",
   "execution_count": 421,
   "id": "9eaed1b0-686e-416a-9fc7-fcff9e298c9a",
   "metadata": {},
   "outputs": [],
   "source": [
    "arr14 = np.array([[1],[2],[3]])"
   ]
  },
  {
   "cell_type": "code",
   "execution_count": 423,
   "id": "7d82a126-8170-4987-a7c7-ff69c6cc8d9a",
   "metadata": {},
   "outputs": [
    {
     "data": {
      "text/plain": [
       "array([[1],\n",
       "       [2],\n",
       "       [3]])"
      ]
     },
     "execution_count": 423,
     "metadata": {},
     "output_type": "execute_result"
    }
   ],
   "source": [
    "arr14"
   ]
  },
  {
   "cell_type": "code",
   "execution_count": 425,
   "id": "4b582471-ab0e-48ab-aef8-22ad466a8403",
   "metadata": {},
   "outputs": [
    {
     "data": {
      "text/plain": [
       "2"
      ]
     },
     "execution_count": 425,
     "metadata": {},
     "output_type": "execute_result"
    }
   ],
   "source": [
    "arr14.ndim"
   ]
  },
  {
   "cell_type": "code",
   "execution_count": 427,
   "id": "48a69632-68b5-44ba-9cf0-0dedb9d82f5b",
   "metadata": {},
   "outputs": [
    {
     "data": {
      "text/plain": [
       "array([1, 2, 3])"
      ]
     },
     "execution_count": 427,
     "metadata": {},
     "output_type": "execute_result"
    }
   ],
   "source": [
    "# squeezing the dimension\n",
    "np.squeeze(arr14)  #Remove axes of length one from `a`."
   ]
  },
  {
   "cell_type": "code",
   "execution_count": 429,
   "id": "4cfc5d76-7716-4e7b-b965-3566709dd99d",
   "metadata": {},
   "outputs": [
    {
     "data": {
      "text/plain": [
       "1"
      ]
     },
     "execution_count": 429,
     "metadata": {},
     "output_type": "execute_result"
    }
   ],
   "source": [
    "np.squeeze(arr14).ndim"
   ]
  },
  {
   "cell_type": "code",
   "execution_count": 433,
   "id": "dcaa57bb-8830-4002-bbb8-010afec9b043",
   "metadata": {},
   "outputs": [
    {
     "data": {
      "text/plain": [
       "array([1, 1, 1, 1, 1, 2, 2, 2, 2, 2, 3, 3, 3, 3, 3])"
      ]
     },
     "execution_count": 433,
     "metadata": {},
     "output_type": "execute_result"
    }
   ],
   "source": [
    "np.repeat(arr14, 5)"
   ]
  },
  {
   "cell_type": "code",
   "execution_count": 443,
   "id": "67af4956-9a50-4b32-be6f-62041037f8b2",
   "metadata": {},
   "outputs": [
    {
     "data": {
      "text/plain": [
       "array([2, 2, 2, 1, 1, 1, 1, 1, 1, 2, 2, 2, 1, 1, 1, 2, 2, 2, 1, 1, 1, 1,\n",
       "       1, 1, 1, 1, 1])"
      ]
     },
     "execution_count": 443,
     "metadata": {},
     "output_type": "execute_result"
    }
   ],
   "source": [
    "np.repeat(arr12, 3)"
   ]
  },
  {
   "cell_type": "code",
   "execution_count": 445,
   "id": "6c6ea326-55d4-46cc-8fbd-1deec38bdc64",
   "metadata": {},
   "outputs": [
    {
     "data": {
      "text/plain": [
       "array([[2, 1, 1],\n",
       "       [2, 1, 1],\n",
       "       [2, 1, 1],\n",
       "       [2, 1, 2],\n",
       "       [2, 1, 2],\n",
       "       [2, 1, 2],\n",
       "       [1, 1, 1],\n",
       "       [1, 1, 1],\n",
       "       [1, 1, 1]])"
      ]
     },
     "execution_count": 445,
     "metadata": {},
     "output_type": "execute_result"
    }
   ],
   "source": [
    "np.repeat(arr12, 3, axis=0)"
   ]
  },
  {
   "cell_type": "code",
   "execution_count": 447,
   "id": "186280a4-7665-4fc4-a888-f125dddf3ad4",
   "metadata": {},
   "outputs": [
    {
     "data": {
      "text/plain": [
       "array([[1],\n",
       "       [1],\n",
       "       [1],\n",
       "       [1],\n",
       "       [1],\n",
       "       [2],\n",
       "       [2],\n",
       "       [2],\n",
       "       [2],\n",
       "       [2],\n",
       "       [3],\n",
       "       [3],\n",
       "       [3],\n",
       "       [3],\n",
       "       [3]])"
      ]
     },
     "execution_count": 447,
     "metadata": {},
     "output_type": "execute_result"
    }
   ],
   "source": [
    "np.repeat(arr14, 5, axis=0)"
   ]
  },
  {
   "cell_type": "code",
   "execution_count": 455,
   "id": "e02291d1-9785-416e-b91e-71927ee4f0e3",
   "metadata": {},
   "outputs": [
    {
     "data": {
      "text/plain": [
       "array([[2, 3, 4, 3],\n",
       "       [2, 3, 4, 3],\n",
       "       [4, 4, 1, 3],\n",
       "       [4, 4, 1, 3],\n",
       "       [2, 3, 4, 1],\n",
       "       [2, 3, 4, 1]])"
      ]
     },
     "execution_count": 455,
     "metadata": {},
     "output_type": "execute_result"
    }
   ],
   "source": [
    "np.repeat(arr4, 2, axis=0)"
   ]
  },
  {
   "cell_type": "code",
   "execution_count": 457,
   "id": "8534814d-4e03-480c-9e95-54a0785fddfb",
   "metadata": {},
   "outputs": [
    {
     "data": {
      "text/plain": [
       "array([[2, 2, 3, 3, 4, 4, 3, 3],\n",
       "       [4, 4, 4, 4, 1, 1, 3, 3],\n",
       "       [2, 2, 3, 3, 4, 4, 1, 1]])"
      ]
     },
     "execution_count": 457,
     "metadata": {},
     "output_type": "execute_result"
    }
   ],
   "source": [
    "np.repeat(arr4, 2, axis=1)"
   ]
  },
  {
   "cell_type": "code",
   "execution_count": 465,
   "id": "1c666847-8368-4783-9af7-2d1a36459439",
   "metadata": {},
   "outputs": [
    {
     "data": {
      "text/plain": [
       "array([[1, 1, 2],\n",
       "       [1, 2, 1],\n",
       "       [1, 1, 2]])"
      ]
     },
     "execution_count": 465,
     "metadata": {},
     "output_type": "execute_result"
    }
   ],
   "source": [
    "np.roll(arr12, -1)  # shift place"
   ]
  },
  {
   "cell_type": "code",
   "execution_count": 467,
   "id": "1c014a42-88c3-46f4-8198-c13baa4f443e",
   "metadata": {},
   "outputs": [
    {
     "data": {
      "text/plain": [
       "array([[2, 1, 1],\n",
       "       [2, 1, 2],\n",
       "       [1, 1, 1]])"
      ]
     },
     "execution_count": 467,
     "metadata": {},
     "output_type": "execute_result"
    }
   ],
   "source": [
    "arr12"
   ]
  },
  {
   "cell_type": "code",
   "execution_count": 473,
   "id": "4d3124d4-43ad-4058-818c-b72c5c170725",
   "metadata": {},
   "outputs": [
    {
     "data": {
      "text/plain": [
       "array([[1],\n",
       "       [2],\n",
       "       [3]])"
      ]
     },
     "execution_count": 473,
     "metadata": {},
     "output_type": "execute_result"
    }
   ],
   "source": [
    "arr14"
   ]
  },
  {
   "cell_type": "code",
   "execution_count": 475,
   "id": "1c387f3c-762b-4ae8-9a51-7c912e821619",
   "metadata": {},
   "outputs": [
    {
     "data": {
      "text/plain": [
       "array([[2],\n",
       "       [3],\n",
       "       [1]])"
      ]
     },
     "execution_count": 475,
     "metadata": {},
     "output_type": "execute_result"
    }
   ],
   "source": [
    "np.roll(arr14, -1)"
   ]
  },
  {
   "cell_type": "code",
   "execution_count": 477,
   "id": "4c87e222-9868-4a9c-aedc-357ed67cb0e0",
   "metadata": {},
   "outputs": [
    {
     "data": {
      "text/plain": [
       "array([[3],\n",
       "       [1],\n",
       "       [2]])"
      ]
     },
     "execution_count": 477,
     "metadata": {},
     "output_type": "execute_result"
    }
   ],
   "source": [
    "np.roll(arr14, -2)"
   ]
  },
  {
   "cell_type": "code",
   "execution_count": 479,
   "id": "59adee38-6404-4f9a-b6c0-5caf99c3184f",
   "metadata": {},
   "outputs": [],
   "source": [
    "arr15 = np.array([[1,2],[3,4],[5,6],[7,8]])"
   ]
  },
  {
   "cell_type": "code",
   "execution_count": 481,
   "id": "cb827949-d80a-4941-b0fc-bc4b4b63ac26",
   "metadata": {},
   "outputs": [
    {
     "data": {
      "text/plain": [
       "array([[1, 2],\n",
       "       [3, 4],\n",
       "       [5, 6],\n",
       "       [7, 8]])"
      ]
     },
     "execution_count": 481,
     "metadata": {},
     "output_type": "execute_result"
    }
   ],
   "source": [
    "arr15"
   ]
  },
  {
   "cell_type": "code",
   "execution_count": 483,
   "id": "ac4f50cd-4255-4a54-9955-c6d9df2e24ac",
   "metadata": {},
   "outputs": [
    {
     "data": {
      "text/plain": [
       "array([[2, 3],\n",
       "       [4, 5],\n",
       "       [6, 7],\n",
       "       [8, 1]])"
      ]
     },
     "execution_count": 483,
     "metadata": {},
     "output_type": "execute_result"
    }
   ],
   "source": [
    "np.roll(arr15, -1)"
   ]
  },
  {
   "cell_type": "code",
   "execution_count": 485,
   "id": "d441c331-0205-4917-b36b-7182bd1077d7",
   "metadata": {},
   "outputs": [
    {
     "data": {
      "text/plain": [
       "array([[7, 8],\n",
       "       [1, 2],\n",
       "       [3, 4],\n",
       "       [5, 6]])"
      ]
     },
     "execution_count": 485,
     "metadata": {},
     "output_type": "execute_result"
    }
   ],
   "source": [
    "np.roll(arr15, 2)"
   ]
  },
  {
   "cell_type": "code",
   "execution_count": 487,
   "id": "86ac8dc6-d712-4a80-90ff-e419a4f80c68",
   "metadata": {},
   "outputs": [
    {
     "data": {
      "text/plain": [
       "array([[3, 4],\n",
       "       [5, 6],\n",
       "       [7, 8],\n",
       "       [1, 2]])"
      ]
     },
     "execution_count": 487,
     "metadata": {},
     "output_type": "execute_result"
    }
   ],
   "source": [
    "np.roll(arr15, -1, axis=0)"
   ]
  },
  {
   "cell_type": "code",
   "execution_count": 489,
   "id": "50f30b9f-1547-4615-835d-5d43ae131c08",
   "metadata": {},
   "outputs": [
    {
     "data": {
      "text/plain": [
       "array([[2, 1],\n",
       "       [4, 3],\n",
       "       [6, 5],\n",
       "       [8, 7]])"
      ]
     },
     "execution_count": 489,
     "metadata": {},
     "output_type": "execute_result"
    }
   ],
   "source": [
    "np.roll(arr15, -1, axis=1)"
   ]
  },
  {
   "cell_type": "code",
   "execution_count": 491,
   "id": "38c623e1-999e-462a-8609-d8cade667542",
   "metadata": {},
   "outputs": [
    {
     "data": {
      "text/plain": [
       "array([[5, 6],\n",
       "       [7, 8],\n",
       "       [1, 2],\n",
       "       [3, 4]])"
      ]
     },
     "execution_count": 491,
     "metadata": {},
     "output_type": "execute_result"
    }
   ],
   "source": [
    "np.roll(arr15, 2, axis=0)"
   ]
  },
  {
   "cell_type": "code",
   "execution_count": 493,
   "id": "b275a7ad-4773-4eb7-97a9-17ee68d4c12c",
   "metadata": {},
   "outputs": [
    {
     "data": {
      "text/plain": [
       "array([[1, 2],\n",
       "       [3, 4],\n",
       "       [5, 6],\n",
       "       [7, 8]])"
      ]
     },
     "execution_count": 493,
     "metadata": {},
     "output_type": "execute_result"
    }
   ],
   "source": [
    "np.roll(arr15, 2, axis=1)"
   ]
  },
  {
   "cell_type": "code",
   "execution_count": 495,
   "id": "063973f6-0218-4e2f-81d9-be1e0abd77fb",
   "metadata": {},
   "outputs": [
    {
     "data": {
      "text/plain": [
       "array([[-3, -2, -2],\n",
       "       [-3, -2, -3],\n",
       "       [-2, -2, -2]])"
      ]
     },
     "execution_count": 495,
     "metadata": {},
     "output_type": "execute_result"
    }
   ],
   "source": [
    "~arr12"
   ]
  },
  {
   "cell_type": "code",
   "execution_count": 497,
   "id": "81eea4b1-3c3c-4a08-8655-9c9ba4e63456",
   "metadata": {},
   "outputs": [],
   "source": [
    "# operations on numpy string array\n",
    "arr16 = np.array([\"Lucky\",\"Kaushik\"])"
   ]
  },
  {
   "cell_type": "code",
   "execution_count": 499,
   "id": "6238ebfd-8411-46b9-b681-e2110dfcf804",
   "metadata": {},
   "outputs": [
    {
     "data": {
      "text/plain": [
       "array(['Lucky', 'Kaushik'], dtype='<U7')"
      ]
     },
     "execution_count": 499,
     "metadata": {},
     "output_type": "execute_result"
    }
   ],
   "source": [
    "arr16"
   ]
  },
  {
   "cell_type": "code",
   "execution_count": 501,
   "id": "ddd135b3-c438-4139-b7d1-6b9d189ac7e6",
   "metadata": {},
   "outputs": [
    {
     "data": {
      "text/plain": [
       "array(['LUCKY', 'KAUSHIK'], dtype='<U7')"
      ]
     },
     "execution_count": 501,
     "metadata": {},
     "output_type": "execute_result"
    }
   ],
   "source": [
    "np.char.upper(arr16)"
   ]
  },
  {
   "cell_type": "code",
   "execution_count": 503,
   "id": "65d094ff-fe4a-4fba-88de-6723aced2905",
   "metadata": {},
   "outputs": [
    {
     "data": {
      "text/plain": [
       "array(['lucky', 'kaushik'], dtype='<U7')"
      ]
     },
     "execution_count": 503,
     "metadata": {},
     "output_type": "execute_result"
    }
   ],
   "source": [
    "np.char.lower(arr16)"
   ]
  },
  {
   "cell_type": "code",
   "execution_count": 505,
   "id": "da0a892d-f070-46f0-8519-63c03ab33883",
   "metadata": {},
   "outputs": [
    {
     "data": {
      "text/plain": [
       "array(['Lucky', 'Kaushik'], dtype='<U7')"
      ]
     },
     "execution_count": 505,
     "metadata": {},
     "output_type": "execute_result"
    }
   ],
   "source": [
    "np.char.capitalize(arr16)"
   ]
  },
  {
   "cell_type": "code",
   "execution_count": 507,
   "id": "9aa9dd49-08ec-4034-aba4-6da818f082d8",
   "metadata": {},
   "outputs": [],
   "source": [
    "# mathematical function"
   ]
  },
  {
   "cell_type": "code",
   "execution_count": 513,
   "id": "b873ef58-dd46-49c0-883b-6c4fb04291ca",
   "metadata": {},
   "outputs": [
    {
     "data": {
      "text/plain": [
       "array([[2, 1, 1],\n",
       "       [2, 1, 2],\n",
       "       [1, 1, 1]])"
      ]
     },
     "execution_count": 513,
     "metadata": {},
     "output_type": "execute_result"
    }
   ],
   "source": [
    "arr12"
   ]
  },
  {
   "cell_type": "code",
   "execution_count": 515,
   "id": "65b07af9-c45e-413b-bd01-1954d91001e6",
   "metadata": {},
   "outputs": [
    {
     "data": {
      "text/plain": [
       "array([[0.90929743, 0.84147098, 0.84147098],\n",
       "       [0.90929743, 0.84147098, 0.90929743],\n",
       "       [0.84147098, 0.84147098, 0.84147098]])"
      ]
     },
     "execution_count": 515,
     "metadata": {},
     "output_type": "execute_result"
    }
   ],
   "source": [
    "np.sin(arr12)"
   ]
  },
  {
   "cell_type": "code",
   "execution_count": 519,
   "id": "d60a626d-84d4-4cfb-a26a-e86ea4653f81",
   "metadata": {},
   "outputs": [
    {
     "data": {
      "text/plain": [
       "array([[-0.41614684,  0.54030231,  0.54030231],\n",
       "       [-0.41614684,  0.54030231, -0.41614684],\n",
       "       [ 0.54030231,  0.54030231,  0.54030231]])"
      ]
     },
     "execution_count": 519,
     "metadata": {},
     "output_type": "execute_result"
    }
   ],
   "source": [
    "np.cos(arr12)"
   ]
  },
  {
   "cell_type": "code",
   "execution_count": 517,
   "id": "42564010-0ae7-4941-83c2-39a660750fb2",
   "metadata": {},
   "outputs": [
    {
     "data": {
      "text/plain": [
       "array([[3, 3, 2],\n",
       "       [2, 2, 2],\n",
       "       [3, 3, 4]])"
      ]
     },
     "execution_count": 517,
     "metadata": {},
     "output_type": "execute_result"
    }
   ],
   "source": [
    "arr11"
   ]
  },
  {
   "cell_type": "code",
   "execution_count": 521,
   "id": "c699def3-9bd0-4ca8-b0cc-1677a5690fd5",
   "metadata": {},
   "outputs": [
    {
     "data": {
      "text/plain": [
       "array([[-0.14254654, -0.14254654, -2.18503986],\n",
       "       [-2.18503986, -2.18503986, -2.18503986],\n",
       "       [-0.14254654, -0.14254654,  1.15782128]])"
      ]
     },
     "execution_count": 521,
     "metadata": {},
     "output_type": "execute_result"
    }
   ],
   "source": [
    "np.tan(arr11)"
   ]
  },
  {
   "cell_type": "code",
   "execution_count": 533,
   "id": "8953ccdd-7582-4249-80b2-f548ecb020fe",
   "metadata": {},
   "outputs": [
    {
     "data": {
      "text/plain": [
       "array([[1.09861229, 1.09861229, 0.69314718],\n",
       "       [0.69314718, 0.69314718, 0.69314718],\n",
       "       [1.09861229, 1.09861229, 1.38629436]])"
      ]
     },
     "execution_count": 533,
     "metadata": {},
     "output_type": "execute_result"
    }
   ],
   "source": [
    "np.log(arr11)"
   ]
  },
  {
   "cell_type": "code",
   "execution_count": 535,
   "id": "73d4ba05-020f-4ab3-8886-e01804d13723",
   "metadata": {},
   "outputs": [
    {
     "data": {
      "text/plain": [
       "array([[0.47712125, 0.47712125, 0.30103   ],\n",
       "       [0.30103   , 0.30103   , 0.30103   ],\n",
       "       [0.47712125, 0.47712125, 0.60205999]])"
      ]
     },
     "execution_count": 535,
     "metadata": {},
     "output_type": "execute_result"
    }
   ],
   "source": [
    "np.log10(arr11)"
   ]
  },
  {
   "cell_type": "code",
   "execution_count": 539,
   "id": "dd2526a2-69a8-4a34-9d05-4bb2afbf4441",
   "metadata": {},
   "outputs": [
    {
     "data": {
      "text/plain": [
       "array([[1.5849625, 1.5849625, 1.       ],\n",
       "       [1.       , 1.       , 1.       ],\n",
       "       [1.5849625, 1.5849625, 2.       ]])"
      ]
     },
     "execution_count": 539,
     "metadata": {},
     "output_type": "execute_result"
    }
   ],
   "source": [
    "np.log2(arr11)"
   ]
  },
  {
   "cell_type": "code",
   "execution_count": 541,
   "id": "37b629db-4680-4519-9a16-6af15eda693a",
   "metadata": {},
   "outputs": [
    {
     "data": {
      "text/plain": [
       "array([[20.08553692, 20.08553692,  7.3890561 ],\n",
       "       [ 7.3890561 ,  7.3890561 ,  7.3890561 ],\n",
       "       [20.08553692, 20.08553692, 54.59815003]])"
      ]
     },
     "execution_count": 541,
     "metadata": {},
     "output_type": "execute_result"
    }
   ],
   "source": [
    "np.exp(arr11)"
   ]
  },
  {
   "cell_type": "code",
   "execution_count": 543,
   "id": "6af43096-f501-43b9-aadc-926db16008fe",
   "metadata": {},
   "outputs": [
    {
     "data": {
      "text/plain": [
       "array([[7.3890561 , 2.71828183, 2.71828183],\n",
       "       [7.3890561 , 2.71828183, 7.3890561 ],\n",
       "       [2.71828183, 2.71828183, 2.71828183]])"
      ]
     },
     "execution_count": 543,
     "metadata": {},
     "output_type": "execute_result"
    }
   ],
   "source": [
    "np.exp(arr12)"
   ]
  },
  {
   "cell_type": "code",
   "execution_count": 547,
   "id": "fbe1d098-4cec-40de-9e05-dafcf7f28d7d",
   "metadata": {},
   "outputs": [
    {
     "data": {
      "text/plain": [
       "array([[ 9,  9,  4],\n",
       "       [ 4,  4,  4],\n",
       "       [ 9,  9, 16]])"
      ]
     },
     "execution_count": 547,
     "metadata": {},
     "output_type": "execute_result"
    }
   ],
   "source": [
    "np.square(arr11)"
   ]
  },
  {
   "cell_type": "code",
   "execution_count": 549,
   "id": "30c78e2e-9089-43c3-85f2-4080c59d7ca1",
   "metadata": {},
   "outputs": [
    {
     "data": {
      "text/plain": [
       "array([[4, 1, 1],\n",
       "       [4, 1, 4],\n",
       "       [1, 1, 1]])"
      ]
     },
     "execution_count": 549,
     "metadata": {},
     "output_type": "execute_result"
    }
   ],
   "source": [
    "np.square(arr12)"
   ]
  },
  {
   "cell_type": "code",
   "execution_count": 551,
   "id": "ee77823c-3b0e-4a6d-89ab-6aea9418b597",
   "metadata": {},
   "outputs": [
    {
     "data": {
      "text/plain": [
       "array([[27, 27,  8],\n",
       "       [ 8,  8,  8],\n",
       "       [27, 27, 64]], dtype=int32)"
      ]
     },
     "execution_count": 551,
     "metadata": {},
     "output_type": "execute_result"
    }
   ],
   "source": [
    "np.power(arr11, 3)"
   ]
  },
  {
   "cell_type": "code",
   "execution_count": 553,
   "id": "fce88662-25fc-44e0-987e-9394717adba5",
   "metadata": {},
   "outputs": [
    {
     "data": {
      "text/plain": [
       "4"
      ]
     },
     "execution_count": 553,
     "metadata": {},
     "output_type": "execute_result"
    }
   ],
   "source": [
    "np.max(arr11)"
   ]
  },
  {
   "cell_type": "code",
   "execution_count": 559,
   "id": "b4f531b2-5549-4dfd-856c-2b729b4bc26e",
   "metadata": {},
   "outputs": [
    {
     "data": {
      "text/plain": [
       "2"
      ]
     },
     "execution_count": 559,
     "metadata": {},
     "output_type": "execute_result"
    }
   ],
   "source": [
    "np.max(arr12)"
   ]
  },
  {
   "cell_type": "code",
   "execution_count": 561,
   "id": "6d521a92-f1ab-4dd2-8b0d-820103fa29f9",
   "metadata": {},
   "outputs": [
    {
     "data": {
      "text/plain": [
       "2"
      ]
     },
     "execution_count": 561,
     "metadata": {},
     "output_type": "execute_result"
    }
   ],
   "source": [
    "np.min(arr11)"
   ]
  },
  {
   "cell_type": "code",
   "execution_count": 563,
   "id": "0219319f-6c75-4376-af71-33c09505fa4a",
   "metadata": {},
   "outputs": [
    {
     "data": {
      "text/plain": [
       "array([[3, 3, 2],\n",
       "       [2, 2, 2],\n",
       "       [3, 3, 4]])"
      ]
     },
     "execution_count": 563,
     "metadata": {},
     "output_type": "execute_result"
    }
   ],
   "source": [
    "arr11"
   ]
  },
  {
   "cell_type": "code",
   "execution_count": 565,
   "id": "ae14b652-599e-4f07-b1d0-6c817121077b",
   "metadata": {},
   "outputs": [
    {
     "data": {
      "text/plain": [
       "1"
      ]
     },
     "execution_count": 565,
     "metadata": {},
     "output_type": "execute_result"
    }
   ],
   "source": [
    "np.min(arr12)"
   ]
  },
  {
   "cell_type": "code",
   "execution_count": 567,
   "id": "9f102c67-5f77-4c4e-84cf-8add9e3b6a56",
   "metadata": {},
   "outputs": [
    {
     "data": {
      "text/plain": [
       "array([[2, 1, 1],\n",
       "       [2, 1, 2],\n",
       "       [1, 1, 1]])"
      ]
     },
     "execution_count": 567,
     "metadata": {},
     "output_type": "execute_result"
    }
   ],
   "source": [
    "arr12"
   ]
  },
  {
   "cell_type": "code",
   "execution_count": 571,
   "id": "a31e4736-d30b-4b5b-aef9-127d8fdd6e4c",
   "metadata": {},
   "outputs": [
    {
     "data": {
      "text/plain": [
       "2.6666666666666665"
      ]
     },
     "execution_count": 571,
     "metadata": {},
     "output_type": "execute_result"
    }
   ],
   "source": [
    "np.mean(arr11)"
   ]
  },
  {
   "cell_type": "code",
   "execution_count": 581,
   "id": "a483c7df-44d0-44b6-bfd5-6398fdaa2090",
   "metadata": {},
   "outputs": [
    {
     "data": {
      "text/plain": [
       "1.3333333333333333"
      ]
     },
     "execution_count": 581,
     "metadata": {},
     "output_type": "execute_result"
    }
   ],
   "source": [
    "np.mean(arr12)"
   ]
  },
  {
   "cell_type": "code",
   "execution_count": 755,
   "id": "eff89d27-affe-4aa4-9fbb-5894e5a9717a",
   "metadata": {},
   "outputs": [
    {
     "data": {
      "text/plain": [
       "2.6666666666666665"
      ]
     },
     "execution_count": 755,
     "metadata": {},
     "output_type": "execute_result"
    }
   ],
   "source": [
    "np.average(arr11)"
   ]
  },
  {
   "cell_type": "code",
   "execution_count": 591,
   "id": "fbd04221-c091-4e1e-b526-8a22a8552659",
   "metadata": {},
   "outputs": [
    {
     "data": {
      "text/plain": [
       "0.6666666666666666"
      ]
     },
     "execution_count": 591,
     "metadata": {},
     "output_type": "execute_result"
    }
   ],
   "source": [
    "np.std(arr11)  #standerd deviation"
   ]
  },
  {
   "cell_type": "code",
   "execution_count": 589,
   "id": "2fd439b3-d00a-4517-822f-e5bda1a2a667",
   "metadata": {},
   "outputs": [
    {
     "data": {
      "text/plain": [
       "0.4714045207910317"
      ]
     },
     "execution_count": 589,
     "metadata": {},
     "output_type": "execute_result"
    }
   ],
   "source": [
    "np.std(arr12)"
   ]
  },
  {
   "cell_type": "code",
   "execution_count": 593,
   "id": "b7f54015-a89a-43f3-8357-a040e6f13971",
   "metadata": {},
   "outputs": [
    {
     "data": {
      "text/plain": [
       "0.4444444444444444"
      ]
     },
     "execution_count": 593,
     "metadata": {},
     "output_type": "execute_result"
    }
   ],
   "source": [
    "np.var(arr11)  # variance"
   ]
  },
  {
   "cell_type": "code",
   "execution_count": 595,
   "id": "576ab457-e433-411f-8fa9-84fa31f90b81",
   "metadata": {},
   "outputs": [
    {
     "data": {
      "text/plain": [
       "0.2222222222222222"
      ]
     },
     "execution_count": 595,
     "metadata": {},
     "output_type": "execute_result"
    }
   ],
   "source": [
    "np.var(arr12)"
   ]
  },
  {
   "cell_type": "code",
   "execution_count": 597,
   "id": "d5c75feb-d959-4f21-a7ce-6c96ab16ca02",
   "metadata": {},
   "outputs": [
    {
     "data": {
      "text/plain": [
       "array([[1, 2, 1],\n",
       "       [0, 1, 0],\n",
       "       [2, 2, 3]])"
      ]
     },
     "execution_count": 597,
     "metadata": {},
     "output_type": "execute_result"
    }
   ],
   "source": [
    "np.subtract(arr11, arr12)"
   ]
  },
  {
   "cell_type": "code",
   "execution_count": 599,
   "id": "16d41870-0c58-4d33-bf43-3bedfcf9246e",
   "metadata": {},
   "outputs": [
    {
     "data": {
      "text/plain": [
       "array([[6, 3, 2],\n",
       "       [4, 2, 4],\n",
       "       [3, 3, 4]])"
      ]
     },
     "execution_count": 599,
     "metadata": {},
     "output_type": "execute_result"
    }
   ],
   "source": [
    "np.multiply(arr11, arr12)"
   ]
  },
  {
   "cell_type": "code",
   "execution_count": 601,
   "id": "ef8208e4-1b94-4c40-b204-d497976191be",
   "metadata": {},
   "outputs": [
    {
     "data": {
      "text/plain": [
       "array([[6, 3, 2],\n",
       "       [4, 2, 4],\n",
       "       [3, 3, 4]])"
      ]
     },
     "execution_count": 601,
     "metadata": {},
     "output_type": "execute_result"
    }
   ],
   "source": [
    "arr11*arr12"
   ]
  },
  {
   "cell_type": "code",
   "execution_count": 603,
   "id": "b0ff4356-c5e1-40e5-9661-ef7c8d5b8b80",
   "metadata": {},
   "outputs": [
    {
     "data": {
      "text/plain": [
       "array([[1, 0, 0],\n",
       "       [0, 0, 0],\n",
       "       [0, 0, 0]])"
      ]
     },
     "execution_count": 603,
     "metadata": {},
     "output_type": "execute_result"
    }
   ],
   "source": [
    "np.mod(arr11, arr12)  # return element wise reminder"
   ]
  },
  {
   "cell_type": "code",
   "execution_count": 607,
   "id": "23870128-0ebc-4a46-8bdf-275e93a82656",
   "metadata": {},
   "outputs": [
    {
     "data": {
      "text/plain": [
       "array([[1.73205081, 1.73205081, 1.41421356],\n",
       "       [1.41421356, 1.41421356, 1.41421356],\n",
       "       [1.73205081, 1.73205081, 2.        ]])"
      ]
     },
     "execution_count": 607,
     "metadata": {},
     "output_type": "execute_result"
    }
   ],
   "source": [
    "np.sqrt(arr11)"
   ]
  },
  {
   "cell_type": "code",
   "execution_count": 609,
   "id": "a8e58d90-0370-4f9d-b1fe-dabfe0785f61",
   "metadata": {},
   "outputs": [
    {
     "data": {
      "text/plain": [
       "array([[3, 3, 2],\n",
       "       [2, 2, 2],\n",
       "       [3, 3, 4]])"
      ]
     },
     "execution_count": 609,
     "metadata": {},
     "output_type": "execute_result"
    }
   ],
   "source": [
    "arr11"
   ]
  },
  {
   "cell_type": "code",
   "execution_count": 625,
   "id": "b307182b-ba9b-4833-b450-7efb00d2b3dd",
   "metadata": {},
   "outputs": [
    {
     "data": {
      "text/plain": [
       "array([[2.64575131, 2.23606798, 2.82842712, 1.        ],\n",
       "       [2.64575131, 1.        , 3.        , 2.44948974],\n",
       "       [3.        , 2.64575131, 1.41421356, 1.73205081]])"
      ]
     },
     "execution_count": 625,
     "metadata": {},
     "output_type": "execute_result"
    }
   ],
   "source": [
    "np.sqrt(arr10)"
   ]
  },
  {
   "cell_type": "code",
   "execution_count": 627,
   "id": "f6935577-1fa5-4e42-9df9-d16077759468",
   "metadata": {},
   "outputs": [
    {
     "data": {
      "text/plain": [
       "array([[7, 5, 8, 1],\n",
       "       [7, 1, 9, 6],\n",
       "       [9, 7, 2, 3]])"
      ]
     },
     "execution_count": 627,
     "metadata": {},
     "output_type": "execute_result"
    }
   ],
   "source": [
    "arr10"
   ]
  },
  {
   "cell_type": "code",
   "execution_count": 657,
   "id": "92efc9ac-ebe2-48df-bdf8-fecab6edd5ee",
   "metadata": {},
   "outputs": [],
   "source": [
    "# shorting and searching in numpy array\n",
    "\n",
    "arr17 = np.random.randint(0,10, (1, 10))  # np.random.randint(1, 5, size = (3,4))"
   ]
  },
  {
   "cell_type": "code",
   "execution_count": 659,
   "id": "6639c141-4e58-4a22-b1ca-0e55f2dc2aea",
   "metadata": {},
   "outputs": [
    {
     "data": {
      "text/plain": [
       "array([[8, 9, 9, 1, 1, 2, 5, 1, 0, 5]])"
      ]
     },
     "execution_count": 659,
     "metadata": {},
     "output_type": "execute_result"
    }
   ],
   "source": [
    "arr17"
   ]
  },
  {
   "cell_type": "code",
   "execution_count": 661,
   "id": "655788a6-897e-487b-bcb4-2efca4ffeb46",
   "metadata": {},
   "outputs": [
    {
     "data": {
      "text/plain": [
       "array([[0, 1, 1, 1, 2, 5, 5, 8, 9, 9]])"
      ]
     },
     "execution_count": 661,
     "metadata": {},
     "output_type": "execute_result"
    }
   ],
   "source": [
    "np.sort(arr17)"
   ]
  },
  {
   "cell_type": "code",
   "execution_count": 677,
   "id": "04b8187c-80db-4931-b428-caa28ed11ac1",
   "metadata": {},
   "outputs": [],
   "source": [
    "arr18 = np.random.randint(0, 10, size = (2,10))"
   ]
  },
  {
   "cell_type": "code",
   "execution_count": 679,
   "id": "513e9042-eee9-47b0-9ac6-be9ccbfc7610",
   "metadata": {},
   "outputs": [
    {
     "data": {
      "text/plain": [
       "array([[3, 1, 1, 5, 6, 7, 0, 1, 8, 0],\n",
       "       [9, 6, 4, 3, 2, 5, 6, 2, 4, 5]])"
      ]
     },
     "execution_count": 679,
     "metadata": {},
     "output_type": "execute_result"
    }
   ],
   "source": [
    "arr18"
   ]
  },
  {
   "cell_type": "code",
   "execution_count": 681,
   "id": "a3ad7b49-53aa-4b83-a709-7646aecc9f39",
   "metadata": {},
   "outputs": [
    {
     "data": {
      "text/plain": [
       "array([[0, 0, 1, 1, 1, 3, 5, 6, 7, 8],\n",
       "       [2, 2, 3, 4, 4, 5, 5, 6, 6, 9]])"
      ]
     },
     "execution_count": 681,
     "metadata": {},
     "output_type": "execute_result"
    }
   ],
   "source": [
    "np.sort(arr18)"
   ]
  },
  {
   "cell_type": "code",
   "execution_count": 683,
   "id": "fbafc535-1875-4691-88c5-844df3d7c407",
   "metadata": {},
   "outputs": [],
   "source": [
    "arr19 = np.random.randint(1, 15, size = (3,10))"
   ]
  },
  {
   "cell_type": "code",
   "execution_count": 685,
   "id": "ec83c925-26b7-4bc3-873b-3dbc51c33fe0",
   "metadata": {},
   "outputs": [
    {
     "data": {
      "text/plain": [
       "array([[ 5,  7,  5, 14, 12,  3, 12, 10,  7,  7],\n",
       "       [ 9, 13, 14,  9,  8, 14, 14,  4, 13,  2],\n",
       "       [ 6, 10,  9,  7,  8, 11,  5, 11,  6,  8]])"
      ]
     },
     "execution_count": 685,
     "metadata": {},
     "output_type": "execute_result"
    }
   ],
   "source": [
    "arr19"
   ]
  },
  {
   "cell_type": "code",
   "execution_count": 687,
   "id": "6a880eb6-e401-4960-89a1-860c2e643f17",
   "metadata": {},
   "outputs": [
    {
     "data": {
      "text/plain": [
       "array([[ 3,  5,  5,  7,  7,  7, 10, 12, 12, 14],\n",
       "       [ 2,  4,  8,  9,  9, 13, 13, 14, 14, 14],\n",
       "       [ 5,  6,  6,  7,  8,  8,  9, 10, 11, 11]])"
      ]
     },
     "execution_count": 687,
     "metadata": {},
     "output_type": "execute_result"
    }
   ],
   "source": [
    "np.sort(arr19)"
   ]
  },
  {
   "cell_type": "code",
   "execution_count": 691,
   "id": "e0038edd-e472-45a6-b6eb-734275e8601d",
   "metadata": {},
   "outputs": [],
   "source": [
    "arr20 = np.array([10,23,46,460,34,58,16,78,90])"
   ]
  },
  {
   "cell_type": "code",
   "execution_count": 693,
   "id": "daa6ac0c-36f5-49f6-90c9-4cd19bf4d89b",
   "metadata": {},
   "outputs": [
    {
     "data": {
      "text/plain": [
       "array([ 10,  23,  46, 460,  34,  58,  16,  78,  90])"
      ]
     },
     "execution_count": 693,
     "metadata": {},
     "output_type": "execute_result"
    }
   ],
   "source": [
    "arr20"
   ]
  },
  {
   "cell_type": "code",
   "execution_count": 705,
   "id": "d60bd6ae-a0ac-4787-add2-401747e936f7",
   "metadata": {},
   "outputs": [
    {
     "data": {
      "text/plain": [
       "array([ 10,  16,  23,  34,  46,  58,  78,  90, 460])"
      ]
     },
     "execution_count": 705,
     "metadata": {},
     "output_type": "execute_result"
    }
   ],
   "source": [
    "np.sort(arr20)"
   ]
  },
  {
   "cell_type": "code",
   "execution_count": 707,
   "id": "11c65782-48c1-46f5-bf14-52e2185ae29e",
   "metadata": {},
   "outputs": [
    {
     "data": {
      "text/plain": [
       "7"
      ]
     },
     "execution_count": 707,
     "metadata": {},
     "output_type": "execute_result"
    }
   ],
   "source": [
    "np.searchsorted(arr20, 69)  # Find indices where elements should be inserted to maintain order."
   ]
  },
  {
   "cell_type": "code",
   "execution_count": 709,
   "id": "eb27cd84-d4ca-444e-80de-22934e92ef64",
   "metadata": {},
   "outputs": [
    {
     "data": {
      "text/plain": [
       "array([ 10,  23,  46, 460,  34,  58,  16,  78,  90])"
      ]
     },
     "execution_count": 709,
     "metadata": {},
     "output_type": "execute_result"
    }
   ],
   "source": [
    "arr20"
   ]
  },
  {
   "cell_type": "code",
   "execution_count": 711,
   "id": "821f9b76-5045-4941-bdf0-bd0bfe55bbc1",
   "metadata": {},
   "outputs": [
    {
     "data": {
      "text/plain": [
       "30"
      ]
     },
     "execution_count": 711,
     "metadata": {},
     "output_type": "execute_result"
    }
   ],
   "source": [
    "np.count_nonzero(arr19)"
   ]
  },
  {
   "cell_type": "code",
   "execution_count": 717,
   "id": "f1eac24b-0f44-4d74-b961-dbe858d474ce",
   "metadata": {},
   "outputs": [
    {
     "data": {
      "text/plain": [
       "array([ 5,  7,  5, 14, 12,  3, 12, 10,  7,  7,  9, 13, 14,  9,  8, 14, 14,\n",
       "        4, 13,  2,  6, 10,  9,  7,  8, 11,  5, 11,  6,  8])"
      ]
     },
     "execution_count": 717,
     "metadata": {},
     "output_type": "execute_result"
    }
   ],
   "source": [
    "arr19[arr19>0]"
   ]
  },
  {
   "cell_type": "code",
   "execution_count": 719,
   "id": "c276c25f-525c-4869-b775-5bc56decd002",
   "metadata": {},
   "outputs": [
    {
     "data": {
      "text/plain": [
       "(array([0, 0, 0, 0, 0, 0, 0, 0, 0, 0, 1, 1, 1, 1, 1, 1, 1, 1, 1, 1, 2, 2,\n",
       "        2, 2, 2, 2, 2, 2, 2, 2], dtype=int64),\n",
       " array([0, 1, 2, 3, 4, 5, 6, 7, 8, 9, 0, 1, 2, 3, 4, 5, 6, 7, 8, 9, 0, 1,\n",
       "        2, 3, 4, 5, 6, 7, 8, 9], dtype=int64))"
      ]
     },
     "execution_count": 719,
     "metadata": {},
     "output_type": "execute_result"
    }
   ],
   "source": [
    "np.where(arr19>0)"
   ]
  },
  {
   "cell_type": "code",
   "execution_count": 721,
   "id": "851c1a02-6dab-425b-8497-a94f732c1043",
   "metadata": {},
   "outputs": [
    {
     "data": {
      "text/plain": [
       "array([ 5,  7,  5, 14, 12,  3, 12, 10,  7,  7,  9, 13, 14,  9,  8, 14, 14,\n",
       "        4, 13,  2,  6, 10,  9,  7,  8, 11,  5, 11,  6,  8])"
      ]
     },
     "execution_count": 721,
     "metadata": {},
     "output_type": "execute_result"
    }
   ],
   "source": [
    "np.extract(arr19>0, arr19)"
   ]
  },
  {
   "cell_type": "code",
   "execution_count": 723,
   "id": "d93495ea-c9ca-41a8-90b1-ed5ac27379a0",
   "metadata": {},
   "outputs": [
    {
     "data": {
      "text/plain": [
       "array([[ 83886080, 117440512,  83886080, 234881024, 201326592,  50331648,\n",
       "        201326592, 167772160, 117440512, 117440512],\n",
       "       [150994944, 218103808, 234881024, 150994944, 134217728, 234881024,\n",
       "        234881024,  67108864, 218103808,  33554432],\n",
       "       [100663296, 167772160, 150994944, 117440512, 134217728, 184549376,\n",
       "         83886080, 184549376, 100663296, 134217728]])"
      ]
     },
     "execution_count": 723,
     "metadata": {},
     "output_type": "execute_result"
    }
   ],
   "source": [
    "arr19.byteswap()"
   ]
  },
  {
   "cell_type": "code",
   "execution_count": 725,
   "id": "949e5e5d-2bc1-48d8-82b8-bc8b56f5f2c9",
   "metadata": {},
   "outputs": [],
   "source": [
    "import numpy.matlib as nm"
   ]
  },
  {
   "cell_type": "code",
   "execution_count": 727,
   "id": "77f57147-6b32-4255-86f5-76512af96700",
   "metadata": {},
   "outputs": [
    {
     "data": {
      "text/plain": [
       "matrix([[0., 0., 0., 0., 0.]])"
      ]
     },
     "execution_count": 727,
     "metadata": {},
     "output_type": "execute_result"
    }
   ],
   "source": [
    "nm.zeros(5)"
   ]
  },
  {
   "cell_type": "code",
   "execution_count": 729,
   "id": "6c310ceb-2d43-45a0-b9ff-cb0dd8aacbd7",
   "metadata": {},
   "outputs": [
    {
     "data": {
      "text/plain": [
       "matrix([[1., 1., 1., 1.],\n",
       "        [1., 1., 1., 1.],\n",
       "        [1., 1., 1., 1.]])"
      ]
     },
     "execution_count": 729,
     "metadata": {},
     "output_type": "execute_result"
    }
   ],
   "source": [
    "nm.ones((3,4))"
   ]
  },
  {
   "cell_type": "code",
   "execution_count": 731,
   "id": "02349848-10f0-4add-aa07-1911584f3a68",
   "metadata": {},
   "outputs": [],
   "source": [
    "# numpy linear algebra(optional) >> cover leter"
   ]
  },
  {
   "cell_type": "code",
   "execution_count": 733,
   "id": "2e8c08dc-78fe-443d-8fe3-6ce14b43ef90",
   "metadata": {},
   "outputs": [
    {
     "data": {
      "text/plain": [
       "array([[3, 3, 2],\n",
       "       [2, 2, 2],\n",
       "       [3, 3, 4]])"
      ]
     },
     "execution_count": 733,
     "metadata": {},
     "output_type": "execute_result"
    }
   ],
   "source": [
    "arr11"
   ]
  },
  {
   "cell_type": "code",
   "execution_count": 735,
   "id": "e7dfbb8c-4e54-411e-9bc9-e371795b9918",
   "metadata": {},
   "outputs": [
    {
     "data": {
      "text/plain": [
       "array([[2, 1, 1],\n",
       "       [2, 1, 2],\n",
       "       [1, 1, 1]])"
      ]
     },
     "execution_count": 735,
     "metadata": {},
     "output_type": "execute_result"
    }
   ],
   "source": [
    "arr12"
   ]
  },
  {
   "cell_type": "code",
   "execution_count": 737,
   "id": "c84388ac-c47f-4014-a9bc-cfc76c98da35",
   "metadata": {},
   "outputs": [
    {
     "data": {
      "text/plain": [
       "array([[14,  8, 11],\n",
       "       [10,  6,  8],\n",
       "       [16, 10, 13]])"
      ]
     },
     "execution_count": 737,
     "metadata": {},
     "output_type": "execute_result"
    }
   ],
   "source": [
    "arr11 @ arr12"
   ]
  },
  {
   "cell_type": "code",
   "execution_count": 739,
   "id": "f09c8c1d-cccb-42eb-acfb-709cb87aa8b4",
   "metadata": {},
   "outputs": [
    {
     "data": {
      "text/plain": [
       "6.66133814775094e-16"
      ]
     },
     "execution_count": 739,
     "metadata": {},
     "output_type": "execute_result"
    }
   ],
   "source": [
    "np.linalg.det(arr11) # determinant"
   ]
  },
  {
   "cell_type": "code",
   "execution_count": 741,
   "id": "2f0f44d2-e3c7-4ed5-ba8b-833b80513ec4",
   "metadata": {},
   "outputs": [
    {
     "data": {
      "text/plain": [
       "-1.0"
      ]
     },
     "execution_count": 741,
     "metadata": {},
     "output_type": "execute_result"
    }
   ],
   "source": [
    "np.linalg.det(arr12)"
   ]
  },
  {
   "cell_type": "code",
   "execution_count": 743,
   "id": "165bafd5-294d-4f3a-b374-4ed79ff49a72",
   "metadata": {},
   "outputs": [
    {
     "data": {
      "text/plain": [
       "array([[ 3.00239975e+15, -9.00719925e+15,  3.00239975e+15],\n",
       "       [-3.00239975e+15,  9.00719925e+15, -3.00239975e+15],\n",
       "       [-5.00000000e-01,  0.00000000e+00,  5.00000000e-01]])"
      ]
     },
     "execution_count": 743,
     "metadata": {},
     "output_type": "execute_result"
    }
   ],
   "source": [
    "# in matrix you cant divide by anothor matrix, you have inverse\n",
    "np.linalg.inv(arr11)"
   ]
  },
  {
   "cell_type": "code",
   "execution_count": 745,
   "id": "9f1c088f-4957-4052-9243-9423e54e7514",
   "metadata": {},
   "outputs": [
    {
     "data": {
      "text/plain": [
       "array([[ 1.,  0., -1.],\n",
       "       [ 0., -1.,  2.],\n",
       "       [-1.,  1.,  0.]])"
      ]
     },
     "execution_count": 745,
     "metadata": {},
     "output_type": "execute_result"
    }
   ],
   "source": [
    "np.linalg.inv(arr12)"
   ]
  },
  {
   "cell_type": "code",
   "execution_count": 747,
   "id": "f78a4317-f567-4551-98aa-f7447eb37ef9",
   "metadata": {},
   "outputs": [],
   "source": [
    "# 7x + 5.3y - 3z = 2\n",
    "# 2x + 3y - 2z = 3\n",
    "# 3X + 5y - 3z = 2\n",
    "\n",
    "arr21 = np.array([[7, 5.3, -3], [2, 3, -2], [3, 5, -3]])\n",
    "arr22 = np.array([2, 3, 2])"
   ]
  },
  {
   "cell_type": "code",
   "execution_count": 749,
   "id": "9e2b2a8e-1903-464c-bc91-e61ea3413865",
   "metadata": {},
   "outputs": [
    {
     "data": {
      "text/plain": [
       "array([[ 7. ,  5.3, -3. ],\n",
       "       [ 2. ,  3. , -2. ],\n",
       "       [ 3. ,  5. , -3. ]])"
      ]
     },
     "execution_count": 749,
     "metadata": {},
     "output_type": "execute_result"
    }
   ],
   "source": [
    "arr21"
   ]
  },
  {
   "cell_type": "code",
   "execution_count": 751,
   "id": "c7fc2339-5d4b-4459-b7b2-4476458f7617",
   "metadata": {},
   "outputs": [
    {
     "data": {
      "text/plain": [
       "array([2, 3, 2])"
      ]
     },
     "execution_count": 751,
     "metadata": {},
     "output_type": "execute_result"
    }
   ],
   "source": [
    "arr22"
   ]
  },
  {
   "cell_type": "code",
   "execution_count": 753,
   "id": "cde4a7a5-df9c-452c-acf7-4e76ab18c530",
   "metadata": {},
   "outputs": [
    {
     "data": {
      "text/plain": [
       "array([0., 1., 1.])"
      ]
     },
     "execution_count": 753,
     "metadata": {},
     "output_type": "execute_result"
    }
   ],
   "source": [
    "np.linalg.solve(arr12, arr22)"
   ]
  },
  {
   "cell_type": "code",
   "execution_count": null,
   "id": "499d2f43-4a07-405c-8d60-335e2a614e17",
   "metadata": {},
   "outputs": [],
   "source": []
  }
 ],
 "metadata": {
  "kernelspec": {
   "display_name": "Python 3 (ipykernel)",
   "language": "python",
   "name": "python3"
  },
  "language_info": {
   "codemirror_mode": {
    "name": "ipython",
    "version": 3
   },
   "file_extension": ".py",
   "mimetype": "text/x-python",
   "name": "python",
   "nbconvert_exporter": "python",
   "pygments_lexer": "ipython3",
   "version": "3.12.4"
  },
  "panel-cell-order": [
   "dd5012dd-39ec-417a-9310-027431ac0dd6"
  ]
 },
 "nbformat": 4,
 "nbformat_minor": 5
}
