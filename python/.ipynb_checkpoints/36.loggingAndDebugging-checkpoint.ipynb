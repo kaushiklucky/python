{
 "cells": [
  {
   "cell_type": "code",
   "execution_count": 1,
   "id": "7cd727dc-13b5-41c4-b5d8-8900ec71c544",
   "metadata": {},
   "outputs": [],
   "source": [
    "# debugging >> it is the process of identifying and fixing bug/issues in your code\n",
    "# debugging involves >> breaking the code(checkpoints), excuting the code, inspecting the variable using print statment"
   ]
  },
  {
   "cell_type": "code",
   "execution_count": 2,
   "id": "f25eb1dd-69a7-461d-8767-d85ef77a8091",
   "metadata": {},
   "outputs": [],
   "source": [
    "def divide(a,b):\n",
    "    return a/b"
   ]
  },
  {
   "cell_type": "code",
   "execution_count": 4,
   "id": "c2a6e0a0-c331-4aef-8e3c-b5c7779eaea2",
   "metadata": {},
   "outputs": [
    {
     "data": {
      "text/plain": [
       "5.0"
      ]
     },
     "execution_count": 4,
     "metadata": {},
     "output_type": "execute_result"
    }
   ],
   "source": [
    "divide(10, 2)"
   ]
  },
  {
   "cell_type": "code",
   "execution_count": 6,
   "id": "7154d457-816a-4555-8272-2c3f98ee5ce6",
   "metadata": {},
   "outputs": [
    {
     "data": {
      "text/plain": [
       "4.0"
      ]
     },
     "execution_count": 6,
     "metadata": {},
     "output_type": "execute_result"
    }
   ],
   "source": [
    "divide(12, 3)"
   ]
  },
  {
   "cell_type": "code",
   "execution_count": 10,
   "id": "d5d44246-ab87-42a9-b8b4-cab2624fa48b",
   "metadata": {},
   "outputs": [
    {
     "name": "stdout",
     "output_type": "stream",
     "text": [
      "-10 -9\n",
      "-9 -8\n",
      "-8 -7\n",
      "-7 -6\n",
      "-6 -5\n",
      "-5 -4\n",
      "-4 -3\n",
      "-3 -2\n",
      "-2 -1\n",
      "-1 0\n",
      "0 1\n",
      "1 2\n",
      "2 3\n",
      "3 4\n",
      "4 5\n",
      "5 6\n",
      "6 7\n",
      "7 8\n",
      "8 9\n",
      "9 10\n"
     ]
    }
   ],
   "source": [
    "for i in range(-10, 10):\n",
    "    print(i, i+1)"
   ]
  },
  {
   "cell_type": "code",
   "execution_count": null,
   "id": "d2042c15-e64d-4741-8dcc-dbf2231cf510",
   "metadata": {},
   "outputs": [],
   "source": []
  }
 ],
 "metadata": {
  "kernelspec": {
   "display_name": "Python 3 (ipykernel)",
   "language": "python",
   "name": "python3"
  },
  "language_info": {
   "codemirror_mode": {
    "name": "ipython",
    "version": 3
   },
   "file_extension": ".py",
   "mimetype": "text/x-python",
   "name": "python",
   "nbconvert_exporter": "python",
   "pygments_lexer": "ipython3",
   "version": "3.12.4"
  }
 },
 "nbformat": 4,
 "nbformat_minor": 5
}
