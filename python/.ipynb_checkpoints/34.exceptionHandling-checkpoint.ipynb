{
 "cells": [
  {
   "cell_type": "code",
   "execution_count": 1,
   "id": "1805fac5-85ee-481b-bac6-5b1cfbd67d9d",
   "metadata": {},
   "outputs": [],
   "source": [
    "#generally something that disrups the normal event is exception\n",
    "#In python an exception is an event that occurs during programme execution that disrupts the regular flow of code"
   ]
  },
  {
   "cell_type": "code",
   "execution_count": 3,
   "id": "df7cc398-da03-4017-8559-4385d0f88e54",
   "metadata": {},
   "outputs": [
    {
     "data": {
      "text/plain": [
       "0.5555555555555556"
      ]
     },
     "execution_count": 3,
     "metadata": {},
     "output_type": "execute_result"
    }
   ],
   "source": [
    "5/9"
   ]
  },
  {
   "cell_type": "code",
   "execution_count": 5,
   "id": "d3ebe2d6-3769-46a3-8cc7-9f6b60852729",
   "metadata": {},
   "outputs": [
    {
     "data": {
      "text/plain": [
       "5.0"
      ]
     },
     "execution_count": 5,
     "metadata": {},
     "output_type": "execute_result"
    }
   ],
   "source": [
    "10/2"
   ]
  },
  {
   "cell_type": "code",
   "execution_count": 7,
   "id": "e4f8d9b1-a5b1-43f7-ba0c-b1e2db8df797",
   "metadata": {},
   "outputs": [
    {
     "name": "stdout",
     "output_type": "stream",
     "text": [
      "2.0\n",
      "0.6\n",
      "The code is running fine till now\n"
     ]
    },
    {
     "ename": "ZeroDivisionError",
     "evalue": "division by zero",
     "output_type": "error",
     "traceback": [
      "\u001b[1;31m---------------------------------------------------------------------------\u001b[0m",
      "\u001b[1;31mZeroDivisionError\u001b[0m                         Traceback (most recent call last)",
      "Cell \u001b[1;32mIn[7], line 4\u001b[0m\n\u001b[0;32m      2\u001b[0m \u001b[38;5;28mprint\u001b[39m(\u001b[38;5;241m3\u001b[39m\u001b[38;5;241m/\u001b[39m\u001b[38;5;241m5\u001b[39m)\n\u001b[0;32m      3\u001b[0m \u001b[38;5;28mprint\u001b[39m(\u001b[38;5;124m\"\u001b[39m\u001b[38;5;124mThe code is running fine till now\u001b[39m\u001b[38;5;124m\"\u001b[39m)\n\u001b[1;32m----> 4\u001b[0m \u001b[38;5;28mprint\u001b[39m(\u001b[38;5;241;43m6\u001b[39;49m\u001b[38;5;241;43m/\u001b[39;49m\u001b[38;5;241;43m0\u001b[39;49m) \u001b[38;5;66;03m#suspicious code #it threw an error thats why code after this didnt got executed\u001b[39;00m\n\u001b[0;32m      5\u001b[0m \u001b[38;5;28mprint\u001b[39m(\u001b[38;5;124m\"\u001b[39m\u001b[38;5;124mYour name is Ajay \u001b[39m\u001b[38;5;124m\"\u001b[39m)\n\u001b[0;32m      6\u001b[0m \u001b[38;5;28mprint\u001b[39m(\u001b[38;5;241m2\u001b[39m\u001b[38;5;241m+\u001b[39m\u001b[38;5;241m3\u001b[39m)\n",
      "\u001b[1;31mZeroDivisionError\u001b[0m: division by zero"
     ]
    }
   ],
   "source": [
    "print(4/2)\n",
    "print(3/5)\n",
    "print(\"The code is running fine till now\")\n",
    "print(6/0) #suspicious code #it threw an error thats why code after this didnt got executed\n",
    "print(\"Your name is Ajay \")\n",
    "print(2+3)\n",
    "print(\"The code ends\")"
   ]
  },
  {
   "cell_type": "code",
   "execution_count": 9,
   "id": "a1de0fcf-fd36-40af-9833-df2d0a37a49b",
   "metadata": {},
   "outputs": [
    {
     "name": "stdout",
     "output_type": "stream",
     "text": [
      "This is my first line of code\n",
      "90\n",
      "<class 'dict'>\n"
     ]
    },
    {
     "ename": "KeyError",
     "evalue": "'age'",
     "output_type": "error",
     "traceback": [
      "\u001b[1;31m---------------------------------------------------------------------------\u001b[0m",
      "\u001b[1;31mKeyError\u001b[0m                                  Traceback (most recent call last)",
      "Cell \u001b[1;32mIn[9], line 5\u001b[0m\n\u001b[0;32m      3\u001b[0m d \u001b[38;5;241m=\u001b[39m {\u001b[38;5;124m\"\u001b[39m\u001b[38;5;124mname\u001b[39m\u001b[38;5;124m\"\u001b[39m: \u001b[38;5;124m\"\u001b[39m\u001b[38;5;124mAjay\u001b[39m\u001b[38;5;124m\"\u001b[39m}\n\u001b[0;32m      4\u001b[0m \u001b[38;5;28mprint\u001b[39m(\u001b[38;5;28mtype\u001b[39m(d))\n\u001b[1;32m----> 5\u001b[0m \u001b[38;5;28mprint\u001b[39m(\u001b[43md\u001b[49m\u001b[43m[\u001b[49m\u001b[38;5;124;43m\"\u001b[39;49m\u001b[38;5;124;43mage\u001b[39;49m\u001b[38;5;124;43m\"\u001b[39;49m\u001b[43m]\u001b[49m) \u001b[38;5;66;03m#it threw an error thats why code after this didnt got executed\u001b[39;00m\n\u001b[0;32m      6\u001b[0m \u001b[38;5;28mprint\u001b[39m(\u001b[38;5;124m\"\u001b[39m\u001b[38;5;124mThis is last line of code\u001b[39m\u001b[38;5;124m\"\u001b[39m)\n",
      "\u001b[1;31mKeyError\u001b[0m: 'age'"
     ]
    }
   ],
   "source": [
    "print(\"This is my first line of code\")\n",
    "print(3*5*6)\n",
    "d = {\"name\": \"Ajay\"}\n",
    "print(type(d))\n",
    "print(d[\"age\"]) #it threw an error thats why code after this didnt got executed\n",
    "print(\"This is last line of code\")"
   ]
  },
  {
   "cell_type": "code",
   "execution_count": 11,
   "id": "a26e6904-bb82-42d9-aa11-680614d4ad53",
   "metadata": {},
   "outputs": [
    {
     "name": "stdout",
     "output_type": "stream",
     "text": [
      "9\n",
      "The file is opened and now I am performing some steps\n"
     ]
    }
   ],
   "source": [
    "f = open(\"example.txt\", \"r\")\n",
    "print(6+3)\n",
    "print(\"The file is opened and now I am performing some steps\")"
   ]
  },
  {
   "cell_type": "code",
   "execution_count": 13,
   "id": "bb9db42a-0dc4-4644-989e-b86a0ed60e87",
   "metadata": {},
   "outputs": [],
   "source": [
    "#syntax of try except\n",
    "# try:\n",
    "#     #suspicious code\n",
    "# except:\n",
    "#     #exceuted when exception occurs in try block"
   ]
  },
  {
   "cell_type": "code",
   "execution_count": 15,
   "id": "5d51f005-46f6-4c6b-a359-972fc620ab1a",
   "metadata": {},
   "outputs": [
    {
     "name": "stdout",
     "output_type": "stream",
     "text": [
      "9\n",
      "This is my next step\n"
     ]
    }
   ],
   "source": [
    "try:\n",
    "    f = open(\"example.txt\", \"r\")\n",
    "except Exception as e:#exception will always come inside except block\n",
    "    print(\"There is an issue with the code and the issue is:\", e)\n",
    "print(6+3)\n",
    "print(\"This is my next step\")"
   ]
  },
  {
   "cell_type": "code",
   "execution_count": 17,
   "id": "046f3bb0-138f-4b1e-a6ed-08233cefb6ba",
   "metadata": {},
   "outputs": [
    {
     "name": "stdout",
     "output_type": "stream",
     "text": [
      "division by zero\n",
      "8\n",
      "Your name is Ajay \n",
      "5\n",
      "The code ends\n"
     ]
    }
   ],
   "source": [
    "try:\n",
    "    5/0\n",
    "except Exception as e:\n",
    "    print(e)\n",
    "print(5+3)\n",
    "print(\"Your name is Ajay \")\n",
    "print(2+3)\n",
    "print(\"The code ends\")"
   ]
  },
  {
   "cell_type": "code",
   "execution_count": 19,
   "id": "ac8dc525-7979-4617-8d7c-a5b1b3cc5034",
   "metadata": {},
   "outputs": [
    {
     "name": "stdout",
     "output_type": "stream",
     "text": [
      "8\n",
      "This will be executed if try except block is executed without any exception\n"
     ]
    }
   ],
   "source": [
    "try:\n",
    "    f = open(\"example.txt\", \"r\")\n",
    "except Exception as e:\n",
    "    print(\"There is an issue with the code and the issue is:\", e)\n",
    "else:\n",
    "    print(5+3)\n",
    "    print(\"This will be executed if try except block is executed without any exception\")"
   ]
  },
  {
   "cell_type": "code",
   "execution_count": 21,
   "id": "6b3d397c-6962-4747-b568-571ae8c094bb",
   "metadata": {},
   "outputs": [
    {
     "name": "stdout",
     "output_type": "stream",
     "text": [
      "8\n",
      "This will be executed if try except block is executed without any exception\n"
     ]
    }
   ],
   "source": [
    "#use case -1\n",
    "try:\n",
    "    f = open(\"example.txt\", \"w\")\n",
    "except Exception as e:\n",
    "    print(\"There is an issue with the code and the issue is:\", e)\n",
    "else:\n",
    "    print(5+3)\n",
    "    print(\"This will be executed if try except block is executed without any exception\")\n"
   ]
  },
  {
   "cell_type": "code",
   "execution_count": 23,
   "id": "39495670-4e08-4afd-b9a8-49669302b98b",
   "metadata": {},
   "outputs": [
    {
     "name": "stdout",
     "output_type": "stream",
     "text": [
      "8\n",
      "This will be executed if try except block is executed without any exception\n"
     ]
    }
   ],
   "source": [
    "#use case 2\n",
    "try:\n",
    "    f = open(\"example.txt\", \"w\")\n",
    "    f.write(\"Hello to exception handling\") \n",
    "#you will not be able to see written content untill you close the file, close the file in else block\n",
    "except Exception as e:\n",
    "    print(\"There is an issue with the code and the issue is:\", e)\n",
    "else:\n",
    "    print(5+3)\n",
    "    print(\"This will be executed if try except block is executed without any exception\")\n"
   ]
  },
  {
   "cell_type": "code",
   "execution_count": 25,
   "id": "9d0617cf-482d-411f-924a-a8f03928661c",
   "metadata": {},
   "outputs": [
    {
     "name": "stdout",
     "output_type": "stream",
     "text": [
      "8\n",
      "This will be executed if try except block is executed without any exception\n"
     ]
    }
   ],
   "source": [
    "try:\n",
    "    f = open(\"example.txt\", \"w\")\n",
    "    f.write(\"Hello to exception handling\") \n",
    "#you will not be able to see written content untill you close the file, close the file in else block\n",
    "except Exception as e:\n",
    "    print(\"There is an issue with the code and the issue is:\", e)\n",
    "else:\n",
    "    f.close()\n",
    "    print(5+3)\n",
    "    print(\"This will be executed if try except block is executed without any exception\")\n"
   ]
  },
  {
   "cell_type": "code",
   "execution_count": 27,
   "id": "7bf02605-abd0-4f90-9f56-ba3a49918bd4",
   "metadata": {},
   "outputs": [],
   "source": [
    "#else block is very helpful when your code didnt enter the xception block\n",
    "#for example you wanted to close the file after it was opened in try block"
   ]
  },
  {
   "cell_type": "code",
   "execution_count": 29,
   "id": "124209a2-c905-476c-97d1-3b1cb0c39db3",
   "metadata": {},
   "outputs": [
    {
     "name": "stdout",
     "output_type": "stream",
     "text": [
      "8\n",
      "This will be executed if try except block is executed without any exception\n",
      "This will be executed always\n"
     ]
    }
   ],
   "source": [
    "#finally block >> always executed\n",
    "try:\n",
    "    f = open(\"example.txt\", \"w\")\n",
    "    f.write(\"Hello to exception handling\") \n",
    "except Exception as e:\n",
    "    print(\"There is an issue with the code and the issue is:\", e)\n",
    "else:\n",
    "    f.close()\n",
    "    print(5+3)\n",
    "    print(\"This will be executed if try except block is executed without any exception\")\n",
    "finally:\n",
    "    print(\"This will be executed always\")"
   ]
  },
  {
   "cell_type": "code",
   "execution_count": 31,
   "id": "1fc5a794-677f-4afa-8ca4-d2c6216473d8",
   "metadata": {},
   "outputs": [
    {
     "name": "stdout",
     "output_type": "stream",
     "text": [
      "There is an issue with the code and the issue is: [Errno 2] No such file or directory: 'example2.txt'\n",
      "This will be executed always\n"
     ]
    }
   ],
   "source": [
    "#finally block >> always executed\n",
    "#even if you enter exception block or not, finally will be executed always\n",
    "#similar to running other line of code\n",
    "try:\n",
    "    f = open(\"example2.txt\", \"r\")\n",
    "    f.write(\"Hello to exception handling\") \n",
    "except Exception as e:\n",
    "    print(\"There is an issue with the code and the issue is:\", e)\n",
    "else:\n",
    "    f.close()\n",
    "    print(5+3)\n",
    "    print(\"This will be executed if try except block is executed without any exception\")\n",
    "finally:\n",
    "    print(\"This will be executed always\")"
   ]
  },
  {
   "cell_type": "code",
   "execution_count": 33,
   "id": "29be1d6d-2f43-48ca-8c5e-c08b46d61b26",
   "metadata": {},
   "outputs": [
    {
     "name": "stdout",
     "output_type": "stream",
     "text": [
      "There is an issue with the code and the issue is: [Errno 2] No such file or directory: 'example2.txt'\n",
      "This will be executed always\n"
     ]
    }
   ],
   "source": [
    "try:\n",
    "    f = open(\"example2.txt\", \"r\")\n",
    "    f.write(\"Hello to exception handling\") \n",
    "except Exception as e:\n",
    "    print(\"There is an issue with the code and the issue is:\", e)\n",
    "else:\n",
    "    f.close()\n",
    "    print(5+3)\n",
    "    print(\"This will be executed if try except block is executed without any exception\")\n",
    "\n",
    "print(\"This will be executed always\")"
   ]
  },
  {
   "cell_type": "code",
   "execution_count": 35,
   "id": "8bb1a07f-b6e2-45e2-a460-0dc9b4b15194",
   "metadata": {},
   "outputs": [
    {
     "name": "stdout",
     "output_type": "stream",
     "text": [
      "division by zero\n",
      "This will be printed always\n"
     ]
    }
   ],
   "source": [
    "#another example\n",
    "try:\n",
    "    5/0\n",
    "except Exception as e:\n",
    "    print(e)\n",
    "finally:\n",
    "    print(\"This will be printed always\")"
   ]
  },
  {
   "cell_type": "code",
   "execution_count": 37,
   "id": "4ee8f800-2b0f-493f-8ee0-f7eea0bd686a",
   "metadata": {},
   "outputs": [
    {
     "name": "stdin",
     "output_type": "stream",
     "text": [
      "Enter your salary 45000\n"
     ]
    }
   ],
   "source": [
    "#custom exception\n",
    "income = int(input(\"Enter your salary\"))"
   ]
  },
  {
   "cell_type": "code",
   "execution_count": 39,
   "id": "f94f77ea-357d-42be-9c0f-abd2e0b86524",
   "metadata": {},
   "outputs": [],
   "source": [
    "def validate_salary(salary):\n",
    "    if salary <= 0:\n",
    "        print(\"negative salary is not possible\")\n",
    "    elif salary >= 30000000:\n",
    "        print(\"salary is unexpected\")\n",
    "    else:\n",
    "        print(\"salary is valid\")"
   ]
  },
  {
   "cell_type": "code",
   "execution_count": 41,
   "id": "ba1d8fe2-3ea3-4147-a34d-5530063467dd",
   "metadata": {},
   "outputs": [
    {
     "name": "stdout",
     "output_type": "stream",
     "text": [
      "salary is valid\n"
     ]
    }
   ],
   "source": [
    "validate_salary(500)"
   ]
  },
  {
   "cell_type": "code",
   "execution_count": 43,
   "id": "7e8b54ff-bc17-4c21-9f34-f3c66d89dfc2",
   "metadata": {},
   "outputs": [],
   "source": [
    "#custom exception class\n",
    "class ValidateSalary(Exception): #Exception is the parent class where all type of python exceptions are available\n",
    "    def __init__(self, msg):\n",
    "        self.msg = msg"
   ]
  },
  {
   "cell_type": "code",
   "execution_count": 45,
   "id": "f315e4a5-2508-4d02-b790-78262e5eaf23",
   "metadata": {},
   "outputs": [],
   "source": [
    "def validate_salary(salary):\n",
    "    if salary <= 0:\n",
    "        raise ValidateSalary(\"negative salary is not possible\")\n",
    "    elif salary >= 30000000:\n",
    "        raise ValidateSalary(\"salary is unexpected\")\n",
    "    else:\n",
    "        print(\"salary is valid\")"
   ]
  },
  {
   "cell_type": "code",
   "execution_count": 47,
   "id": "e94fe9b1-d2a4-445b-acf3-99e9f33a82b3",
   "metadata": {},
   "outputs": [
    {
     "name": "stdin",
     "output_type": "stream",
     "text": [
      "Enter your salary 3600000000\n"
     ]
    },
    {
     "name": "stdout",
     "output_type": "stream",
     "text": [
      "salary is unexpected\n"
     ]
    }
   ],
   "source": [
    "try:\n",
    "    salary = int(input(\"Enter your salary\"))\n",
    "    validate_salary(salary)\n",
    "except ValidateSalary as e:\n",
    "    print(e)"
   ]
  },
  {
   "cell_type": "code",
   "execution_count": null,
   "id": "a62a06ea-7ba5-4251-9b5a-0891c2d62bc2",
   "metadata": {},
   "outputs": [],
   "source": []
  }
 ],
 "metadata": {
  "kernelspec": {
   "display_name": "Python 3 (ipykernel)",
   "language": "python",
   "name": "python3"
  },
  "language_info": {
   "codemirror_mode": {
    "name": "ipython",
    "version": 3
   },
   "file_extension": ".py",
   "mimetype": "text/x-python",
   "name": "python",
   "nbconvert_exporter": "python",
   "pygments_lexer": "ipython3",
   "version": "3.12.4"
  }
 },
 "nbformat": 4,
 "nbformat_minor": 5
}
