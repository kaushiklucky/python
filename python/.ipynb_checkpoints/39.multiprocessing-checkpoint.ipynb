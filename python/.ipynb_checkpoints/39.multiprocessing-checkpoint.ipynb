{
 "cells": [
  {
   "cell_type": "code",
   "execution_count": 1,
   "id": "36956f12-164d-476d-a944-bc50788ecbba",
   "metadata": {},
   "outputs": [
    {
     "name": "stdout",
     "output_type": "stream",
     "text": [
      "do something\n",
      "sleep for 1 sec\n",
      "done with sleeping\n",
      "do something\n",
      "sleep for 1 sec\n",
      "done with sleeping\n",
      "The program finished in 2.0 seconds\n"
     ]
    }
   ],
   "source": [
    "import time\n",
    "start = time.perf_counter()\n",
    "\n",
    "def test_func():\n",
    "    print(\"do something\")\n",
    "    print(\"sleep for 1 sec\")\n",
    "    time.sleep(1)\n",
    "    print(\"done with sleeping\")\n",
    "test_func()\n",
    "test_func()\n",
    "end = time.perf_counter()\n",
    "\n",
    "print(f\"The program finished in {round(end-start, 2)} seconds\")"
   ]
  },
  {
   "cell_type": "code",
   "execution_count": 2,
   "id": "d402abaf-3aa1-44cc-baa9-c03360f2408b",
   "metadata": {},
   "outputs": [
    {
     "name": "stdout",
     "output_type": "stream",
     "text": [
      "The program finished in 0.23 seconds\n"
     ]
    }
   ],
   "source": [
    "import multiprocessing\n",
    "\n",
    "import time\n",
    "start = time.perf_counter()\n",
    "\n",
    "def test_func():\n",
    "    print(\"do something\")\n",
    "    print(\"sleep for 1 sec\")\n",
    "    time.sleep(1)\n",
    "    print(\"done with sleeping\")\n",
    "\n",
    "p1 = multiprocessing.Process(target = test_func)\n",
    "p2 = multiprocessing.Process(target = test_func)\n",
    "\n",
    "p1.start()\n",
    "p2.start()\n",
    "\n",
    "p1.join()\n",
    "p2.join()\n",
    "    \n",
    "\n",
    "end = time.perf_counter()\n",
    "\n",
    "print(f\"The program finished in {round(end-start, 2)} seconds\")"
   ]
  },
  {
   "cell_type": "code",
   "execution_count": 3,
   "id": "63a8a23d-cd62-4a0e-bd13-e7b70c453641",
   "metadata": {},
   "outputs": [
    {
     "name": "stdout",
     "output_type": "stream",
     "text": [
      "The program finished in 0.62 seconds\n"
     ]
    }
   ],
   "source": [
    "import multiprocessing\n",
    "\n",
    "import time\n",
    "start = time.perf_counter()\n",
    "\n",
    "def test_func():\n",
    "    print(\"do something\")\n",
    "    print(\"sleep for 1 sec\")\n",
    "    time.sleep(1)\n",
    "    print(\"done with sleeping\")\n",
    "\n",
    "processes = []\n",
    "for i in range(10):\n",
    "    p = multiprocessing.Process(target = test_func)\n",
    "    p.start()\n",
    "    processes.append(p)\n",
    "    \n",
    "for process in processes:\n",
    "    process.join()\n",
    "\n",
    "    \n",
    "\n",
    "end = time.perf_counter()\n",
    "\n",
    "print(f\"The program finished in {round(end-start, 2)} seconds\")"
   ]
  },
  {
   "cell_type": "code",
   "execution_count": 4,
   "id": "dcfaac4c-b0a8-49a9-b7e7-bebb3a1fec33",
   "metadata": {},
   "outputs": [
    {
     "name": "stdout",
     "output_type": "stream",
     "text": [
      "[1, 2, 5, 3, 1345294336]\n",
      "The program finished in 0.26 seconds\n"
     ]
    }
   ],
   "source": [
    "#multiprocessing>> should be used in case of computation\n",
    "#use case 1:\n",
    "\n",
    "import multiprocessing\n",
    "\n",
    "import time\n",
    "start = time.perf_counter()\n",
    "\n",
    "def square(index, value):\n",
    "    value[index] = value[index] ** 2\n",
    "\n",
    "arr = multiprocessing.Array('i', [1, 2, 5, 3, 40000000000])\n",
    "\n",
    "\n",
    "processes = []\n",
    "for i in range(5): #in array 5 nos, therefore loop will be in range(5)\n",
    "    p = multiprocessing.Process(target = square, args = (i, arr))\n",
    "    p.start()\n",
    "    processes.append(p)\n",
    "    \n",
    "for process in processes:\n",
    "    process.join()\n",
    "\n",
    "print(list(arr))\n",
    "\n",
    "    \n",
    "\n",
    "end = time.perf_counter()\n",
    "\n",
    "print(f\"The program finished in {round(end-start, 2)} seconds\")"
   ]
  },
  {
   "cell_type": "code",
   "execution_count": null,
   "id": "9dadc993-06bf-4b91-b3b0-9a31a3426777",
   "metadata": {},
   "outputs": [],
   "source": [
    "#using multiprocessing.pool\n",
    "\n",
    "start = time.perf_counter()\n",
    "def square(no):\n",
    "    result = no*no\n",
    "    print(f\"The square of {no} is {result}  .\")\n",
    "\n",
    "numbers = [1, 2, 3, 4, 6000]\n",
    "\n",
    "with multiprocessing.Pool() as pool:\n",
    "    pool.map(square, numbers)\n",
    "    \n",
    "end = time.perf_counter()\n",
    "\n",
    "print(f\"The program finished in {round(end-start, 2)} seconds\")"
   ]
  },
  {
   "cell_type": "code",
   "execution_count": null,
   "id": "365efe35-3be1-4586-b40b-5572b0afa4c7",
   "metadata": {},
   "outputs": [],
   "source": [
    "#no order in the results shows multiple core/processors being used and result returned not sequentially>>parallel execution of the code"
   ]
  },
  {
   "cell_type": "code",
   "execution_count": null,
   "id": "6f7cf598-4494-454b-8d50-732e1f0e273c",
   "metadata": {},
   "outputs": [],
   "source": [
    "#use case 2:\n",
    "#say you want to get admission is a school\n",
    "#you will make a enrollment request in a queue\n",
    "#these requests will be processed from the queue and registration will be done\n",
    "\n",
    "#These enrollment and registration tasks can run in parallel\n",
    "#this means while one process is busy putting the requests into the queue, the other process\n",
    "#can be busy processing those request\n"
   ]
  },
  {
   "cell_type": "code",
   "execution_count": null,
   "id": "e17b7a2b-8470-4ced-adc6-c112a3fd1a12",
   "metadata": {},
   "outputs": [],
   "source": [
    "import multiprocessing\n",
    "\n",
    "def enroll_students(student_queue):\n",
    "    for student in [\"Rahul\", \"Rohit\", \"Aman\", \"Ajay\"]:\n",
    "        student_queue.put(f\"enroll request for {student}\")\n",
    "        \n",
    "def register_students(students_queue):\n",
    "    while True:\n",
    "        enrollment_req = student_queue.get()\n",
    "        if enrollment_req is None:\n",
    "            break\n",
    "        print(f\"Register the enrollment request: {enrollment_req}\")\n",
    "        \n",
    "if True:\n",
    "    student_queue = multiprocessing.Queue() #multiprocessing has data structure queue\n",
    "    enrollment_process = multiprocessing.Process(target = enroll_students, args = (student_queue,))\n",
    "    reg_process = multiprocessing.Process(target = register_students, args = (student_queue,))\n",
    "    \n",
    "    enrollment_process.start()\n",
    "    reg_process.start()\n",
    "    \n",
    "    enrollment_process.join()\n",
    "    reg_process.join()"
   ]
  },
  {
   "cell_type": "code",
   "execution_count": null,
   "id": "cde78588-b72e-4ac7-b1b9-94ec5f90d6c3",
   "metadata": {},
   "outputs": [],
   "source": [
    "#using concurrent.futures process pool\n",
    "import concurrent.futures\n",
    "\n",
    "import time\n",
    "start = time.perf_counter()\n",
    "\n",
    "def test_func(i):\n",
    "    print(\"do something\")\n",
    "    print(\"sleep for 1 sec\")\n",
    "    time.sleep(1)\n",
    "    print(\"done with sleeping\")\n",
    "\n",
    "with concurrent.futures.ProcessPoolExecutor() as executor:\n",
    "    executor.map(test_func, range(10))\n",
    "\n",
    "    \n",
    "\n",
    "end = time.perf_counter()\n",
    "\n",
    "print(f\"The program finished in {round(end-start, 2)} seconds\")"
   ]
  },
  {
   "cell_type": "code",
   "execution_count": null,
   "id": "4dbaab7a-3daa-422c-97c9-71e0ccd4fa02",
   "metadata": {},
   "outputs": [],
   "source": []
  }
 ],
 "metadata": {
  "kernelspec": {
   "display_name": "Python 3 (ipykernel)",
   "language": "python",
   "name": "python3"
  },
  "language_info": {
   "codemirror_mode": {
    "name": "ipython",
    "version": 3
   },
   "file_extension": ".py",
   "mimetype": "text/x-python",
   "name": "python",
   "nbconvert_exporter": "python",
   "pygments_lexer": "ipython3",
   "version": "3.12.4"
  }
 },
 "nbformat": 4,
 "nbformat_minor": 5
}
