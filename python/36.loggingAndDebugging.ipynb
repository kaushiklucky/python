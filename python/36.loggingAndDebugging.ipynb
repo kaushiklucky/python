{
 "cells": [
  {
   "cell_type": "code",
   "execution_count": 1,
   "id": "7cd727dc-13b5-41c4-b5d8-8900ec71c544",
   "metadata": {},
   "outputs": [],
   "source": [
    "# debugging >> it is the process of identifying and fixing bug/issues in your code\n",
    "# debugging involves >> breaking the code(checkpoints), excuting the code, inspecting the variable using print statment"
   ]
  },
  {
   "cell_type": "code",
   "execution_count": 2,
   "id": "f25eb1dd-69a7-461d-8767-d85ef77a8091",
   "metadata": {},
   "outputs": [],
   "source": [
    "def divide(a,b):\n",
    "    return a/b"
   ]
  },
  {
   "cell_type": "code",
   "execution_count": 4,
   "id": "c2a6e0a0-c331-4aef-8e3c-b5c7779eaea2",
   "metadata": {},
   "outputs": [
    {
     "data": {
      "text/plain": [
       "5.0"
      ]
     },
     "execution_count": 4,
     "metadata": {},
     "output_type": "execute_result"
    }
   ],
   "source": [
    "divide(10, 2)"
   ]
  },
  {
   "cell_type": "code",
   "execution_count": 14,
   "id": "7154d457-816a-4555-8272-2c3f98ee5ce6",
   "metadata": {},
   "outputs": [
    {
     "data": {
      "text/plain": [
       "4.0"
      ]
     },
     "execution_count": 14,
     "metadata": {},
     "output_type": "execute_result"
    }
   ],
   "source": [
    "divide(12, 3)"
   ]
  },
  {
   "cell_type": "code",
   "execution_count": 16,
   "id": "76a09ca9-5d51-4318-86b8-4cfc6727ce61",
   "metadata": {},
   "outputs": [
    {
     "ename": "ZeroDivisionError",
     "evalue": "division by zero",
     "output_type": "error",
     "traceback": [
      "\u001b[1;31m---------------------------------------------------------------------------\u001b[0m",
      "\u001b[1;31mZeroDivisionError\u001b[0m                         Traceback (most recent call last)",
      "Cell \u001b[1;32mIn[16], line 1\u001b[0m\n\u001b[1;32m----> 1\u001b[0m divide(\u001b[38;5;241;43m10\u001b[39;49m\u001b[38;5;241;43m/\u001b[39;49m\u001b[38;5;241;43m0\u001b[39;49m)\n",
      "\u001b[1;31mZeroDivisionError\u001b[0m: division by zero"
     ]
    }
   ],
   "source": [
    "divide(10/0)"
   ]
  },
  {
   "cell_type": "code",
   "execution_count": 12,
   "id": "d5d44246-ab87-42a9-b8b4-cab2624fa48b",
   "metadata": {},
   "outputs": [
    {
     "name": "stdout",
     "output_type": "stream",
     "text": [
      "-10 -9\n",
      "-9 -8\n",
      "-8 -7\n",
      "-7 -6\n",
      "-6 -5\n",
      "-5 -4\n",
      "-4 -3\n",
      "-3 -2\n",
      "-2 -1\n",
      "-1 0\n",
      "0 1\n",
      "1 2\n",
      "2 3\n",
      "3 4\n",
      "4 5\n",
      "5 6\n",
      "6 7\n",
      "7 8\n",
      "8 9\n",
      "9 10\n"
     ]
    }
   ],
   "source": [
    "for i in range(-10, 10):\n",
    "    print(i, i+1)"
   ]
  },
  {
   "cell_type": "code",
   "execution_count": 20,
   "id": "fa5a2ad0-59c2-4a66-aa1c-8c6df6b9ddb1",
   "metadata": {},
   "outputs": [
    {
     "ename": "ZeroDivisionError",
     "evalue": "division by zero",
     "output_type": "error",
     "traceback": [
      "\u001b[1;31m---------------------------------------------------------------------------\u001b[0m",
      "\u001b[1;31mZeroDivisionError\u001b[0m                         Traceback (most recent call last)",
      "Cell \u001b[1;32mIn[20], line 2\u001b[0m\n\u001b[0;32m      1\u001b[0m \u001b[38;5;28;01mfor\u001b[39;00m i \u001b[38;5;129;01min\u001b[39;00m \u001b[38;5;28mrange\u001b[39m(\u001b[38;5;241m-\u001b[39m\u001b[38;5;241m10\u001b[39m, \u001b[38;5;241m10\u001b[39m):\n\u001b[1;32m----> 2\u001b[0m     \u001b[43mdivide\u001b[49m\u001b[43m(\u001b[49m\u001b[43mi\u001b[49m\u001b[43m,\u001b[49m\u001b[43m \u001b[49m\u001b[43mi\u001b[49m\u001b[38;5;241;43m+\u001b[39;49m\u001b[38;5;241;43m1\u001b[39;49m\u001b[43m)\u001b[49m\n\u001b[0;32m      3\u001b[0m \u001b[38;5;66;03m# you have called divide function many times\u001b[39;00m\n\u001b[0;32m      4\u001b[0m \u001b[38;5;66;03m# at somewhere its throwing error, but where?\u001b[39;00m\n\u001b[0;32m      5\u001b[0m \u001b[38;5;66;03m# you have to debuge the code >> for what value of a and b parameter, its throwing error\u001b[39;00m\n",
      "Cell \u001b[1;32mIn[2], line 2\u001b[0m, in \u001b[0;36mdivide\u001b[1;34m(a, b)\u001b[0m\n\u001b[0;32m      1\u001b[0m \u001b[38;5;28;01mdef\u001b[39;00m \u001b[38;5;21mdivide\u001b[39m(a,b):\n\u001b[1;32m----> 2\u001b[0m     \u001b[38;5;28;01mreturn\u001b[39;00m \u001b[43ma\u001b[49m\u001b[38;5;241;43m/\u001b[39;49m\u001b[43mb\u001b[49m\n",
      "\u001b[1;31mZeroDivisionError\u001b[0m: division by zero"
     ]
    }
   ],
   "source": [
    "for i in range(-10, 10):\n",
    "    divide(i, i+1)\n",
    "# you have called divide function many times\n",
    "# at somewhere its throwing error, but where?\n",
    "# you have to debuge the code >> for what value of a and b parameter, its throwing error"
   ]
  },
  {
   "cell_type": "raw",
   "id": "dff2f60f-3027-41b1-802b-79da37a38dc4",
   "metadata": {},
   "source": [
    "how to debug >>\n",
    "breaking the code(checkpoint)\n",
    "excuting the code\n",
    "inspecting the variable using print statment"
   ]
  },
  {
   "cell_type": "code",
   "execution_count": 22,
   "id": "2953739b-2c92-4818-9c67-7c13f5eae872",
   "metadata": {},
   "outputs": [
    {
     "ename": "ZeroDivisionError",
     "evalue": "division by zero",
     "output_type": "error",
     "traceback": [
      "\u001b[1;31m---------------------------------------------------------------------------\u001b[0m",
      "\u001b[1;31mZeroDivisionError\u001b[0m                         Traceback (most recent call last)",
      "Cell \u001b[1;32mIn[22], line 5\u001b[0m\n\u001b[0;32m      2\u001b[0m     \u001b[38;5;28;01mreturn\u001b[39;00m a\u001b[38;5;241m/\u001b[39mb\n\u001b[0;32m      4\u001b[0m \u001b[38;5;28;01mfor\u001b[39;00m i \u001b[38;5;129;01min\u001b[39;00m \u001b[38;5;28mrange\u001b[39m(\u001b[38;5;241m-\u001b[39m\u001b[38;5;241m10\u001b[39m, \u001b[38;5;241m10\u001b[39m):\n\u001b[1;32m----> 5\u001b[0m     \u001b[43mdivide\u001b[49m\u001b[43m(\u001b[49m\u001b[43mi\u001b[49m\u001b[43m,\u001b[49m\u001b[43m \u001b[49m\u001b[43mi\u001b[49m\u001b[38;5;241;43m+\u001b[39;49m\u001b[38;5;241;43m1\u001b[39;49m\u001b[43m)\u001b[49m\n\u001b[0;32m      7\u001b[0m \u001b[38;5;66;03m# breaking the code >> logically >> here we understand that there are two steps involved\u001b[39;00m\n\u001b[0;32m      8\u001b[0m \u001b[38;5;66;03m# break the code it terms of excution as well using return statment or print statment\u001b[39;00m\n\u001b[0;32m      9\u001b[0m \u001b[38;5;66;03m# first a loop and second calling divide function in loop\u001b[39;00m\n",
      "Cell \u001b[1;32mIn[22], line 2\u001b[0m, in \u001b[0;36mdivide\u001b[1;34m(a, b)\u001b[0m\n\u001b[0;32m      1\u001b[0m \u001b[38;5;28;01mdef\u001b[39;00m \u001b[38;5;21mdivide\u001b[39m(a,b):\n\u001b[1;32m----> 2\u001b[0m     \u001b[38;5;28;01mreturn\u001b[39;00m \u001b[43ma\u001b[49m\u001b[38;5;241;43m/\u001b[39;49m\u001b[43mb\u001b[49m\n",
      "\u001b[1;31mZeroDivisionError\u001b[0m: division by zero"
     ]
    }
   ],
   "source": [
    "def divide(a,b):\n",
    "    return a/b\n",
    "\n",
    "for i in range(-10, 10):\n",
    "    divide(i, i+1)\n",
    "\n",
    "# breaking the code >> logically >> here we understand that there are two steps involved\n",
    "# break the code it terms of excution as well using return statment or print statment\n",
    "# first a loop and second calling divide function in loop"
   ]
  },
  {
   "cell_type": "code",
   "execution_count": 24,
   "id": "85924c5c-22f0-47f3-9ec5-c18b66dcf572",
   "metadata": {},
   "outputs": [
    {
     "name": "stdout",
     "output_type": "stream",
     "text": [
      "-10 -9\n",
      "-9 -8\n",
      "-8 -7\n",
      "-7 -6\n",
      "-6 -5\n",
      "-5 -4\n",
      "-4 -3\n",
      "-3 -2\n",
      "-2 -1\n",
      "-1 0\n"
     ]
    },
    {
     "ename": "ZeroDivisionError",
     "evalue": "division by zero",
     "output_type": "error",
     "traceback": [
      "\u001b[1;31m---------------------------------------------------------------------------\u001b[0m",
      "\u001b[1;31mZeroDivisionError\u001b[0m                         Traceback (most recent call last)",
      "Cell \u001b[1;32mIn[24], line 7\u001b[0m\n\u001b[0;32m      5\u001b[0m \u001b[38;5;28;01mfor\u001b[39;00m i \u001b[38;5;129;01min\u001b[39;00m \u001b[38;5;28mrange\u001b[39m(\u001b[38;5;241m-\u001b[39m\u001b[38;5;241m10\u001b[39m, \u001b[38;5;241m10\u001b[39m):\n\u001b[0;32m      6\u001b[0m     \u001b[38;5;28mprint\u001b[39m(i, i\u001b[38;5;241m+\u001b[39m\u001b[38;5;241m1\u001b[39m)\n\u001b[1;32m----> 7\u001b[0m     \u001b[43mdivide\u001b[49m\u001b[43m(\u001b[49m\u001b[43mi\u001b[49m\u001b[43m,\u001b[49m\u001b[43m \u001b[49m\u001b[43mi\u001b[49m\u001b[38;5;241;43m+\u001b[39;49m\u001b[38;5;241;43m1\u001b[39;49m\u001b[43m)\u001b[49m\n",
      "Cell \u001b[1;32mIn[24], line 3\u001b[0m, in \u001b[0;36mdivide\u001b[1;34m(a, b)\u001b[0m\n\u001b[0;32m      2\u001b[0m \u001b[38;5;28;01mdef\u001b[39;00m \u001b[38;5;21mdivide\u001b[39m(a, b):\n\u001b[1;32m----> 3\u001b[0m     \u001b[38;5;28;01mreturn\u001b[39;00m \u001b[43ma\u001b[49m\u001b[38;5;241;43m/\u001b[39;49m\u001b[43mb\u001b[49m\n",
      "\u001b[1;31mZeroDivisionError\u001b[0m: division by zero"
     ]
    }
   ],
   "source": [
    "#using print statement to debug\n",
    "def divide(a, b):\n",
    "    return a/b\n",
    "\n",
    "for i in range(-10, 10):\n",
    "    print(i, i+1)\n",
    "    divide(i, i+1)"
   ]
  },
  {
   "cell_type": "code",
   "execution_count": 26,
   "id": "81b5a341-680d-48a7-9c41-9b1888e1c82f",
   "metadata": {},
   "outputs": [
    {
     "name": "stdout",
     "output_type": "stream",
     "text": [
      "-10 -9\n",
      "-9 -8\n",
      "-8 -7\n",
      "-7 -6\n",
      "-6 -5\n",
      "-5 -4\n",
      "-4 -3\n",
      "-3 -2\n",
      "-2 -1\n",
      "-1 0\n"
     ]
    },
    {
     "ename": "ZeroDivisionError",
     "evalue": "division by zero",
     "output_type": "error",
     "traceback": [
      "\u001b[1;31m---------------------------------------------------------------------------\u001b[0m",
      "\u001b[1;31mZeroDivisionError\u001b[0m                         Traceback (most recent call last)",
      "Cell \u001b[1;32mIn[26], line 8\u001b[0m\n\u001b[0;32m      4\u001b[0m     \u001b[38;5;28;01mreturn\u001b[39;00m a\u001b[38;5;241m/\u001b[39mb\n\u001b[0;32m      6\u001b[0m \u001b[38;5;28;01mfor\u001b[39;00m i \u001b[38;5;129;01min\u001b[39;00m \u001b[38;5;28mrange\u001b[39m(\u001b[38;5;241m-\u001b[39m\u001b[38;5;241m10\u001b[39m, \u001b[38;5;241m10\u001b[39m):\n\u001b[0;32m      7\u001b[0m     \u001b[38;5;66;03m# print(i, i+1)\u001b[39;00m\n\u001b[1;32m----> 8\u001b[0m     \u001b[43mdivide\u001b[49m\u001b[43m(\u001b[49m\u001b[43mi\u001b[49m\u001b[43m,\u001b[49m\u001b[43m \u001b[49m\u001b[43mi\u001b[49m\u001b[38;5;241;43m+\u001b[39;49m\u001b[38;5;241;43m1\u001b[39;49m\u001b[43m)\u001b[49m\n",
      "Cell \u001b[1;32mIn[26], line 4\u001b[0m, in \u001b[0;36mdivide\u001b[1;34m(a, b)\u001b[0m\n\u001b[0;32m      2\u001b[0m \u001b[38;5;28;01mdef\u001b[39;00m \u001b[38;5;21mdivide\u001b[39m(a, b):\n\u001b[0;32m      3\u001b[0m     \u001b[38;5;28mprint\u001b[39m(a, b)\n\u001b[1;32m----> 4\u001b[0m     \u001b[38;5;28;01mreturn\u001b[39;00m \u001b[43ma\u001b[49m\u001b[38;5;241;43m/\u001b[39;49m\u001b[43mb\u001b[49m\n",
      "\u001b[1;31mZeroDivisionError\u001b[0m: division by zero"
     ]
    }
   ],
   "source": [
    "#using another print statment inside function\n",
    "def divide(a, b):\n",
    "    print(a, b)\n",
    "    return a/b\n",
    "\n",
    "for i in range(-10, 10):\n",
    "    # print(i, i+1)\n",
    "    divide(i, i+1)"
   ]
  },
  {
   "cell_type": "code",
   "execution_count": 28,
   "id": "e97235e8-eef0-41e2-8518-fcd279802f3d",
   "metadata": {},
   "outputs": [
    {
     "name": "stdout",
     "output_type": "stream",
     "text": [
      "-10 -9\n",
      "-9 -8\n",
      "-8 -7\n",
      "-7 -6\n",
      "-6 -5\n",
      "-5 -4\n",
      "-4 -3\n",
      "-3 -2\n",
      "-2 -1\n",
      "-1 0\n",
      "zero divion error\n",
      "0 1\n",
      "1 2\n",
      "2 3\n",
      "3 4\n",
      "4 5\n",
      "5 6\n",
      "6 7\n",
      "7 8\n",
      "8 9\n",
      "9 10\n"
     ]
    }
   ],
   "source": [
    "#from print statment you understand that when b is 0, it throws the error\n",
    "def divide(a, b):\n",
    "    print(a, b)\n",
    "    #breaking the code in terms of execution\n",
    "    if b == 0:\n",
    "        print(\"zero divion error\")\n",
    "        return \n",
    "    return a/b\n",
    "\n",
    "for i in range(-10, 10):\n",
    "    # print(i, i+1)\n",
    "    divide(i, i+1)"
   ]
  },
  {
   "cell_type": "code",
   "execution_count": 30,
   "id": "7abe65a1-2aad-4b8c-b87d-58730b2e2929",
   "metadata": {},
   "outputs": [],
   "source": [
    "#print statment is not a pythonic way to debug>>print statments are not efficient\n",
    "#print statment is good for simple scripts but not complex\n",
    "#in console/terminal all the print statments will be lost\n",
    "#you use logging instead of print stament"
   ]
  },
  {
   "cell_type": "code",
   "execution_count": 32,
   "id": "85ff68de-ceda-425d-af72-d01b2f03efbf",
   "metadata": {},
   "outputs": [],
   "source": [
    "#logging>> it records the state and flow of your program/code/software\n",
    "#it is useful for understanding, monitoring and debugging of your code\n",
    "#it shows how program behaves over time\n",
    "\n",
    "\n",
    "#Analogy>> diary entry since childhood to now>>you will understand how you evolved\n",
    "#similrly in complex scripts to understand how your code is changing the result over time, you can log the specific steps"
   ]
  },
  {
   "cell_type": "code",
   "execution_count": 34,
   "id": "846ebd8c-86ef-4b8e-9f62-986de10b7ad1",
   "metadata": {},
   "outputs": [],
   "source": [
    "#logging supports different levels of logging which helps to categorize messages based on their severity\n",
    "#analogy>> different level of severity if terror attack>>can go to emergency\n",
    "#similarly in logging we have different levels"
   ]
  },
  {
   "cell_type": "code",
   "execution_count": 36,
   "id": "5f9e4f8f-0b9d-4b01-b299-8b793140a198",
   "metadata": {},
   "outputs": [],
   "source": [
    "import logging"
   ]
  },
  {
   "cell_type": "code",
   "execution_count": 38,
   "id": "15300d8e-14f2-48be-aa9e-abb9bf392c90",
   "metadata": {},
   "outputs": [],
   "source": [
    "logging.basicConfig(filename = 'test.log', level = logging.INFO)"
   ]
  },
  {
   "cell_type": "code",
   "execution_count": 40,
   "id": "e3f6d579-34db-4f01-aaa6-0a2e7aa14662",
   "metadata": {},
   "outputs": [],
   "source": [
    "logging.info(\"This is my normal information about the software\")"
   ]
  },
  {
   "cell_type": "code",
   "execution_count": 42,
   "id": "5851fe73-e2f5-4487-a3f6-b95fc091a451",
   "metadata": {},
   "outputs": [],
   "source": [
    "logging.warning(\"There can be empty list here\")"
   ]
  },
  {
   "cell_type": "code",
   "execution_count": 44,
   "id": "cbf58713-796f-45e8-8c6f-55e04a0608e3",
   "metadata": {},
   "outputs": [],
   "source": [
    "logging.debug(\"The length of list is\")"
   ]
  },
  {
   "cell_type": "code",
   "execution_count": 46,
   "id": "3de9f9af-38f3-43f2-9a30-409163bc0f52",
   "metadata": {},
   "outputs": [],
   "source": [
    "logging .error(\"Some error has happened\")"
   ]
  },
  {
   "cell_type": "code",
   "execution_count": 48,
   "id": "788e3e61-9f05-4ce6-a4d1-ac182afcacee",
   "metadata": {},
   "outputs": [],
   "source": [
    "logging.critical(\"The software has stopped running\")"
   ]
  },
  {
   "cell_type": "code",
   "execution_count": 50,
   "id": "863282ed-b499-418b-8e3b-850de188e788",
   "metadata": {},
   "outputs": [],
   "source": [
    "logging.shutdown()"
   ]
  },
  {
   "cell_type": "code",
   "execution_count": 52,
   "id": "da52a92a-daf9-4b13-82b7-060bbff581b9",
   "metadata": {},
   "outputs": [],
   "source": [
    "import logging\n",
    "logging.basicConfig(filename = \"test_new.log\", level = logging.DEBUG, format = '%(asctime)s %(message)s')"
   ]
  },
  {
   "cell_type": "code",
   "execution_count": 54,
   "id": "97648fe6-50da-493a-ab69-aa8513fc8911",
   "metadata": {},
   "outputs": [],
   "source": [
    "logging.debug(\"This msg is for debugging\")\n",
    "logging.info(\"This is my info msg\")\n",
    "logging.warning(\"This is my warning msg\")\n",
    "logging.shutdown()"
   ]
  },
  {
   "cell_type": "code",
   "execution_count": 56,
   "id": "475d7ad1-56eb-423c-b11f-0c9ab1e3cff7",
   "metadata": {},
   "outputs": [],
   "source": [
    "#say you want level name in logs as well\n",
    "\n",
    "import logging\n",
    "logging.basicConfig(filename = \"test_new1.log\", level = logging.DEBUG, format = '%(asctime)s %(levelname)s %(message)s')\n",
    "\n",
    "logging.debug(\"This msg is for debugging\")\n",
    "logging.info(\"This is my info msg\")\n",
    "logging.warning(\"This is my warning msg\")\n",
    "logging.shutdown()"
   ]
  },
  {
   "cell_type": "code",
   "execution_count": 58,
   "id": "29351834-1805-404c-8b3c-c822459f6b0f",
   "metadata": {},
   "outputs": [],
   "source": [
    "#use case with example\n",
    "import logging\n",
    "logging.basicConfig(filename = \"program.log\", level = logging.DEBUG, format = '%(asctime)s %(levelname)s %(message)s')\n"
   ]
  },
  {
   "cell_type": "code",
   "execution_count": 60,
   "id": "d773c399-3d5c-48fe-be85-246d389aab49",
   "metadata": {},
   "outputs": [],
   "source": [
    "#write a program to separate the integer and string in two lists separately\n",
    "l = [1, \"hello\", [2, \"world\"],4, [3, \"Python\"]]"
   ]
  },
  {
   "cell_type": "code",
   "execution_count": 62,
   "id": "fd8fcf68-d2cf-49ea-adda-e5b7703e638c",
   "metadata": {},
   "outputs": [
    {
     "data": {
      "text/plain": [
       "[1, 'hello', [2, 'world'], 4, [3, 'Python']]"
      ]
     },
     "execution_count": 62,
     "metadata": {},
     "output_type": "execute_result"
    }
   ],
   "source": [
    "l"
   ]
  },
  {
   "cell_type": "code",
   "execution_count": 64,
   "id": "a9410755-50af-482d-b437-34f4eb3efca7",
   "metadata": {},
   "outputs": [],
   "source": [
    "l1_int = []\n",
    "l2_str = []\n",
    "\n",
    "for i in l:\n",
    "    logging.info(f\"processing each element {i}\")\n",
    "    \n",
    "    if type(i) == list:\n",
    "        for j in i:\n",
    "            logging.info(f\"processing sublist element: {j}\")\n",
    "            if type(j) == int:\n",
    "                l1_int.append(j)\n",
    "    elif type(i) == int:\n",
    "        l1_int.append(i)\n",
    "    else:\n",
    "        l2_str.append(i)\n",
    "logging.info(f\"The result is : {l1_int}, {l2_str}\")\n",
    "logging.shutdown()"
   ]
  },
  {
   "cell_type": "code",
   "execution_count": 66,
   "id": "f5c9c8ef-0902-4c3d-be5f-fb68ca8e9809",
   "metadata": {},
   "outputs": [],
   "source": [
    "#homework>> add else condition for sublist\n",
    "#Another program which finds a prime no from a given list of nos and use logging"
   ]
  },
  {
   "cell_type": "code",
   "execution_count": null,
   "id": "bae140cd-6db0-4d31-929d-3db483cd964b",
   "metadata": {},
   "outputs": [],
   "source": []
  }
 ],
 "metadata": {
  "kernelspec": {
   "display_name": "Python 3 (ipykernel)",
   "language": "python",
   "name": "python3"
  },
  "language_info": {
   "codemirror_mode": {
    "name": "ipython",
    "version": 3
   },
   "file_extension": ".py",
   "mimetype": "text/x-python",
   "name": "python",
   "nbconvert_exporter": "python",
   "pygments_lexer": "ipython3",
   "version": "3.12.4"
  }
 },
 "nbformat": 4,
 "nbformat_minor": 5
}
