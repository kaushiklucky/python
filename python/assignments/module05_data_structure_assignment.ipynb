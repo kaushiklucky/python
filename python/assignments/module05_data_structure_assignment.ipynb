{
 "cells": [
  {
   "cell_type": "markdown",
   "metadata": {},
   "source": [
    "Advance Data Structure Assignment"
   ]
  },
  {
   "cell_type": "code",
   "execution_count": 5,
   "metadata": {},
   "outputs": [
    {
     "data": {
      "text/plain": [
       "'ecneics atad nrael ot ereh ma I ,ayinuD etsamaN'"
      ]
     },
     "execution_count": 5,
     "metadata": {},
     "output_type": "execute_result"
    }
   ],
   "source": [
    "# 1. Reverse a string.\n",
    "\n",
    "str = \"Namaste Duniya, I am here to learn data science\"\n",
    "str[::-1]\n"
   ]
  },
  {
   "cell_type": "code",
   "execution_count": 7,
   "metadata": {},
   "outputs": [
    {
     "name": "stdout",
     "output_type": "stream",
     "text": [
      "4\n"
     ]
    }
   ],
   "source": [
    "# 2. Count the number of vowels in a string.\n",
    "\n",
    "def count_vowels(s):\n",
    "    vowels = \"aeiouAEIOU\"\n",
    "    return sum(1 for char in s if char in vowels)\n",
    "\n",
    "print(count_vowels(\"Lucky Kaushik\"))\n"
   ]
  },
  {
   "cell_type": "code",
   "execution_count": 9,
   "metadata": {},
   "outputs": [
    {
     "name": "stdout",
     "output_type": "stream",
     "text": [
      "True\n",
      "False\n"
     ]
    }
   ],
   "source": [
    "# 3. Check if a given string is a palindrome.\n",
    "\n",
    "def is_palindrome(s):\n",
    "    return s == s[::-1]\n",
    "\n",
    "print(is_palindrome(\"radar\"))\n",
    "print(is_palindrome(\"hello\"))\n"
   ]
  },
  {
   "cell_type": "code",
   "execution_count": 10,
   "metadata": {},
   "outputs": [
    {
     "name": "stdout",
     "output_type": "stream",
     "text": [
      "True\n",
      "False\n"
     ]
    }
   ],
   "source": [
    "# 4. Check if two strings are anagrams.\n",
    "\n",
    "def are_anagrams(s1, s2):\n",
    "    return sorted(s1) == sorted(s2)\n",
    "\n",
    "print(are_anagrams(\"listen\", \"silent\"))\n",
    "print(are_anagrams(\"hello\", \"world\"))  \n"
   ]
  },
  {
   "cell_type": "code",
   "execution_count": 11,
   "metadata": {},
   "outputs": [
    {
     "name": "stdout",
     "output_type": "stream",
     "text": [
      "[1, 3]\n"
     ]
    }
   ],
   "source": [
    "# 5. Find all occurrences of a substring.\n",
    "\n",
    "def find_occurrences(s, sub):\n",
    "    return [i for i in range(len(s) - len(sub) + 1) if s[i:i+len(sub)] == sub]\n",
    "\n",
    "print(find_occurrences(\"banana\", \"ana\"))\n"
   ]
  },
  {
   "cell_type": "code",
   "execution_count": 52,
   "metadata": {},
   "outputs": [],
   "source": [
    "# 6. Perform basic string compression.\n",
    "\n",
    "def compress_string(s):\n",
    "    compressed = []\n",
    "    count = 1\n",
    "    for i in range(1, len(s)):\n",
    "        if s[i] == s[i - 1]:\n",
    "            count += 1\n",
    "        else:\n",
    "            compressed.append(s[i - 1] + str(count))\n",
    "            count = 1\n",
    "    compressed.append(s[-1] + str(count))\n",
    "    return ''.join(compressed)\n",
    "\n",
    "# Example usage\n",
    "print(compress_string(\"aabcccccaaa\"))  # Output: \"a2b1c5a3\"\n",
    "\n"
   ]
  },
  {
   "cell_type": "code",
   "execution_count": 19,
   "metadata": {},
   "outputs": [
    {
     "name": "stdout",
     "output_type": "stream",
     "text": [
      "True\n",
      "False\n"
     ]
    }
   ],
   "source": [
    "# 7. Determine if a string has all unique characters.\n",
    "\n",
    "def has_unique_characters(s):\n",
    "    return len(set(s)) == len(s)\n",
    "\n",
    "print(has_unique_characters(\"abcdef\"))  \n",
    "print(has_unique_characters(\"aabbcc\")) \n"
   ]
  },
  {
   "cell_type": "code",
   "execution_count": 20,
   "metadata": {},
   "outputs": [
    {
     "name": "stdout",
     "output_type": "stream",
     "text": [
      "HELLO\n",
      "world\n"
     ]
    }
   ],
   "source": [
    "# 8. Convert a string to uppercase or lowercase.\n",
    "\n",
    "def to_uppercase(s):\n",
    "    return s.upper()\n",
    "\n",
    "def to_lowercase(s):\n",
    "    return s.lower()\n",
    "\n",
    "print(to_uppercase(\"hello\"))\n",
    "print(to_lowercase(\"WORLD\"))\n"
   ]
  },
  {
   "cell_type": "code",
   "execution_count": 21,
   "metadata": {},
   "outputs": [
    {
     "name": "stdout",
     "output_type": "stream",
     "text": [
      "2\n"
     ]
    }
   ],
   "source": [
    "# 9. Count the number of words in a string.\n",
    "\n",
    "def count_words(s):\n",
    "    return len(s.split())\n",
    "\n",
    "print(count_words(\"Hello world\"))\n"
   ]
  },
  {
   "cell_type": "code",
   "execution_count": 22,
   "metadata": {},
   "outputs": [
    {
     "name": "stdout",
     "output_type": "stream",
     "text": [
      "helloworld\n"
     ]
    }
   ],
   "source": [
    "# 10. Concatenate two strings without using the '+' operator.\n",
    "\n",
    "def concatenate_strings(s1, s2):\n",
    "    return \"\".join([s1, s2])\n",
    "\n",
    "print(concatenate_strings(\"hello\", \"world\"))\n"
   ]
  },
  {
   "cell_type": "code",
   "execution_count": 23,
   "metadata": {},
   "outputs": [
    {
     "name": "stdout",
     "output_type": "stream",
     "text": [
      "[1, 3, 4]\n"
     ]
    }
   ],
   "source": [
    "# 11. Remove all occurrences of a specific element from a list.\n",
    "\n",
    "def remove_element(lst, element):\n",
    "    return [x for x in lst if x != element]\n",
    "\n",
    "print(remove_element([1, 2, 3, 2, 4], 2))\n"
   ]
  },
  {
   "cell_type": "code",
   "execution_count": 24,
   "metadata": {},
   "outputs": [
    {
     "name": "stdout",
     "output_type": "stream",
     "text": [
      "4\n"
     ]
    }
   ],
   "source": [
    "# 12. Find the second largest number in a list.\n",
    "\n",
    "def second_largest(nums):\n",
    "    first, second = float('-inf'), float('-inf')\n",
    "    for num in nums:\n",
    "        if num > first:\n",
    "            second = first\n",
    "            first = num\n",
    "        elif first > num > second:\n",
    "            second = num\n",
    "    return second\n",
    "\n",
    "print(second_largest([3, 1, 4, 4, 5, 5]))"
   ]
  },
  {
   "cell_type": "code",
   "execution_count": 25,
   "metadata": {},
   "outputs": [
    {
     "name": "stdout",
     "output_type": "stream",
     "text": [
      "{1: 1, 2: 2, 3: 3}\n"
     ]
    }
   ],
   "source": [
    "# 13. Count occurrences of each element in a list.\n",
    "\n",
    "from collections import Counter\n",
    "\n",
    "def count_occurrences(lst):\n",
    "    return dict(Counter(lst))\n",
    "\n",
    "print(count_occurrences([1, 2, 2, 3, 3, 3]))\n"
   ]
  },
  {
   "cell_type": "code",
   "execution_count": 26,
   "metadata": {},
   "outputs": [
    {
     "name": "stdout",
     "output_type": "stream",
     "text": [
      "[4, 3, 2, 1]\n"
     ]
    }
   ],
   "source": [
    "# 14. Reverse a list in place without using built-in reverse functions.\n",
    "\n",
    "def reverse_list(lst):\n",
    "    left, right = 0, len(lst) - 1\n",
    "    while left < right:\n",
    "        lst[left], lst[right] = lst[right], lst[left]\n",
    "        left += 1\n",
    "        right -= 1\n",
    "    return lst\n",
    "\n",
    "print(reverse_list([1, 2, 3, 4])) "
   ]
  },
  {
   "cell_type": "code",
   "execution_count": 27,
   "metadata": {},
   "outputs": [
    {
     "name": "stdout",
     "output_type": "stream",
     "text": [
      "[1, 2, 3, 4]\n"
     ]
    }
   ],
   "source": [
    "# 15. Find and remove duplicates from a list while preserving order.\n",
    "\n",
    "def remove_duplicates(lst):\n",
    "    seen = set()\n",
    "    return [x for x in lst if not (x in seen or seen.add(x))]\n",
    "\n",
    "print(remove_duplicates([1, 2, 3, 2, 1, 4]))\n"
   ]
  },
  {
   "cell_type": "code",
   "execution_count": 28,
   "metadata": {},
   "outputs": [
    {
     "name": "stdout",
     "output_type": "stream",
     "text": [
      "True\n",
      "True\n",
      "False\n"
     ]
    }
   ],
   "source": [
    "# 16. Check if a list is sorted.\n",
    "\n",
    "def is_sorted(lst):\n",
    "    return lst == sorted(lst) or lst == sorted(lst, reverse=True)\n",
    "\n",
    "print(is_sorted([1, 2, 3]))\n",
    "print(is_sorted([3, 2, 1]))\n",
    "print(is_sorted([1, 3, 2]))\n"
   ]
  },
  {
   "cell_type": "code",
   "execution_count": 29,
   "metadata": {},
   "outputs": [
    {
     "name": "stdout",
     "output_type": "stream",
     "text": [
      "[1, 2, 3, 4, 5, 6]\n"
     ]
    }
   ],
   "source": [
    "# 17. Merge two sorted lists into a single sorted list.\n",
    "\n",
    "def merge_sorted_lists(lst1, lst2):\n",
    "    return sorted(lst1 + lst2)\n",
    "\n",
    "print(merge_sorted_lists([1, 3, 5], [2, 4, 6]))\n"
   ]
  },
  {
   "cell_type": "code",
   "execution_count": 30,
   "metadata": {},
   "outputs": [
    {
     "name": "stdout",
     "output_type": "stream",
     "text": [
      "[2, 3]\n"
     ]
    }
   ],
   "source": [
    "# 18. Find the intersection of two lists.\n",
    "\n",
    "def list_intersection(lst1, lst2):\n",
    "    return list(set(lst1) & set(lst2))\n",
    "\n",
    "print(list_intersection([1, 2, 3], [2, 3, 4]))\n"
   ]
  },
  {
   "cell_type": "code",
   "execution_count": 31,
   "metadata": {},
   "outputs": [
    {
     "name": "stdout",
     "output_type": "stream",
     "text": [
      "[1, 2, 3, 4]\n"
     ]
    }
   ],
   "source": [
    "# 19. Find the union of two lists without duplicates.\n",
    "\n",
    "def list_union(lst1, lst2):\n",
    "    return list(set(lst1) | set(lst2))\n",
    "\n",
    "print(list_union([1, 2, 3], [2, 3, 4]))\n"
   ]
  },
  {
   "cell_type": "code",
   "execution_count": 32,
   "metadata": {},
   "outputs": [
    {
     "name": "stdout",
     "output_type": "stream",
     "text": [
      "[4, 5, 1, 2, 3]\n"
     ]
    }
   ],
   "source": [
    "# 20. Shuffle a list randomly without using built-in shuffle functions.\n",
    "\n",
    "import random\n",
    "\n",
    "def shuffle_list(lst):\n",
    "    for i in range(len(lst) - 1, 0, -1):\n",
    "        j = random.randint(0, i)\n",
    "        lst[i], lst[j] = lst[j], lst[i]\n",
    "    return lst\n",
    "\n",
    "print(shuffle_list([1, 2, 3, 4, 5]))\n"
   ]
  },
  {
   "cell_type": "code",
   "execution_count": 33,
   "metadata": {},
   "outputs": [
    {
     "name": "stdout",
     "output_type": "stream",
     "text": [
      "(2, 3)\n"
     ]
    }
   ],
   "source": [
    "# 21. Find common elements between two tuples.\n",
    "\n",
    "def common_elements(t1, t2):\n",
    "    return tuple(set(t1) & set(t2))\n",
    "\n",
    "print(common_elements((1, 2, 3), (2, 3, 4)))\n"
   ]
  },
  {
   "cell_type": "code",
   "execution_count": 36,
   "metadata": {},
   "outputs": [],
   "source": [
    "# 22. Prompt user for two sets of integers and print their intersection.\n",
    "\n",
    "def input_and_intersect():\n",
    "    set1 = set(map(int, input(\"Enter first set of integers, separated by commas: \").split(',')))\n",
    "    set2 = set(map(int, input(\"Enter second set of integers, separated by commas: \").split(',')))\n",
    "    print(\"Intersection:\", set1 & set2)\n",
    "\n"
   ]
  },
  {
   "cell_type": "code",
   "execution_count": 37,
   "metadata": {},
   "outputs": [
    {
     "name": "stdout",
     "output_type": "stream",
     "text": [
      "(1, 2, 3, 4)\n"
     ]
    }
   ],
   "source": [
    "# 23. Concatenate two tuples.\n",
    "\n",
    "def concatenate_tuples(t1, t2):\n",
    "    return t1 + t2\n",
    "\n",
    "print(concatenate_tuples((1, 2), (3, 4)))\n"
   ]
  },
  {
   "cell_type": "code",
   "execution_count": 39,
   "metadata": {},
   "outputs": [
    {
     "name": "stdout",
     "output_type": "stream",
     "text": [
      "{'apple', 'cherry'}\n"
     ]
    }
   ],
   "source": [
    "# 24. Print elements in the first set but not in the second set.\n",
    "\n",
    "def difference_of_sets(set1, set2):\n",
    "    return set1 - set2\n",
    "\n",
    "set1 = {\"apple\", \"banana\", \"cherry\"}\n",
    "set2 = {\"banana\", \"pear\"}\n",
    "print(difference_of_sets(set1, set2))\n",
    "\n"
   ]
  },
  {
   "cell_type": "code",
   "execution_count": 40,
   "metadata": {},
   "outputs": [
    {
     "name": "stdout",
     "output_type": "stream",
     "text": [
      "(20, 30, 40)\n"
     ]
    }
   ],
   "source": [
    "# 25. Return elements within a specified range of indices from a tuple.\n",
    "\n",
    "def elements_in_range(tup, start, end):\n",
    "    return tup[start:end]\n",
    "\n",
    "tup = (10, 20, 30, 40, 50)\n",
    "print(elements_in_range(tup, 1, 4))\n"
   ]
  },
  {
   "cell_type": "code",
   "execution_count": 41,
   "metadata": {},
   "outputs": [
    {
     "name": "stdout",
     "output_type": "stream",
     "text": [
      "{'d', 'a', 'c', 'b'}\n"
     ]
    }
   ],
   "source": [
    "# 26. Print the union of two sets of characters.\n",
    "\n",
    "def union_of_char_sets(set1, set2):\n",
    "    return set1 | set2\n",
    "\n",
    "set1 = {'a', 'b', 'c'}\n",
    "set2 = {'b', 'd'}\n",
    "print(union_of_char_sets(set1, set2))"
   ]
  },
  {
   "cell_type": "code",
   "execution_count": 42,
   "metadata": {},
   "outputs": [
    {
     "name": "stdout",
     "output_type": "stream",
     "text": [
      "(9, 1)\n"
     ]
    }
   ],
   "source": [
    "# 27. Return the maximum and minimum values from a tuple using tuple unpacking.\n",
    "\n",
    "def max_and_min(tup):\n",
    "    return max(tup), min(tup)\n",
    "\n",
    "tup = (5, 1, 9, 3)\n",
    "print(max_and_min(tup))\n"
   ]
  },
  {
   "cell_type": "code",
   "execution_count": 43,
   "metadata": {},
   "outputs": [
    {
     "name": "stdout",
     "output_type": "stream",
     "text": [
      "{'union': {1, 2, 3, 4}, 'intersection': {2, 3}, 'difference': {1}}\n"
     ]
    }
   ],
   "source": [
    "# 28. Print the union, intersection, and difference of two sets of integers.\n",
    "\n",
    "def set_operations(set1, set2):\n",
    "    return {\n",
    "        \"union\": set1 | set2,\n",
    "        \"intersection\": set1 & set2,\n",
    "        \"difference\": set1 - set2\n",
    "    }\n",
    "\n",
    "set1 = {1, 2, 3}\n",
    "set2 = {2, 3, 4}\n",
    "print(set_operations(set1, set2))  \n"
   ]
  },
  {
   "cell_type": "code",
   "execution_count": 44,
   "metadata": {},
   "outputs": [
    {
     "name": "stdout",
     "output_type": "stream",
     "text": [
      "3\n"
     ]
    }
   ],
   "source": [
    "# 29. Count occurrences of an element in a tuple.\n",
    "\n",
    "def count_occurrences(tup, element):\n",
    "    return tup.count(element)\n",
    "\n",
    "tup = (1, 2, 2, 3, 2)\n",
    "print(count_occurrences(tup, 2))\n"
   ]
  },
  {
   "cell_type": "code",
   "execution_count": 45,
   "metadata": {},
   "outputs": [
    {
     "name": "stdout",
     "output_type": "stream",
     "text": [
      "{'apple', 'kiwi', 'cherry'}\n"
     ]
    }
   ],
   "source": [
    "# 30. Print the symmetric difference of two sets of strings.\n",
    "\n",
    "def symmetric_difference(set1, set2):\n",
    "    return set1 ^ set2\n",
    "\n",
    "set1 = {\"apple\", \"banana\", \"cherry\"}\n",
    "set2 = {\"banana\", \"kiwi\"}\n",
    "print(symmetric_difference(set1, set2))"
   ]
  },
  {
   "cell_type": "code",
   "execution_count": 46,
   "metadata": {},
   "outputs": [
    {
     "name": "stdout",
     "output_type": "stream",
     "text": [
      "{'apple': 2, 'banana': 3, 'cherry': 1}\n"
     ]
    }
   ],
   "source": [
    "# 31. Return a dictionary of word frequencies from a list of words.\n",
    "\n",
    "def word_frequencies(words):\n",
    "    from collections import Counter\n",
    "    return dict(Counter(words))\n",
    "\n",
    "words = [\"apple\", \"banana\", \"apple\", \"cherry\", \"banana\", \"banana\"]\n",
    "print(word_frequencies(words))\n"
   ]
  },
  {
   "cell_type": "code",
   "execution_count": 47,
   "metadata": {},
   "outputs": [
    {
     "name": "stdout",
     "output_type": "stream",
     "text": [
      "{'a': 2, 'b': 7, 'c': 5}\n"
     ]
    }
   ],
   "source": [
    "# 32. Merge two dictionaries, summing values for common keys.\n",
    "\n",
    "def merge_dictionaries(dict1, dict2):\n",
    "    from collections import Counter\n",
    "    return dict(Counter(dict1) + Counter(dict2))\n",
    "\n",
    "dict1 = {\"a\": 2, \"b\": 3}\n",
    "dict2 = {\"b\": 4, \"c\": 5}\n",
    "print(merge_dictionaries(dict1, dict2))"
   ]
  },
  {
   "cell_type": "code",
   "execution_count": 48,
   "metadata": {},
   "outputs": [
    {
     "name": "stdout",
     "output_type": "stream",
     "text": [
      "42\n"
     ]
    }
   ],
   "source": [
    "# 33. Access a nested dictionary value using a list of keys.\n",
    "\n",
    "def access_nested_dict(d, keys):\n",
    "    for key in keys:\n",
    "        d = d.get(key)\n",
    "        if d is None:\n",
    "            return None\n",
    "    return d\n",
    "\n",
    "nested_dict = {'a': {'b': {'c': 42}}}\n",
    "keys = ['a', 'b', 'c']\n",
    "print(access_nested_dict(nested_dict, keys))\n"
   ]
  },
  {
   "cell_type": "code",
   "execution_count": 49,
   "metadata": {},
   "outputs": [
    {
     "name": "stdout",
     "output_type": "stream",
     "text": [
      "{'cherry': 1, 'apple': 2, 'banana': 5}\n",
      "{'banana': 5, 'apple': 2, 'cherry': 1}\n"
     ]
    }
   ],
   "source": [
    "# 34. Sort a dictionary by its values.\n",
    "\n",
    "def sort_dict_by_values(d, ascending=True):\n",
    "    return dict(sorted(d.items(), key=lambda item: item[1], reverse=not ascending))\n",
    "\n",
    "d = {'apple': 2, 'banana': 5, 'cherry': 1}\n",
    "print(sort_dict_by_values(d))\n",
    "print(sort_dict_by_values(d, ascending=False))"
   ]
  },
  {
   "cell_type": "code",
   "execution_count": 50,
   "metadata": {},
   "outputs": [
    {
     "name": "stdout",
     "output_type": "stream",
     "text": [
      "{2: ['apple', 'cherry'], 5: ['banana']}\n"
     ]
    }
   ],
   "source": [
    "# 35. Invert a dictionary, handling multiple keys with the same value.\n",
    "\n",
    "def invert_dict(d):\n",
    "    from collections import defaultdict\n",
    "    inverted = defaultdict(list)\n",
    "    for key, value in d.items():\n",
    "        inverted[value].append(key)\n",
    "    return dict(inverted)\n",
    "\n",
    "d = {'apple': 2, 'banana': 5, 'cherry': 2}\n",
    "print(invert_dict(d))"
   ]
  },
  {
   "cell_type": "code",
   "execution_count": null,
   "metadata": {},
   "outputs": [],
   "source": []
  }
 ],
 "metadata": {
  "kernelspec": {
   "display_name": "Python 3",
   "language": "python",
   "name": "python3"
  },
  "language_info": {
   "codemirror_mode": {
    "name": "ipython",
    "version": 3
   },
   "file_extension": ".py",
   "mimetype": "text/x-python",
   "name": "python",
   "nbconvert_exporter": "python",
   "pygments_lexer": "ipython3",
   "version": "3.12.4"
  }
 },
 "nbformat": 4,
 "nbformat_minor": 2
}
