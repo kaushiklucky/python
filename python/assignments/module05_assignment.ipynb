{
 "cells": [
  {
   "cell_type": "code",
   "execution_count": 3,
   "metadata": {},
   "outputs": [
    {
     "name": "stdout",
     "output_type": "stream",
     "text": [
      "Hello\n",
      "Hlo\n",
      "Hello\n",
      "World!\n",
      "Hlo ol!\n",
      "World\n",
      "!dlroW ,olleH\n"
     ]
    }
   ],
   "source": [
    "# Q1) Discuss string slicing and provide examples\n",
    "\n",
    "# String slicing is to extract parts of a string by specifying a range of indices. \n",
    "\n",
    "text = \"Hello, World!\"\n",
    "print(text[0:5])\n",
    "\n",
    "print(text[0:5:2])\n",
    "\n",
    "print(text[:5]) \n",
    "\n",
    "print(text[7:])\n",
    "\n",
    "print(text[::2])\n",
    "\n",
    "print(text[-6:-1])\n",
    "\n",
    "print(text[::-1])\n"
   ]
  },
  {
   "cell_type": "code",
   "execution_count": 4,
   "metadata": {},
   "outputs": [],
   "source": [
    "# Q2) Explain the key features of lists in Python\n",
    "\n",
    "# A list is data structure that can store a collection of items.\n",
    "\n",
    "#Key Features:\n",
    "# Ordered: Lists maintain the order of elements. Each element has an index starting from 0.\n",
    "# Mutable: Lists can be modified after creation (elements can be added, removed, or changed).\n",
    "# Heterogeneous: Lists can contain elements of different data types (e.g., integers, objects).\n",
    "# Dynamic: Lists can grow or shrink in size as needed.\n",
    "# Iterable: Lists support iteration, allowing easy access to elements."
   ]
  },
  {
   "cell_type": "code",
   "execution_count": 10,
   "metadata": {},
   "outputs": [
    {
     "name": "stdout",
     "output_type": "stream",
     "text": [
      "30\n",
      "[10, 20, 99, 40, 50]\n",
      "Using del:\n",
      "[10, 20, 40, 50]\n",
      "Using pop():\n",
      "50\n",
      "[10, 20, 40]\n",
      "Using remove():\n",
      "[10, 40]\n"
     ]
    }
   ],
   "source": [
    "# Q3) Describe how to access, modify, and delete elements in a list with examples\n",
    "\n",
    "#Accessing Elements:\n",
    "my_list = [10, 20, 30, 40, 50]\n",
    "print(my_list[2])\n",
    "\n",
    "# Modifying Elements:\n",
    "my_list[2] = 99\n",
    "print(my_list)\n",
    "\n",
    "# Deleting Elements:\n",
    "print(\"Using del:\")\n",
    "del my_list[2]\n",
    "print(my_list)\n",
    "\n",
    "print(\"Using pop():\")\n",
    "removed_element = my_list.pop()\n",
    "print(removed_element)\n",
    "print(my_list)\n",
    "\n",
    "print(\"Using remove():\")\n",
    "my_list.remove(20)\n",
    "print(my_list)"
   ]
  },
  {
   "cell_type": "code",
   "execution_count": 7,
   "metadata": {},
   "outputs": [
    {
     "name": "stdout",
     "output_type": "stream",
     "text": [
      "2\n",
      "[1, 4, 3]\n"
     ]
    }
   ],
   "source": [
    "# Q4) Compare and contrast tuples and lists with examples\n",
    "\n",
    "# Tuples:-->\n",
    "# Immutable: Once created, elements cannot be modified.\n",
    "# Syntax: Defined using parentheses () or by just separating with commas.\n",
    "# Fixed Size: Cannot add or remove elements after creation.\n",
    "# Typically Used: When data should not change (e.g., coordinates, configuration settings).\n",
    "my_tuple = (1, 2, 3)\n",
    "print(my_tuple[1])\n",
    "\n",
    "\n",
    "# Lists:-->\n",
    "# Mutable: Elements can be added, removed, or changed.\n",
    "# Syntax: Defined using square brackets [].\n",
    "# Dynamic Size: Can grow and shrink as needed.\n",
    "# Typically Used: When data needs to be modified.\n",
    "my_list = [1, 2, 3]\n",
    "my_list[1] = 4\n",
    "print(my_list)\n"
   ]
  },
  {
   "cell_type": "code",
   "execution_count": 8,
   "metadata": {},
   "outputs": [
    {
     "name": "stdout",
     "output_type": "stream",
     "text": [
      "{1, 2, 3, 4, 5}\n",
      "{1, 2, 3, 4, 5, 6}\n",
      "{1, 2, 4, 5, 6}\n",
      "True\n",
      "False\n"
     ]
    }
   ],
   "source": [
    "# Q5) Describe the key features of sets and provide examples of their use\n",
    "\n",
    "# sets -- A set is an unordered collection of unique elements.\n",
    "\n",
    "# Key Features:\n",
    "# Unordered: Sets do not maintain the order of elements.\n",
    "# Unique Elements: Sets automatically remove duplicates.\n",
    "# Mutable: Elements can be added or removed, but only immutable elements can be stored (e.g., strings, numbers, tuples).\n",
    "# Optimized for Membership Testing:Fast checks for the existence of elements.\n",
    "\n",
    "my_set = {1, 2, 3, 4, 4, 5}\n",
    "print(my_set)  \n",
    "\n",
    "# Adding elements\n",
    "my_set.add(6)\n",
    "print(my_set)  \n",
    "\n",
    "# Removing elements\n",
    "my_set.remove(3)\n",
    "print(my_set)  \n",
    "\n",
    "# Checking membership\n",
    "print(2 in my_set)  \n",
    "print(3 in my_set) \n"
   ]
  },
  {
   "cell_type": "code",
   "execution_count": 9,
   "metadata": {},
   "outputs": [],
   "source": [
    "# Q6) Discuss the use cases of tuples and sets in Python programming\n",
    "\n",
    "# Tuples:-->\n",
    "#  1. Use when you want to ensure the data cannot be modified\n",
    "#  2. Functions can return multiple values using tuples.\n",
    "#  3. Use tuples as dictionary keys because they are immutable.\n",
    "\n",
    "# Sets:-->\n",
    "# 1.  Use sets to eliminate duplicates from a list or collection.\n",
    "# 2.  Fast checks for the existence of elements in large collections.\n",
    "# 3.  Perform mathematical set operations like union, intersection, and difference."
   ]
  },
  {
   "cell_type": "code",
   "execution_count": 11,
   "metadata": {},
   "outputs": [
    {
     "name": "stdout",
     "output_type": "stream",
     "text": [
      "{'name': 'Alice', 'age': 25, 'city': 'New York'}\n",
      "{'name': 'Alice', 'age': 30, 'city': 'New York'}\n",
      "Using del:\n",
      "{'name': 'Alice', 'city': 'New York'}\n",
      "Using pop():\n",
      "New York\n",
      "{'name': 'Alice'}\n",
      "Using popitem():\n",
      "('name', 'Alice')\n",
      "{}\n"
     ]
    }
   ],
   "source": [
    "# Q7) Describe how to add, modify, and delete items in a dictionary with examples\n",
    "\n",
    "# Adding Items:\n",
    "my_dict = {'name': 'Alice', 'age': 25}\n",
    "my_dict['city'] = 'New York'\n",
    "print(my_dict)\n",
    "\n",
    "# Modifying Items:\n",
    "my_dict['age'] = 30\n",
    "print(my_dict)\n",
    "\n",
    "# Deleting Items:\n",
    "print(\"Using del:\")\n",
    "del my_dict['age']\n",
    "print(my_dict)\n",
    "\n",
    "print(\"Using pop():\")\n",
    "city = my_dict.pop('city')\n",
    "print(city)\n",
    "print(my_dict)\n",
    "\n",
    "print(\"Using popitem():\")\n",
    "last_item = my_dict.popitem()\n",
    "print(last_item)\n",
    "print(my_dict)"
   ]
  },
  {
   "cell_type": "code",
   "execution_count": 12,
   "metadata": {},
   "outputs": [
    {
     "name": "stdout",
     "output_type": "stream",
     "text": [
      "Point A\n"
     ]
    }
   ],
   "source": [
    "# Q8) Discuss the importance of dictionary keys being immutable and provide examples\n",
    "\n",
    "# Dictionary keys must be immutable because they are hashed to determine their position in memory. If keys were mutable, their hash value could change, making it impossible to consistently locate them.\n",
    "\n",
    "coordinates = {(0, 0): 'Origin', (1, 2): 'Point A'}\n",
    "print(coordinates[(1, 2)])"
   ]
  },
  {
   "cell_type": "code",
   "execution_count": null,
   "metadata": {},
   "outputs": [],
   "source": []
  }
 ],
 "metadata": {
  "kernelspec": {
   "display_name": "Python 3",
   "language": "python",
   "name": "python3"
  },
  "language_info": {
   "codemirror_mode": {
    "name": "ipython",
    "version": 3
   },
   "file_extension": ".py",
   "mimetype": "text/x-python",
   "name": "python",
   "nbconvert_exporter": "python",
   "pygments_lexer": "ipython3",
   "version": "3.12.4"
  }
 },
 "nbformat": 4,
 "nbformat_minor": 2
}
