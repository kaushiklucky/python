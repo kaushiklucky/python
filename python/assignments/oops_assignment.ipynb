{
 "cells": [
  {
   "cell_type": "markdown",
   "metadata": {},
   "source": [
    "OOPS ASSIGNMENT"
   ]
  },
  {
   "cell_type": "code",
   "execution_count": 1,
   "metadata": {},
   "outputs": [],
   "source": [
    "# 1. Five Key Concepts of Object-Oriented Programming (OOP)\n",
    "# Encapsulation: Bundling data (attributes) and methods (functions) that operate on the data into a single unit, i.e., a class. This hides the internal state of the object from the outside world.\n",
    "# Abstraction: Hiding complex implementation details and showing only the essential features of the object.\n",
    "# Inheritance: Creating a new class based on an existing class to promote code reuse.\n",
    "# Polymorphism: The ability of different objects to be treated as instances of the same class through method overriding or interfaces.\n",
    "# Composition: Combining simple objects or data types into more complex ones, allowing one object to contain another."
   ]
  },
  {
   "cell_type": "code",
   "execution_count": 2,
   "metadata": {},
   "outputs": [
    {
     "name": "stdout",
     "output_type": "stream",
     "text": [
      "Car: 2020 Toyota Camry\n"
     ]
    }
   ],
   "source": [
    "# 2. Python Class for Car\n",
    "class Car:\n",
    "    def __init__(self, make, model, year):\n",
    "        self.make = make\n",
    "        self.model = model\n",
    "        self.year = year\n",
    "\n",
    "    def display_info(self):\n",
    "        print(f\"Car: {self.year} {self.make} {self.model}\")\n",
    "\n",
    "car = Car(\"Toyota\", \"Camry\", 2020)\n",
    "car.display_info()\n",
    "\n"
   ]
  },
  {
   "cell_type": "code",
   "execution_count": 4,
   "metadata": {},
   "outputs": [
    {
     "name": "stdout",
     "output_type": "stream",
     "text": [
      "Instance Method: 10\n",
      "Class Method: 0\n"
     ]
    }
   ],
   "source": [
    "# 3. Difference Between Instance Methods and Class Methods\n",
    "# Instance Methods: These operate on an instance of the class and can access and modify the object's state (attributes). They require self as the first parameter.\n",
    "# Class Methods: These operate on the class itself and can modify class-level attributes. They require cls as the first parameter and are defined using the @classmethod decorator.\n",
    "\n",
    "class MyClass:\n",
    "    class_variable = 0\n",
    "\n",
    "    def __init__(self, value):\n",
    "        self.instance_variable = value\n",
    "\n",
    "    def instance_method(self):\n",
    "        return f\"Instance Method: {self.instance_variable}\"\n",
    "\n",
    "    @classmethod\n",
    "    def class_method(cls):\n",
    "        return f\"Class Method: {cls.class_variable}\"\n",
    "\n",
    "# Example usage:\n",
    "obj = MyClass(10)\n",
    "print(obj.instance_method())  # Instance Method: 10\n",
    "print(MyClass.class_method())  # Class Method: 0\n"
   ]
  },
  {
   "cell_type": "code",
   "execution_count": 5,
   "metadata": {},
   "outputs": [
    {
     "name": "stdout",
     "output_type": "stream",
     "text": [
      "5\n",
      "9\n"
     ]
    }
   ],
   "source": [
    "# 4. Method Overloading in Python\n",
    "# Python does not support method overloading as in other languages. Instead, it uses default arguments or *args and **kwargs to achieve similar functionality.\n",
    "class MathOperations:\n",
    "    def add(self, a, b, c=None):\n",
    "        if c is not None:\n",
    "            return a + b + c\n",
    "        else:\n",
    "            return a + b\n",
    "\n",
    "# Example usage:\n",
    "math_op = MathOperations()\n",
    "print(math_op.add(2, 3))        # 5\n",
    "print(math_op.add(2, 3, 4))     # 9\n"
   ]
  },
  {
   "cell_type": "code",
   "execution_count": 6,
   "metadata": {},
   "outputs": [],
   "source": [
    "# 5. Three Types of Access Modifiers in Python\n",
    "# Public: Accessible from anywhere. No underscore prefix (e.g., variable).\n",
    "# Protected: Accessible within the class and its subclasses. Single underscore prefix (e.g., _variable).\n",
    "# Private: Accessible only within the class. Double underscore prefix (e.g., __variable)."
   ]
  },
  {
   "cell_type": "code",
   "execution_count": 8,
   "metadata": {},
   "outputs": [
    {
     "name": "stdout",
     "output_type": "stream",
     "text": [
      "Engine started\n",
      "Vehicle moving\n"
     ]
    }
   ],
   "source": [
    "# 6. Five Types of Inheritance in Python\n",
    "# Single Inheritance: A class inherits from one superclass.\n",
    "# Multiple Inheritance: A class inherits from more than one superclass.\n",
    "# Multilevel Inheritance: A class is derived from a class that is also derived from another class.\n",
    "# Hierarchical Inheritance: Multiple classes inherit from a single superclass.\n",
    "# Hybrid Inheritance: A combination of two or more types of inheritance.\n",
    "\n",
    "class Engine:\n",
    "    def start(self):\n",
    "        print(\"Engine started\")\n",
    "\n",
    "class Vehicle:\n",
    "    def move(self):\n",
    "        print(\"Vehicle moving\")\n",
    "\n",
    "class Car(Engine, Vehicle):\n",
    "    pass\n",
    "\n",
    "# Example usage:\n",
    "car = Car()\n",
    "car.start()  # Engine started\n",
    "car.move()   # Vehicle moving\n"
   ]
  },
  {
   "cell_type": "code",
   "execution_count": 9,
   "metadata": {},
   "outputs": [
    {
     "name": "stdout",
     "output_type": "stream",
     "text": [
      "[<class '__main__.C'>, <class '__main__.B'>, <class '__main__.A'>, <class 'object'>]\n"
     ]
    }
   ],
   "source": [
    "# 7. Method Resolution Order (MRO) in Python\n",
    "# MRO is the order in which Python looks for a method in a hierarchy of classes. Python uses the C3 linearization algorithm to determine MRO.\n",
    "\n",
    "class A:\n",
    "    pass\n",
    "\n",
    "class B(A):\n",
    "    pass\n",
    "\n",
    "class C(B):\n",
    "    pass\n",
    "\n",
    "print(C.mro())\n"
   ]
  },
  {
   "cell_type": "code",
   "execution_count": 10,
   "metadata": {},
   "outputs": [
    {
     "name": "stdout",
     "output_type": "stream",
     "text": [
      "78.5\n",
      "24\n"
     ]
    }
   ],
   "source": [
    "# 8. Abstract Base Class Shape with area() Method\n",
    "\n",
    "from abc import ABC, abstractmethod\n",
    "\n",
    "class Shape(ABC):\n",
    "    @abstractmethod\n",
    "    def area(self):\n",
    "        pass\n",
    "\n",
    "class Circle(Shape):\n",
    "    def __init__(self, radius):\n",
    "        self.radius = radius\n",
    "\n",
    "    def area(self):\n",
    "        return 3.14 * self.radius * self.radius\n",
    "\n",
    "class Rectangle(Shape):\n",
    "    def __init__(self, width, height):\n",
    "        self.width = width\n",
    "        self.height = height\n",
    "\n",
    "    def area(self):\n",
    "        return self.width * self.height\n",
    "\n",
    "circle = Circle(5)\n",
    "rectangle = Rectangle(4, 6)\n",
    "print(circle.area())     \n",
    "print(rectangle.area())   \n"
   ]
  },
  {
   "cell_type": "code",
   "execution_count": 11,
   "metadata": {},
   "outputs": [
    {
     "name": "stdout",
     "output_type": "stream",
     "text": [
      "1300\n"
     ]
    }
   ],
   "source": [
    "# 10. Encapsulation in BankAccount Class\n",
    "class BankAccount:\n",
    "    def __init__(self, account_number, balance=0):\n",
    "        self.__account_number = account_number\n",
    "        self.__balance = balance\n",
    "\n",
    "    def deposit(self, amount):\n",
    "        if amount > 0:\n",
    "            self.__balance += amount\n",
    "\n",
    "    def withdraw(self, amount):\n",
    "        if 0 < amount <= self.__balance:\n",
    "            self.__balance -= amount\n",
    "\n",
    "    def get_balance(self):\n",
    "        return self.__balance\n",
    "\n",
    "# Example usage:\n",
    "account = BankAccount(\"12345678\", 1000)\n",
    "account.deposit(500)\n",
    "account.withdraw(200)\n",
    "print(account.get_balance())\n"
   ]
  },
  {
   "cell_type": "code",
   "execution_count": 12,
   "metadata": {},
   "outputs": [
    {
     "name": "stdout",
     "output_type": "stream",
     "text": [
      "Number: 10\n",
      "Number: 30\n"
     ]
    }
   ],
   "source": [
    "# 11. Overriding __str__ and __add__ Magic Methods\n",
    "\n",
    "# __str__ allows custom string representation.\n",
    "# __add__ allows using the + operator between objects.\n",
    "\n",
    "class Number:\n",
    "    def __init__(self, value):\n",
    "        self.value = value\n",
    "\n",
    "    def __str__(self):\n",
    "        return f\"Number: {self.value}\"\n",
    "\n",
    "    def __add__(self, other):\n",
    "        return Number(self.value + other.value)\n",
    "\n",
    "num1 = Number(10)\n",
    "num2 = Number(20)\n",
    "print(num1)       \n",
    "print(num1 + num2)\n"
   ]
  },
  {
   "cell_type": "code",
   "execution_count": 13,
   "metadata": {},
   "outputs": [
    {
     "name": "stdout",
     "output_type": "stream",
     "text": [
      "Execution time: 1.0008254051208496 seconds\n"
     ]
    }
   ],
   "source": [
    "# 12. Decorator to Measure Execution Time\n",
    "\n",
    "import time\n",
    "\n",
    "def measure_time(func):\n",
    "    def wrapper(*args, **kwargs):\n",
    "        start_time = time.time()\n",
    "        result = func(*args, **kwargs)\n",
    "        end_time = time.time()\n",
    "        print(f\"Execution time: {end_time - start_time} seconds\")\n",
    "        return result\n",
    "    return wrapper\n",
    "\n",
    "@measure_time\n",
    "def example_function():\n",
    "    time.sleep(1)\n",
    "\n",
    "example_function()\n"
   ]
  },
  {
   "cell_type": "code",
   "execution_count": 14,
   "metadata": {},
   "outputs": [
    {
     "name": "stdout",
     "output_type": "stream",
     "text": [
      "Hello from B\n"
     ]
    }
   ],
   "source": [
    "# 13. The Diamond Problem in Multiple Inheritance\n",
    "# The Diamond Problem occurs when a class inherits from two classes that both inherit from a single class. This can cause ambiguity in method resolution.\n",
    "\n",
    "# Python's Solution: Python resolves the Diamond Problem using the Method Resolution Order (MRO) by following the C3 linearization algorithm.\n",
    "\n",
    "class A:\n",
    "    def greet(self):\n",
    "        print(\"Hello from A\")\n",
    "\n",
    "class B(A):\n",
    "    def greet(self):\n",
    "        print(\"Hello from B\")\n",
    "\n",
    "class C(A):\n",
    "    def greet(self):\n",
    "        print(\"Hello from C\")\n",
    "\n",
    "class D(B, C):\n",
    "    pass\n",
    "\n",
    "d = D()\n",
    "d.greet()\n"
   ]
  },
  {
   "cell_type": "code",
   "execution_count": 15,
   "metadata": {},
   "outputs": [
    {
     "name": "stdout",
     "output_type": "stream",
     "text": [
      "2\n"
     ]
    }
   ],
   "source": [
    "# 14. Class Method to Track Instances\n",
    "\n",
    "class MyClass:\n",
    "    instance_count = 0\n",
    "\n",
    "    def __init__(self):\n",
    "        MyClass.instance_count += 1\n",
    "\n",
    "    @classmethod\n",
    "    def get_instance_count(cls):\n",
    "        return cls.instance_count\n",
    "\n",
    "obj1 = MyClass()\n",
    "obj2 = MyClass()\n",
    "print(MyClass.get_instance_count())  # 2\n"
   ]
  },
  {
   "cell_type": "code",
   "execution_count": 16,
   "metadata": {},
   "outputs": [
    {
     "name": "stdout",
     "output_type": "stream",
     "text": [
      "True\n",
      "False\n"
     ]
    }
   ],
   "source": [
    "# 15. Static Method to Check Leap Year\n",
    "\n",
    "class Year:\n",
    "    @staticmethod\n",
    "    def is_leap_year(year):\n",
    "        return year % 4 == 0 and (year % 100 != 0 or year % 400 == 0)\n",
    "\n",
    "print(Year.is_leap_year(2024))\n",
    "print(Year.is_leap_year(2023))\n"
   ]
  }
 ],
 "metadata": {
  "kernelspec": {
   "display_name": "Python 3",
   "language": "python",
   "name": "python3"
  },
  "language_info": {
   "codemirror_mode": {
    "name": "ipython",
    "version": 3
   },
   "file_extension": ".py",
   "mimetype": "text/x-python",
   "name": "python",
   "nbconvert_exporter": "python",
   "pygments_lexer": "ipython3",
   "version": "3.12.5"
  }
 },
 "nbformat": 4,
 "nbformat_minor": 2
}
