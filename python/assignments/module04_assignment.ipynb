{
 "cells": [
  {
   "cell_type": "markdown",
   "metadata": {},
   "source": [
    "MODULE 04 ASSIGNMENT "
   ]
  },
  {
   "cell_type": "code",
   "execution_count": 1,
   "metadata": {},
   "outputs": [],
   "source": [
    "# Q1. Explain the key features of Python that make it a popular choice for programming\n",
    "\n",
    "# ANS - key feature of python that make python popular choice for programing \n",
    "# 1. easy to learn and read\n",
    "# 2. large standerd library\n",
    "# 3. free and open source\n",
    "# 4. large and active community"
   ]
  },
  {
   "cell_type": "code",
   "execution_count": 2,
   "metadata": {},
   "outputs": [],
   "source": [
    "# Q2. Describe the role of predefined keywords in Python and provide examples of how they are used in a program\n",
    "\n",
    "# ANS -  predefined keywords are reserved words with special meaning. they can not be used as variable names or function names \n",
    "# ex - if, else, elif, for, while etc"
   ]
  },
  {
   "cell_type": "code",
   "execution_count": 3,
   "metadata": {},
   "outputs": [],
   "source": [
    "# Q3  Compare and contrast mutable and immutable objects in Python with examples\n",
    "\n",
    "# ANS - Mutable Objects: Objects that can be changed after their creation. Examples include lists, dictionaries, and sets.\n",
    "my_list = [1, 2, 3]\n",
    "my_list.append(4)\n",
    "\n",
    "#Immutable Objects: Objects that cannot be changed after their creation. Examples include integers, floats, strings, and tuples.\n",
    "my_tuple = (1, 2, 3)\n"
   ]
  },
  {
   "cell_type": "code",
   "execution_count": 5,
   "metadata": {},
   "outputs": [],
   "source": [
    "# Q4 Explain the concept of type casting in Python with examples\n",
    "\n",
    "# ANS - Type casting is the process of converting a variable from one data type to another.\n",
    "\n",
    "#automatically converts one data type\n",
    "x = 10\n",
    "y = 2.5\n",
    "z = x + y\n",
    "\n",
    "#Manually converting one data type\n",
    "num_str = \"123\"\n",
    "num_int = int(num_str)  # num_int is now an integer"
   ]
  },
  {
   "cell_type": "code",
   "execution_count": 6,
   "metadata": {},
   "outputs": [],
   "source": [
    "# Q5  Discuss the different types of operators in Python and provide examples of how they are used\n",
    "\n",
    "# ANS - Arithmetic Operators: Perform mathematical operations.\n",
    "a = 10\n",
    "b = 5\n",
    "sum = a + b  # Addition\n",
    "diff = a - b  # Subtraction\n",
    "product = a * b  # Multiplication\n",
    "quotient = a / b  # Division\n",
    "\n",
    "#Comparison Operators: Compare two values.\n",
    "a == b  # Equality\n",
    "a != b  # Inequality\n",
    "a > b  # Greater than\n",
    "a < b  # Less than\n",
    "\n",
    "#Logical Operators: Perform logical operations.\n",
    "x = True\n",
    "y = False\n",
    "result = x and y  # Logical AND\n",
    "result = x or y  # Logical OR\n",
    "\n",
    "#Assignment Operators: Assign values to variables.\n",
    "x = 5\n",
    "x += 3  # Equivalent to x = x + 3\n",
    "\n",
    "#Bitwise Operators: Perform bit-level operations.\n",
    "a = 10  # 1010 in binary\n",
    "b = 4   # 0100 in binary\n",
    "result = a & b  # Bitwise AND\n",
    "result = a | b  # Bitwise OR"
   ]
  },
  {
   "cell_type": "code",
   "execution_count": 7,
   "metadata": {},
   "outputs": [
    {
     "name": "stdout",
     "output_type": "stream",
     "text": [
      "x is greater than 5\n",
      "x is not greater than 5\n",
      "x is greater than 5\n"
     ]
    }
   ],
   "source": [
    "# Q6 How do conditional statements work in Python? Illustrate with examples\n",
    "\n",
    "# ANS - Conditional statements allow the execution of code based on certain conditions.\n",
    "\n",
    "#if Statement:\n",
    "x = 10\n",
    "if x > 5:\n",
    "    print(\"x is greater than 5\")\n",
    "\n",
    "#if-else Statement:\n",
    "x = 3\n",
    "if x > 5:\n",
    "    print(\"x is greater than 5\")\n",
    "else:\n",
    "    print(\"x is not greater than 5\")\n",
    "\n",
    "#if-elif-else Statement:\n",
    "x = 7\n",
    "if x < 5:\n",
    "    print(\"x is less than 5\")\n",
    "elif x == 5:\n",
    "    print(\"x is equal to 5\")\n",
    "else:\n",
    "    print(\"x is greater than 5\")\n"
   ]
  },
  {
   "cell_type": "code",
   "execution_count": 8,
   "metadata": {},
   "outputs": [
    {
     "name": "stdout",
     "output_type": "stream",
     "text": [
      "0\n",
      "1\n",
      "2\n",
      "3\n",
      "4\n",
      "0\n",
      "1\n",
      "2\n",
      "3\n",
      "4\n",
      "1\n",
      "3\n"
     ]
    }
   ],
   "source": [
    "# Q7 Describe the different types of loops in Python and their use cases with examples.\n",
    "\n",
    "# ANS - for Loop: Iterates over a sequence (e.g., list, tuple, string) or a range of numbers.\n",
    "\n",
    "#Use Case: When the number of iterations is known.\n",
    "\n",
    "for i in range(5):\n",
    "    print(i)\n",
    "\n",
    "\n",
    "#while Loop: Repeats a block of code as long as a condition is true.\n",
    "\n",
    "#Use Case: When the number of iterations is not known beforehand.\n",
    "\n",
    "count = 0\n",
    "while count < 5:\n",
    "    print(count)\n",
    "    count += 1\n",
    "\n",
    "\n",
    "#break and continue: Used to control loop execution.\n",
    "for i in range(10):\n",
    "    if i == 5:\n",
    "        break  # Exit the loop\n",
    "    if i % 2 == 0:\n",
    "        continue  # Skip the rest of the loop for this iteration\n",
    "    print(i)\n"
   ]
  }
 ],
 "metadata": {
  "kernelspec": {
   "display_name": "Python 3",
   "language": "python",
   "name": "python3"
  },
  "language_info": {
   "codemirror_mode": {
    "name": "ipython",
    "version": 3
   },
   "file_extension": ".py",
   "mimetype": "text/x-python",
   "name": "python",
   "nbconvert_exporter": "python",
   "pygments_lexer": "ipython3",
   "version": "3.12.4"
  }
 },
 "nbformat": 4,
 "nbformat_minor": 2
}
