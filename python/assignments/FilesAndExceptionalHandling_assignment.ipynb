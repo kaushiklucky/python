{
 "cells": [
  {
   "cell_type": "markdown",
   "id": "9af827dd-6be5-4eb9-9348-a225c82706bb",
   "metadata": {},
   "source": [
    "FILE  AND  EXCEPTIONAL  HANDLING"
   ]
  },
  {
   "cell_type": "code",
   "execution_count": 2,
   "id": "69f717a3-7803-4c6d-82fb-ef94e45e70b1",
   "metadata": {},
   "outputs": [],
   "source": [
    "# 1. Discuss the scenarios where multithreading is preferable to multiprocessing and scenarios where multiprocessing is a better choice.\n",
    "\n",
    "# Multithreading is preferable when tasks are I/O-bound (e.g., file reading, network operations) because threads share memory and have low overhead.\n",
    "# Multiprocessing is better for CPU-bound tasks (e.g., complex calculations) as processes run in separate memory spaces, avoiding the Global Interpreter Lock (GIL) in Python."
   ]
  },
  {
   "cell_type": "code",
   "execution_count": 3,
   "id": "38617df6-240b-4640-ba2d-d98ca96af555",
   "metadata": {},
   "outputs": [],
   "source": [
    "# 2. Describe what a process pool is and how it helps in managing multiple processes efficiently.\n",
    "\n",
    "# Process Pool: A process pool is a pool of worker processes used to execute tasks in parallel. It limits the number of active processes and helps manage system resources efficiently by reusing processes."
   ]
  },
  {
   "cell_type": "code",
   "execution_count": 4,
   "id": "4c47f746-c1ec-4bea-a607-1619c89f9c76",
   "metadata": {},
   "outputs": [],
   "source": [
    "# 3. Explain what multiprocessing is and why it is used in Python programs\n",
    "\n",
    "# Multiprocessing: Multiprocessing is creating multiple independent processes to run tasks concurrently, utilizing multiple CPU cores. It is used in Python to overcome the GIL and improve performance for CPU-bound tasks."
   ]
  },
  {
   "cell_type": "code",
   "execution_count": 5,
   "id": "cf438f49-051a-4eed-aad2-8152dc9df37f",
   "metadata": {},
   "outputs": [
    {
     "name": "stdout",
     "output_type": "stream",
     "text": [
      "Added 0\n",
      "Removed 0\n",
      "Added 1\n",
      "Added 2\n",
      "Removed 1\n",
      "Added 3\n",
      "Added 4\n",
      "Removed 2\n",
      "Removed 3\n",
      "Removed 4\n"
     ]
    }
   ],
   "source": [
    "# 4. Write a Python program using multithreading where one thread adds numbers to a list, and another\n",
    "# thread removes numbers from the list. Implement a mechanism to avoid race conditions using\n",
    "# threading.Lock.\n",
    "\n",
    "import threading\n",
    "import time\n",
    "\n",
    "my_list = []\n",
    "lock = threading.Lock()\n",
    "\n",
    "def add_numbers():\n",
    "    for i in range(5):\n",
    "        with lock:\n",
    "            my_list.append(i)\n",
    "            print(f\"Added {i}\")\n",
    "        time.sleep(0.1)\n",
    "\n",
    "def remove_numbers():\n",
    "    for i in range(5):\n",
    "        with lock:\n",
    "            if my_list:\n",
    "                removed = my_list.pop(0)\n",
    "                print(f\"Removed {removed}\")\n",
    "        time.sleep(0.2)\n",
    "\n",
    "thread1 = threading.Thread(target=add_numbers)\n",
    "thread2 = threading.Thread(target=remove_numbers)\n",
    "thread1.start()\n",
    "thread2.start()\n",
    "thread1.join()\n",
    "thread2.join()\n"
   ]
  },
  {
   "cell_type": "code",
   "execution_count": 6,
   "id": "f19135f3-1b4d-48ca-8f27-ebb039c2a5cb",
   "metadata": {},
   "outputs": [],
   "source": [
    "# 5. Describe the methods and tools available in Python for safely sharing data between threads and processes.\n",
    "\n",
    "# For threads: threading.Lock, threading.RLock, queue.Queue (thread-safe).\n",
    "# For processes: multiprocessing.Queue, multiprocessing.Value, multiprocessing.Array."
   ]
  },
  {
   "cell_type": "code",
   "execution_count": 7,
   "id": "c408c63d-9843-4866-98e4-c901ee7f450d",
   "metadata": {},
   "outputs": [],
   "source": [
    "# 6. Discuss why it’s crucial to handle exceptions in concurrent programs and the techniques available for doing so.\n",
    "\n",
    "# Exception Handling in Concurrent Programs: Handling exceptions is crucial to prevent deadlocks, resource leakage, and inconsistent program states. Techniques include wrapping threads/processes in try-except blocks and using the concurrent.futures module to manage exceptions."
   ]
  },
  {
   "cell_type": "code",
   "execution_count": 8,
   "id": "d6afeb53-b8af-41f6-a0a3-6006c9e6a73f",
   "metadata": {},
   "outputs": [
    {
     "name": "stdout",
     "output_type": "stream",
     "text": [
      "[1, 2, 6, 24, 120, 720, 5040, 40320, 362880, 3628800]\n"
     ]
    }
   ],
   "source": [
    "#7. Create a program that uses a thread pool to calculate the factorial of numbers from 1 to 10 concurrently. Use concurrent.futures.ThreadPoolExecutor to manage the threads.\n",
    "\n",
    "from concurrent.futures import ThreadPoolExecutor\n",
    "import math\n",
    "\n",
    "def factorial(n):\n",
    "    return math.factorial(n)\n",
    "\n",
    "with ThreadPoolExecutor() as executor:\n",
    "    results = executor.map(factorial, range(1, 11))\n",
    "\n",
    "print(list(results))\n"
   ]
  },
  {
   "cell_type": "code",
   "execution_count": null,
   "id": "0919b7d5-d7be-47b5-84a7-3cdae522f59b",
   "metadata": {},
   "outputs": [],
   "source": [
    "# 8. Create a Python program that uses multiprocessing.Pool to compute the square of numbers from 1 to 10 inparallel. Measure the time taken to perform this computation using a pool of different sizes (e.g., 2, 4, 8 processes).\n",
    "\n",
    "import multiprocessing\n",
    "import time\n",
    "\n",
    "def square(n):\n",
    "    return n * n\n",
    "\n",
    "for pool_size in [2, 4, 8]:\n",
    "    start_time = time.time()  # Start time for each pool size\n",
    "    with multiprocessing.Pool(pool_size) as pool:\n",
    "        results = pool.map(square, range(1, 11))\n",
    "    end_time = time.time()  # End time for each pool size\n",
    "\n",
    "    print(f\"Pool size {pool_size}, Results: {results}, Time: {round(end_time - start_time, 4)} seconds\")\n",
    "\n"
   ]
  },
  {
   "cell_type": "code",
   "execution_count": null,
   "id": "a93b5a6b-d7d7-4d3d-8571-b85055c37317",
   "metadata": {},
   "outputs": [],
   "source": []
  }
 ],
 "metadata": {
  "kernelspec": {
   "display_name": "Python 3 (ipykernel)",
   "language": "python",
   "name": "python3"
  },
  "language_info": {
   "codemirror_mode": {
    "name": "ipython",
    "version": 3
   },
   "file_extension": ".py",
   "mimetype": "text/x-python",
   "name": "python",
   "nbconvert_exporter": "python",
   "pygments_lexer": "ipython3",
   "version": "3.12.4"
  }
 },
 "nbformat": 4,
 "nbformat_minor": 5
}
