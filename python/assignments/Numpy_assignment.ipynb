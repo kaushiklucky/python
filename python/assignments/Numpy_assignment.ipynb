{
 "cells": [
  {
   "cell_type": "markdown",
   "id": "30a6f379-f2bf-446e-8744-6da59f1c036e",
   "metadata": {},
   "source": [
    "NUMPY ASSIGNMENT"
   ]
  },
  {
   "cell_type": "code",
   "execution_count": 2,
   "id": "5dea7b37-72ba-4e00-b529-f97badcf89fc",
   "metadata": {},
   "outputs": [],
   "source": [
    "import numpy as np"
   ]
  },
  {
   "cell_type": "code",
   "execution_count": 4,
   "id": "22a7e192-cfce-4321-821a-08820f54c86c",
   "metadata": {},
   "outputs": [
    {
     "name": "stdout",
     "output_type": "stream",
     "text": [
      "Original Array:\n",
      " [[ 1  9  7]\n",
      " [61 86 69]\n",
      " [18 57 74]]\n",
      "Transposed Array:\n",
      " [[ 1 61 18]\n",
      " [ 9 86 57]\n",
      " [ 7 69 74]]\n"
     ]
    }
   ],
   "source": [
    "# 1. Create a 3x3 NumPy Array with Random Integers and Interchange Rows and Columns\n",
    "\n",
    "arr = np.random.randint(1, 101, size=(3, 3))\n",
    "\n",
    "transposed_arr = arr.T\n",
    "\n",
    "print(\"Original Array:\\n\", arr)\n",
    "print(\"Transposed Array:\\n\", transposed_arr)\n"
   ]
  },
  {
   "cell_type": "code",
   "execution_count": 6,
   "id": "8578ef4a-81b9-4411-88f1-3b13588b822b",
   "metadata": {},
   "outputs": [
    {
     "name": "stdout",
     "output_type": "stream",
     "text": [
      "1D Array: [0 1 2 3 4 5 6 7 8 9]\n",
      "2x5 Array:\n",
      " [[0 1 2 3 4]\n",
      " [5 6 7 8 9]]\n",
      "5x2 Array:\n",
      " [[0 1]\n",
      " [2 3]\n",
      " [4 5]\n",
      " [6 7]\n",
      " [8 9]]\n"
     ]
    }
   ],
   "source": [
    "# 2. Generate a 1D NumPy Array and Reshape\n",
    "arr = np.arange(10)\n",
    "\n",
    "# Reshape to 2x5 array\n",
    "reshaped_2x5 = arr.reshape(2, 5)\n",
    "\n",
    "# Reshape to 5x2 array\n",
    "reshaped_5x2 = arr.reshape(5, 2)\n",
    "\n",
    "print(\"1D Array:\", arr)\n",
    "print(\"2x5 Array:\\n\", reshaped_2x5)\n",
    "print(\"5x2 Array:\\n\", reshaped_5x2)\n"
   ]
  },
  {
   "cell_type": "code",
   "execution_count": 8,
   "id": "19fa1f5b-b395-4a9e-851f-6bde6b4875db",
   "metadata": {},
   "outputs": [
    {
     "name": "stdout",
     "output_type": "stream",
     "text": [
      "Original 4x4 Array:\n",
      " [[0.0870261  0.13813807 0.46225059 0.17865876]\n",
      " [0.22879994 0.00143281 0.45830933 0.61207673]\n",
      " [0.16107182 0.39681009 0.16462708 0.44694311]\n",
      " [0.62646458 0.6273652  0.72482306 0.74497547]]\n",
      "6x6 Array with Border of Zeros:\n",
      " [[0.         0.         0.         0.         0.         0.        ]\n",
      " [0.         0.0870261  0.13813807 0.46225059 0.17865876 0.        ]\n",
      " [0.         0.22879994 0.00143281 0.45830933 0.61207673 0.        ]\n",
      " [0.         0.16107182 0.39681009 0.16462708 0.44694311 0.        ]\n",
      " [0.         0.62646458 0.6273652  0.72482306 0.74497547 0.        ]\n",
      " [0.         0.         0.         0.         0.         0.        ]]\n"
     ]
    }
   ],
   "source": [
    "# 3. Create a 4x4 NumPy Array with Random Float Values and Add Border of Zeros\n",
    "arr = np.random.rand(4, 4)\n",
    "\n",
    "arr_with_border = np.pad(arr, pad_width=1, mode='constant', constant_values=0)\n",
    "\n",
    "print(\"Original 4x4 Array:\\n\", arr)\n",
    "print(\"6x6 Array with Border of Zeros:\\n\", arr_with_border)\n"
   ]
  },
  {
   "cell_type": "code",
   "execution_count": 10,
   "id": "ac476a7b-c079-4268-a89b-c0b07e53cdc0",
   "metadata": {},
   "outputs": [
    {
     "name": "stdout",
     "output_type": "stream",
     "text": [
      "Array: [10 15 20 25 30 35 40 45 50 55 60]\n"
     ]
    }
   ],
   "source": [
    "# 4. Create an Array of Integers from 10 to 60 with a Step of 5\n",
    "arr = np.arange(10, 65, 5)\n",
    "\n",
    "print(\"Array:\", arr)\n"
   ]
  },
  {
   "cell_type": "code",
   "execution_count": 12,
   "id": "7cfd1e49-104c-41fc-b497-4590b7777a16",
   "metadata": {},
   "outputs": [
    {
     "name": "stdout",
     "output_type": "stream",
     "text": [
      "Original Array: ['python' 'numpy' 'pandas']\n",
      "Uppercase: ['PYTHON' 'NUMPY' 'PANDAS']\n",
      "Lowercase: ['python' 'numpy' 'pandas']\n",
      "Title Case: ['Python' 'Numpy' 'Pandas']\n"
     ]
    }
   ],
   "source": [
    "# 5. Create a NumPy Array of Strings and Apply Case Transformations\n",
    "arr = np.array(['python', 'numpy', 'pandas'])\n",
    "\n",
    "upper_case = np.char.upper(arr)\n",
    "lower_case = np.char.lower(arr)\n",
    "title_case = np.char.title(arr)\n",
    "\n",
    "print(\"Original Array:\", arr)\n",
    "print(\"Uppercase:\", upper_case)\n",
    "print(\"Lowercase:\", lower_case)\n",
    "print(\"Title Case:\", title_case)\n"
   ]
  },
  {
   "cell_type": "code",
   "execution_count": 14,
   "id": "7581fd4a-24e6-4a03-9d45-e00aafaf26d4",
   "metadata": {},
   "outputs": [
    {
     "name": "stdout",
     "output_type": "stream",
     "text": [
      "Original Array: ['hello' 'world' 'numpy']\n",
      "Array with Spaces Between Characters: ['h e l l o' 'w o r l d' 'n u m p y']\n"
     ]
    }
   ],
   "source": [
    "# 6. Generate a NumPy Array of Words and Insert Spaces Between Characters\n",
    "arr = np.array(['hello', 'world', 'numpy'])\n",
    "\n",
    "spaced_arr = np.char.join(' ', arr)\n",
    "\n",
    "print(\"Original Array:\", arr)\n",
    "print(\"Array with Spaces Between Characters:\", spaced_arr)\n"
   ]
  },
  {
   "cell_type": "code",
   "execution_count": 16,
   "id": "8501e8d0-d67b-44be-8fdf-c2c13cfa7630",
   "metadata": {},
   "outputs": [
    {
     "name": "stdout",
     "output_type": "stream",
     "text": [
      "Addition:\n",
      " [[ 6  8]\n",
      " [10 12]]\n",
      "Subtraction:\n",
      " [[-4 -4]\n",
      " [-4 -4]]\n",
      "Multiplication:\n",
      " [[ 5 12]\n",
      " [21 32]]\n",
      "Division:\n",
      " [[0.2        0.33333333]\n",
      " [0.42857143 0.5       ]]\n"
     ]
    }
   ],
   "source": [
    "# 7. Perform Element-wise Operations on Two 2D NumPy Arrays\n",
    "arr1 = np.array([[1, 2], [3, 4]])\n",
    "arr2 = np.array([[5, 6], [7, 8]])\n",
    "\n",
    "addition = arr1 + arr2\n",
    "subtraction = arr1 - arr2\n",
    "multiplication = arr1 * arr2\n",
    "division = arr1 / arr2\n",
    "\n",
    "print(\"Addition:\\n\", addition)\n",
    "print(\"Subtraction:\\n\", subtraction)\n",
    "print(\"Multiplication:\\n\", multiplication)\n",
    "print(\"Division:\\n\", division)\n"
   ]
  },
  {
   "cell_type": "code",
   "execution_count": 18,
   "id": "9a7a35a7-cb2c-4884-9b2a-f8c746dca43e",
   "metadata": {},
   "outputs": [
    {
     "name": "stdout",
     "output_type": "stream",
     "text": [
      "Identity Matrix:\n",
      " [[1. 0. 0. 0. 0.]\n",
      " [0. 1. 0. 0. 0.]\n",
      " [0. 0. 1. 0. 0.]\n",
      " [0. 0. 0. 1. 0.]\n",
      " [0. 0. 0. 0. 1.]]\n",
      "Diagonal Elements: [1. 1. 1. 1. 1.]\n"
     ]
    }
   ],
   "source": [
    "# 8. Create a 5x5 Identity Matrix and Extract Diagonal Elements\n",
    "identity_matrix = np.eye(5)\n",
    "\n",
    "diagonal_elements = np.diag(identity_matrix)\n",
    "\n",
    "print(\"Identity Matrix:\\n\", identity_matrix)\n",
    "print(\"Diagonal Elements:\", diagonal_elements)\n"
   ]
  },
  {
   "cell_type": "code",
   "execution_count": 20,
   "id": "f93f537a-6b16-4a1b-aaf3-1148b506bc28",
   "metadata": {},
   "outputs": [
    {
     "name": "stdout",
     "output_type": "stream",
     "text": [
      "Array: [102 328 575 375 762 345 653 620 904 121  84 163 832 168 101 817 878 292\n",
      " 412 476 805 453 701 634 893  25 728 222 436   2 200 371 386  24  78 563\n",
      " 681 804 150  60 131 833 624  21 915  70 543 207 368 141 468 224 547 135\n",
      " 514 439 403 592 272 790 141 133 994 878 256 576 222 840 525 165 971 531\n",
      " 328 750 758 890 118 314  16 854 655 140 653 435 850  16 931 401 871  83\n",
      " 238 408 724 189 250 510 763 436 701 406]\n",
      "Prime Numbers: [653 163 101 701   2 563 131 547 439 971 653 401  83 701]\n"
     ]
    }
   ],
   "source": [
    "# 9. Find All Prime Numbers in a NumPy Array of 100 Random Integers\n",
    "arr = np.random.randint(0, 1001, 100)\n",
    "\n",
    "def is_prime(n):\n",
    "    if n <= 1:\n",
    "        return False\n",
    "    for i in range(2, int(np.sqrt(n)) + 1):\n",
    "        if n % i == 0:\n",
    "            return False\n",
    "    return True\n",
    "\n",
    "prime_numbers = arr[np.vectorize(is_prime)(arr)]\n",
    "\n",
    "print(\"Array:\", arr)\n",
    "print(\"Prime Numbers:\", prime_numbers)\n"
   ]
  },
  {
   "cell_type": "code",
   "execution_count": 22,
   "id": "53e4f8ba-00df-4d76-a817-3c74f04f4619",
   "metadata": {},
   "outputs": [
    {
     "name": "stdout",
     "output_type": "stream",
     "text": [
      "Daily Temperatures: [19 26 27 21 23 16 19 33 29 31 18 23 34 17 24 20 33 16 18 26 33 19 31 24\n",
      " 32 31 26 24 27 19]\n",
      "Weekly Averages: [21.571428571428573, 26.428571428571427, 24.285714285714285, 26.714285714285715, 23.0]\n"
     ]
    }
   ],
   "source": [
    "# 10. Calculate Weekly Averages of Daily Temperatures for a Month\n",
    "temperatures = np.random.randint(15, 35, size=30)\n",
    "\n",
    "weekly_averages = [np.mean(temperatures[i:i+7]) for i in range(0, len(temperatures), 7)]\n",
    "\n",
    "print(\"Daily Temperatures:\", temperatures)\n",
    "print(\"Weekly Averages:\", weekly_averages)\n"
   ]
  }
 ],
 "metadata": {
  "kernelspec": {
   "display_name": "Python 3 (ipykernel)",
   "language": "python",
   "name": "python3"
  },
  "language_info": {
   "codemirror_mode": {
    "name": "ipython",
    "version": 3
   },
   "file_extension": ".py",
   "mimetype": "text/x-python",
   "name": "python",
   "nbconvert_exporter": "python",
   "pygments_lexer": "ipython3",
   "version": "3.12.4"
  }
 },
 "nbformat": 4,
 "nbformat_minor": 5
}
