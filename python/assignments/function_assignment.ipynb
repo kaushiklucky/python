{
 "cells": [
  {
   "cell_type": "markdown",
   "metadata": {},
   "source": [
    "FUNCTON ASSIGNMENT"
   ]
  },
  {
   "cell_type": "code",
   "execution_count": 1,
   "metadata": {},
   "outputs": [
    {
     "name": "stdout",
     "output_type": "stream",
     "text": [
      "12\n"
     ]
    }
   ],
   "source": [
    "# Ans 1) Python Function to Return the Sum of All Even Numbers in a List:\n",
    "def sum_of_evens(numbers):\n",
    "    return sum(num for num in numbers if num % 2 == 0)\n",
    "\n",
    "my_list = [1, 2, 3, 4, 5, 6]\n",
    "print(sum_of_evens(my_list))\n"
   ]
  },
  {
   "cell_type": "code",
   "execution_count": 2,
   "metadata": {},
   "outputs": [
    {
     "name": "stdout",
     "output_type": "stream",
     "text": [
      "olleh\n"
     ]
    }
   ],
   "source": [
    "# Ans 2) Python Function to Return the Reverse of a String:\n",
    "def reverse_string(s):\n",
    "    return s[::-1]\n",
    "\n",
    "my_string = \"hello\"\n",
    "print(reverse_string(my_string))\n"
   ]
  },
  {
   "cell_type": "code",
   "execution_count": 3,
   "metadata": {},
   "outputs": [
    {
     "name": "stdout",
     "output_type": "stream",
     "text": [
      "[1, 4, 9, 16]\n"
     ]
    }
   ],
   "source": [
    "# Ans 3) Python Function to Return a New List Containing the Squares of Each Number:\n",
    "def square_numbers(numbers):\n",
    "    return [num ** 2 for num in numbers]\n",
    "\n",
    "my_list = [1, 2, 3, 4]\n",
    "print(square_numbers(my_list))\n"
   ]
  },
  {
   "cell_type": "code",
   "execution_count": 4,
   "metadata": {},
   "outputs": [
    {
     "name": "stdout",
     "output_type": "stream",
     "text": [
      "[2, 3, 5, 7, 11, 13, 17, 19, 23, 29, 31, 37, 41, 43, 47, 53, 59, 61, 67, 71, 73, 79, 83, 89, 97, 101, 103, 107, 109, 113, 127, 131, 137, 139, 149, 151, 157, 163, 167, 173, 179, 181, 191, 193, 197, 199]\n"
     ]
    }
   ],
   "source": [
    "# Ans 4) Python Function to Check if a Number is Prime or Not (from 1 to 200):\n",
    "def is_prime(n):\n",
    "    if n <= 1:\n",
    "        return False\n",
    "    for i in range(2, int(n ** 0.5) + 1):\n",
    "        if n % i == 0:\n",
    "            return False\n",
    "    return True\n",
    "\n",
    "\n",
    "primes = [num for num in range(1, 201) if is_prime(num)]\n",
    "print(primes)"
   ]
  },
  {
   "cell_type": "code",
   "execution_count": 5,
   "metadata": {},
   "outputs": [
    {
     "name": "stdout",
     "output_type": "stream",
     "text": [
      "0 1 1 2 3 5 8 13 21 34 "
     ]
    }
   ],
   "source": [
    "# Ans 5) Iterator Class to Generate the Fibonacci Sequence Up to a Specified Number of Terms:\n",
    "class Fibonacci:\n",
    "    def __init__(self, max_terms):\n",
    "        self.max_terms = max_terms\n",
    "        self.count = 0\n",
    "        self.a, self.b = 0, 1\n",
    "\n",
    "    def __iter__(self):\n",
    "        return self\n",
    "\n",
    "    def __next__(self):\n",
    "        if self.count >= self.max_terms:\n",
    "            raise StopIteration\n",
    "        self.count += 1\n",
    "        fib = self.a\n",
    "        self.a, self.b = self.b, self.a + self.b\n",
    "        return fib\n",
    "\n",
    "\n",
    "fib_sequence = Fibonacci(10)\n",
    "for num in fib_sequence:\n",
    "    print(num, end=\" \")\n"
   ]
  },
  {
   "cell_type": "code",
   "execution_count": 6,
   "metadata": {},
   "outputs": [
    {
     "name": "stdout",
     "output_type": "stream",
     "text": [
      "1 2 4 8 16 32 "
     ]
    }
   ],
   "source": [
    "# Ans 6) Generator Function to Yield Powers of 2 Up to a Given Exponent:\n",
    "def powers_of_two(max_exponent):\n",
    "    for n in range(max_exponent + 1):\n",
    "        yield 2 ** n\n",
    "\n",
    "for power in powers_of_two(5):\n",
    "    print(power, end=\" \")\n"
   ]
  },
  {
   "cell_type": "code",
   "execution_count": 10,
   "metadata": {},
   "outputs": [
    {
     "name": "stdout",
     "output_type": "stream",
     "text": [
      "Namastey Duniya,\n",
      "My name is Lucky Kaushik\n"
     ]
    }
   ],
   "source": [
    "# Ans 7) Generator Function to Read a File Line by Line:\n",
    "def read_file_line_by_line(file_path):\n",
    "    with open(file_path, 'r') as file:\n",
    "        for line in file:\n",
    "            yield line.strip()\n",
    "\n",
    "for line in read_file_line_by_line('example.txt'):\n",
    "    print(line)\n"
   ]
  },
  {
   "cell_type": "code",
   "execution_count": 11,
   "metadata": {},
   "outputs": [
    {
     "name": "stdout",
     "output_type": "stream",
     "text": [
      "[(3, 'a'), (2, 'b'), (1, 'c')]\n"
     ]
    }
   ],
   "source": [
    "# Ans 8) Lambda Function to Sort a List of Tuples Based on the Second Element:\n",
    "my_tuples = [(1, 'c'), (2, 'b'), (3, 'a')]\n",
    "sorted_tuples = sorted(my_tuples, key=lambda x: x[1])\n",
    "\n",
    "print(sorted_tuples)\n"
   ]
  },
  {
   "cell_type": "code",
   "execution_count": 12,
   "metadata": {},
   "outputs": [
    {
     "name": "stdout",
     "output_type": "stream",
     "text": [
      "[32.0, 68.0, 98.6, 212.0]\n"
     ]
    }
   ],
   "source": [
    "# Ans 9) Python Program Using map() to Convert a List of Temperatures from Celsius to Fahrenheit:\n",
    "def celsius_to_fahrenheit(celsius):\n",
    "    return (celsius * 9/5) + 32\n",
    "\n",
    "celsius_temps = [0, 20, 37, 100]\n",
    "fahrenheit_temps = list(map(celsius_to_fahrenheit, celsius_temps))\n",
    "\n",
    "print(fahrenheit_temps)\n"
   ]
  },
  {
   "cell_type": "code",
   "execution_count": 21,
   "metadata": {},
   "outputs": [
    {
     "name": "stdout",
     "output_type": "stream",
     "text": [
      "Hll, Wrld!\n"
     ]
    }
   ],
   "source": [
    "# Ans 10) Create a Python program that uses `filter()` to remove all the vowels from a given string.\n",
    "def remove_vowels(s):\n",
    "    vowels = \"aeiouAEIOU\"\n",
    "    return ''.join(filter(lambda char: char not in vowels, s))\n",
    "\n",
    "input_string = \"Hello, World!\"\n",
    "result = remove_vowels(input_string)\n",
    "print(result)\n"
   ]
  },
  {
   "cell_type": "code",
   "execution_count": 17,
   "metadata": {},
   "outputs": [
    {
     "name": "stdout",
     "output_type": "stream",
     "text": [
      "Sales report per book :  {'Learning Python, Mark Lutz': 163.8, 'Programming Python, Mark Lutz': 284.0, 'Head First Python, Paul Barry': 98.85000000000001, 'Einfuhrung in Python3, Bernd Klein': 74.97}\n",
      "Total sales :  621.62\n"
     ]
    }
   ],
   "source": [
    "# Ans 11) Write a Python program, which returns a list with 2-tuples. Each tuple consists of the order number and the product of the price per item and the quantity. The product should be increased by 10,- € if the value of the order is smaller than 100,00 €. Write a Python program using lambda and map.\n",
    "\n",
    "orders = [\n",
    "    {\"Order Number\": 34587, \"Book Title and Author\": \"Learning Python, Mark Lutz\", \"Quantity\": 4, \"Price per Item\": 40.95},\n",
    "    {\"Order Number\": 98762, \"Book Title and Author\": \"Programming Python, Mark Lutz\", \"Quantity\": 5, \"Price per Item\": 56.80},\n",
    "    {\"Order Number\": 77226, \"Book Title and Author\": \"Head First Python, Paul Barry\", \"Quantity\": 3, \"Price per Item\": 32.95},\n",
    "    {\"Order Number\": 88112, \"Book Title and Author\": \"Einfuhrung in Python3, Bernd Klein\", \"Quantity\": 3, \"Price per Item\": 24.99}\n",
    "]\n",
    "\n",
    "def calculate_total_price(order):\n",
    "    total_price = order[\"Quantity\"] * order[\"Price per Item\"]\n",
    "    return total_price\n",
    "\n",
    "def generate_sales_report(orders):\n",
    "    sales_report = {}\n",
    "    total_sales = 0\n",
    "    for order in orders:\n",
    "        total_price = calculate_total_price(order)\n",
    "        book_info = order[\"Book Title and Author\"]\n",
    "        sales_report[book_info] = sales_report.get(book_info, 0) + total_price\n",
    "        total_sales += total_price\n",
    "    return sales_report, total_sales\n",
    "\n",
    "report, total = generate_sales_report(orders)\n",
    "print(\"Sales report per book : \", report)\n",
    "print(\"Total sales : \", total)"
   ]
  },
  {
   "cell_type": "code",
   "execution_count": 20,
   "metadata": {},
   "outputs": [
    {
     "name": "stdout",
     "output_type": "stream",
     "text": [
      "[(34587, 163.8), (98762, 284.0), (77226, 108.85000000000001), (88112, 84.97)]\n",
      "[(34587, 163.8), (98762, 284.0), (77226, 100), (88112, 100)]\n"
     ]
    }
   ],
   "source": [
    "# Ans 11) Write a Python program, which returns a list with 2-tuples. Each tuple consists of the order number and the product of the price per item and the quantity. The product should be increased by 10,- € if the value of the order is smaller than 100,00 €. Write a Python program using lambda and map.\n",
    "\n",
    "def calculate_order_value(orders):\n",
    "  \"\"\"Calculates the order value for each order in the given list of orders.\n",
    "\n",
    "  Args:\n",
    "    orders: A list of lists, where each inner list represents an order and contains\n",
    "      the order number, book title and author, quantity, and price per item.\n",
    "\n",
    "  Returns:\n",
    "    A list of tuples, where each tuple contains the order number and the calculated\n",
    "    order value.\n",
    "  \"\"\"\n",
    "\n",
    "  result = []\n",
    "  for order in orders:\n",
    "    order_number, _, quantity, price_per_item = order\n",
    "    value = quantity * price_per_item\n",
    "    value += 10 if value < 100 else 0\n",
    "    result.append((order_number, value))\n",
    "  return result\n",
    "\n",
    "def calculate_order_value_with_lambda_and_map(orders):\n",
    "  \"\"\"Calculates the order value for each order in the given list of orders using\n",
    "  lambda and map.\n",
    "\n",
    "  Args:\n",
    "    orders: A list of lists, where each inner list represents an order and contains\n",
    "      the order number, book title and author, quantity, and price per item.\n",
    "\n",
    "  Returns:\n",
    "    A list of tuples, where each tuple contains the order number and the calculated\n",
    "    order value.\n",
    "  \"\"\"\n",
    "\n",
    "  calculate_value = lambda order: (\n",
    "      order[0],\n",
    "      max(order[2] * order[3], 100)\n",
    "  )\n",
    "  return list(map(calculate_value, orders))\n",
    "\n",
    "orders = [\n",
    "    [34587, \"Learning Python, Mark Lutz\", 4, 40.95],\n",
    "    [98762, \"Programming Python, Mark Lutz\", 5, 56.80],\n",
    "    [77226, \"Head First Python, Paul Barry\", 3, 32.95],\n",
    "    [88112, \"Einführung in Python3, Bernd Klein\", 3, 24.99],\n",
    "]\n",
    "\n",
    "print(calculate_order_value(orders))\n",
    "print(calculate_order_value_with_lambda_and_map(orders))"
   ]
  }
 ],
 "metadata": {
  "kernelspec": {
   "display_name": "Python 3",
   "language": "python",
   "name": "python3"
  },
  "language_info": {
   "codemirror_mode": {
    "name": "ipython",
    "version": 3
   },
   "file_extension": ".py",
   "mimetype": "text/x-python",
   "name": "python",
   "nbconvert_exporter": "python",
   "pygments_lexer": "ipython3",
   "version": "3.12.5"
  }
 },
 "nbformat": 4,
 "nbformat_minor": 2
}
