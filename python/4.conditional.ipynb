{
 "cells": [
  {
   "cell_type": "code",
   "execution_count": 1,
   "metadata": {},
   "outputs": [],
   "source": [
    "#conditional statments >> helps you to code decisions based on some precanditions\n",
    "#if\n",
    "#if else\n",
    "#if else(elseif) else\n",
    "#nested if else"
   ]
  },
  {
   "cell_type": "code",
   "execution_count": 2,
   "metadata": {},
   "outputs": [
    {
     "name": "stdout",
     "output_type": "stream",
     "text": [
      "The number is greater than zero\n"
     ]
    }
   ],
   "source": [
    "a = 100\n",
    "if a>0:  #execute the block, if the condition is true\n",
    "      print(\"The number is greater than zero\")"
   ]
  },
  {
   "cell_type": "code",
   "execution_count": 3,
   "metadata": {},
   "outputs": [],
   "source": [
    "a = 100\n",
    "if a<0:  #execute the block, if the condition is true\n",
    "      print(\"The number is greater than zero\")"
   ]
  },
  {
   "cell_type": "code",
   "execution_count": 2,
   "metadata": {},
   "outputs": [
    {
     "name": "stdout",
     "output_type": "stream",
     "text": [
      "I will nit play cricket\n"
     ]
    }
   ],
   "source": [
    "weather = \"rainy\"\n",
    "if weather == \"rainy\":\n",
    "      print(\"I will nit play cricket\")"
   ]
  },
  {
   "cell_type": "code",
   "execution_count": 3,
   "metadata": {},
   "outputs": [
    {
     "name": "stdout",
     "output_type": "stream",
     "text": [
      "you are excellent\n"
     ]
    }
   ],
   "source": [
    "grade = 8\n",
    "if grade >=8 :\n",
    "      print(\"you are excellent\")"
   ]
  },
  {
   "cell_type": "code",
   "execution_count": 1,
   "metadata": {},
   "outputs": [
    {
     "name": "stdout",
     "output_type": "stream",
     "text": [
      "THe number is even\n"
     ]
    }
   ],
   "source": [
    "number = 42\n",
    "if number %2==0:\n",
    "      print(\"THe number is even\")"
   ]
  },
  {
   "cell_type": "code",
   "execution_count": 2,
   "metadata": {},
   "outputs": [],
   "source": [
    "number = 42\n",
    "if((number %2==0) & (number > 0)):\n",
    "      print(\"This is the number of interest\")"
   ]
  },
  {
   "cell_type": "code",
   "execution_count": null,
   "metadata": {},
   "outputs": [],
   "source": []
  },
  {
   "cell_type": "code",
   "execution_count": null,
   "metadata": {},
   "outputs": [],
   "source": []
  }
 ],
 "metadata": {
  "kernelspec": {
   "display_name": "Python 3",
   "language": "python",
   "name": "python3"
  },
  "language_info": {
   "codemirror_mode": {
    "name": "ipython",
    "version": 3
   },
   "file_extension": ".py",
   "mimetype": "text/x-python",
   "name": "python",
   "nbconvert_exporter": "python",
   "pygments_lexer": "ipython3",
   "version": "3.12.4"
  }
 },
 "nbformat": 4,
 "nbformat_minor": 2
}
