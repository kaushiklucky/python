{
 "cells": [
  {
   "cell_type": "code",
   "execution_count": 1,
   "id": "7b359f77-8114-435a-b518-e296f700c848",
   "metadata": {},
   "outputs": [],
   "source": [
    "# mode\n",
    "# r >> read mode\n",
    "# w >> write mode\n",
    "# a >> append mode\n",
    "# r+ >> both reading and writting"
   ]
  },
  {
   "cell_type": "code",
   "execution_count": 2,
   "id": "8e29ba22-8567-48c3-8d1b-df20219efe39",
   "metadata": {},
   "outputs": [],
   "source": [
    "# open(\"file.txt\", \"r\")  # if there is no any file , and you open it in read mode it will throw an error"
   ]
  },
  {
   "cell_type": "code",
   "execution_count": 3,
   "id": "02e56eff-c3e3-4b62-b614-69f32b4c2557",
   "metadata": {},
   "outputs": [],
   "source": [
    "file = open(\"file.txt\", \"w\") # w >> write mode, if a file is not there it will create the file.txt and then read it"
   ]
  },
  {
   "cell_type": "code",
   "execution_count": 4,
   "id": "87badad2-20a2-4eba-aa2c-5bb0e381e53e",
   "metadata": {},
   "outputs": [
    {
     "data": {
      "text/plain": [
       "44"
      ]
     },
     "execution_count": 4,
     "metadata": {},
     "output_type": "execute_result"
    }
   ],
   "source": [
    "file.write(\"Hello this is my first line in the text file\") # number below is no of bytes you have written"
   ]
  },
  {
   "cell_type": "code",
   "execution_count": 5,
   "id": "e6e458a6-beed-46a4-8163-173ff2e07456",
   "metadata": {},
   "outputs": [],
   "source": [
    "# as of now if you open the written file you will not be able to see any text in file\n",
    "# to see written data you have to close the file"
   ]
  },
  {
   "cell_type": "code",
   "execution_count": 6,
   "id": "4e43da2d-4dd0-4085-97de-cfc2135148a9",
   "metadata": {},
   "outputs": [],
   "source": [
    "file.close()"
   ]
  },
  {
   "cell_type": "code",
   "execution_count": 7,
   "id": "609e1d35-6d07-4966-b765-fe9dff5229f0",
   "metadata": {},
   "outputs": [
    {
     "data": {
      "text/plain": [
       "<_io.TextIOWrapper name='file.txt' mode='w' encoding='cp1252'>"
      ]
     },
     "execution_count": 7,
     "metadata": {},
     "output_type": "execute_result"
    }
   ],
   "source": [
    "file"
   ]
  },
  {
   "cell_type": "code",
   "execution_count": 8,
   "id": "a053b06b-394e-4d9f-9ff9-09603dafea26",
   "metadata": {},
   "outputs": [
    {
     "data": {
      "text/plain": [
       "True"
      ]
     },
     "execution_count": 8,
     "metadata": {},
     "output_type": "execute_result"
    }
   ],
   "source": [
    "file.closed # if file is closed it will return True else False"
   ]
  },
  {
   "cell_type": "code",
   "execution_count": 9,
   "id": "ebc626c7-397c-4f0d-a634-b228119665ee",
   "metadata": {},
   "outputs": [],
   "source": [
    "file = open(\"file.txt\", \"r\")"
   ]
  },
  {
   "cell_type": "code",
   "execution_count": 10,
   "id": "31548b49-e9f7-4f28-8961-b0823fe31bbe",
   "metadata": {},
   "outputs": [
    {
     "data": {
      "text/plain": [
       "False"
      ]
     },
     "execution_count": 10,
     "metadata": {},
     "output_type": "execute_result"
    }
   ],
   "source": [
    "file.closed"
   ]
  },
  {
   "cell_type": "code",
   "execution_count": 11,
   "id": "2a41b563-147c-4846-a648-70e43b910e07",
   "metadata": {},
   "outputs": [],
   "source": [
    "file.close()"
   ]
  },
  {
   "cell_type": "code",
   "execution_count": 12,
   "id": "a107126e-44b2-4522-a623-d93a4e77783d",
   "metadata": {},
   "outputs": [
    {
     "data": {
      "text/plain": [
       "True"
      ]
     },
     "execution_count": 12,
     "metadata": {},
     "output_type": "execute_result"
    }
   ],
   "source": [
    "file.closed"
   ]
  },
  {
   "cell_type": "code",
   "execution_count": 13,
   "id": "d66b3885-8eff-439d-a7cc-6c8b11a5131a",
   "metadata": {},
   "outputs": [
    {
     "data": {
      "text/plain": [
       "'file.txt'"
      ]
     },
     "execution_count": 13,
     "metadata": {},
     "output_type": "execute_result"
    }
   ],
   "source": [
    "file.name"
   ]
  },
  {
   "cell_type": "code",
   "execution_count": 14,
   "id": "a73b8906-b2c4-417d-8e32-c31ef3b11a5e",
   "metadata": {},
   "outputs": [
    {
     "data": {
      "text/plain": [
       "'r'"
      ]
     },
     "execution_count": 14,
     "metadata": {},
     "output_type": "execute_result"
    }
   ],
   "source": [
    "file.mode"
   ]
  },
  {
   "cell_type": "code",
   "execution_count": 15,
   "id": "04da4253-2bc4-4348-a31c-25f16fb4fd93",
   "metadata": {},
   "outputs": [
    {
     "data": {
      "text/plain": [
       "True"
      ]
     },
     "execution_count": 15,
     "metadata": {},
     "output_type": "execute_result"
    }
   ],
   "source": [
    "file.closed"
   ]
  },
  {
   "cell_type": "code",
   "execution_count": 16,
   "id": "194fd21f-4c50-4d86-8dad-9f662a0f149e",
   "metadata": {},
   "outputs": [],
   "source": [
    "# file.write(\"This is my second line\") #this will not executed, throw an error >> file is closed >> you can not write anything in closed file"
   ]
  },
  {
   "cell_type": "code",
   "execution_count": 17,
   "id": "bc052aa8-a435-4c18-8822-b2a7aa2d245d",
   "metadata": {},
   "outputs": [],
   "source": [
    "file = open(\"file.txt\", \"w\") # it will truncate(delete) all earlier content and make a "
   ]
  },
  {
   "cell_type": "code",
   "execution_count": 18,
   "id": "388d4375-e8f0-47ff-b6e8-22ef2ae7370e",
   "metadata": {},
   "outputs": [],
   "source": [
    "file = open(\"file.txt\", \"w\")\n",
    "file.write(\"This is my first line\\n\")\n",
    "file.write(\"This is my second line\\n\")\n",
    "file.write('This is my third line\\n')\n",
    "file.write(\"This is my forth line\\n\")\n",
    "file.close()"
   ]
  },
  {
   "cell_type": "code",
   "execution_count": 19,
   "id": "48a50653-9127-4397-a789-a101f1c3bec3",
   "metadata": {},
   "outputs": [],
   "source": [
    "file = open(\"file.txt\", \"w\")\n",
    "file.write(\"This is fifth line\")  # all earlier content will be deleted\n",
    "file.close()"
   ]
  },
  {
   "cell_type": "code",
   "execution_count": 20,
   "id": "0f0896dd-93c6-486e-b601-28a9d8f5a46b",
   "metadata": {},
   "outputs": [],
   "source": [
    "file = open(\"file.txt\", \"w\")\n",
    "file.write(\"This is my first line\\n\")\n",
    "file.write(\"This is my second line\\n\")\n",
    "file.write('This is my third line\\n')\n",
    "file.write(\"This is my forth line\\n\")\n",
    "file.close()"
   ]
  },
  {
   "cell_type": "code",
   "execution_count": 21,
   "id": "7e81750b-986b-4625-a9a9-3f4d388a7139",
   "metadata": {},
   "outputs": [],
   "source": [
    "file = open(\"file.txt\", \"a\") # add new line\n",
    "file.write(\"This is fifth line\")\n",
    "file.close()"
   ]
  },
  {
   "cell_type": "code",
   "execution_count": 22,
   "id": "80b6c6de-e6d3-4b7b-b5dd-13d7be5ce1e1",
   "metadata": {},
   "outputs": [],
   "source": [
    "file = open(\"file.txt\", \"r\")"
   ]
  },
  {
   "cell_type": "code",
   "execution_count": 23,
   "id": "f0a2abd8-297d-4fa6-90ff-5c15e03c0392",
   "metadata": {},
   "outputs": [],
   "source": [
    "# file.write(\"this is another line\")"
   ]
  },
  {
   "cell_type": "code",
   "execution_count": 24,
   "id": "5fb28031-3851-4589-8ad9-1eef1c50c9f0",
   "metadata": {},
   "outputs": [
    {
     "name": "stdout",
     "output_type": "stream",
     "text": [
      "This is my first line\n",
      "\n",
      "This is my second line\n",
      "\n",
      "This is my third line\n",
      "\n",
      "This is my forth line\n",
      "\n",
      "This is fifth line\n"
     ]
    }
   ],
   "source": [
    "for i in file:\n",
    "    print(i)"
   ]
  },
  {
   "cell_type": "code",
   "execution_count": 25,
   "id": "0f603b49-509b-4c3e-b428-db209f3c2ce0",
   "metadata": {},
   "outputs": [
    {
     "name": "stdout",
     "output_type": "stream",
     "text": [
      "\n"
     ]
    }
   ],
   "source": [
    "print(file.read()) # here the cursor/pointer is at last position"
   ]
  },
  {
   "cell_type": "code",
   "execution_count": 26,
   "id": "0ced3a2c-2980-4125-8085-22e8ffa809c0",
   "metadata": {},
   "outputs": [
    {
     "data": {
      "text/plain": [
       "''"
      ]
     },
     "execution_count": 26,
     "metadata": {},
     "output_type": "execute_result"
    }
   ],
   "source": [
    "file.read()"
   ]
  },
  {
   "cell_type": "code",
   "execution_count": 27,
   "id": "e4215a5e-ab35-4f6e-bb67-b23397192236",
   "metadata": {},
   "outputs": [
    {
     "data": {
      "text/plain": [
       "111"
      ]
     },
     "execution_count": 27,
     "metadata": {},
     "output_type": "execute_result"
    }
   ],
   "source": [
    "file.tell() # it tells the current position of the cursor"
   ]
  },
  {
   "cell_type": "code",
   "execution_count": 28,
   "id": "b9105c91-e7c6-4cbe-9e0d-ba3dbd22ee49",
   "metadata": {},
   "outputs": [
    {
     "data": {
      "text/plain": [
       "0"
      ]
     },
     "execution_count": 28,
     "metadata": {},
     "output_type": "execute_result"
    }
   ],
   "source": [
    "file.seek(0) # cursor will come at zeroth position"
   ]
  },
  {
   "cell_type": "code",
   "execution_count": 29,
   "id": "b9850ae2-f60b-485c-8211-4b41d165b4e8",
   "metadata": {},
   "outputs": [
    {
     "name": "stdout",
     "output_type": "stream",
     "text": [
      "This is my first line\n",
      "This is my second line\n",
      "This is my third line\n",
      "This is my forth line\n",
      "This is fifth line\n"
     ]
    }
   ],
   "source": [
    "f = open(\"file.txt\", \"r\")\n",
    "f.seek(0)  # it will bring curser to start of the file\n",
    "print(f.read())\n",
    "f.close()"
   ]
  },
  {
   "cell_type": "code",
   "execution_count": 30,
   "id": "1ff5e626-c893-41a0-82a6-a68390f7277b",
   "metadata": {},
   "outputs": [
    {
     "name": "stdout",
     "output_type": "stream",
     "text": [
      "This is my first line\n",
      "\n"
     ]
    }
   ],
   "source": [
    "f = open('file.txt', 'r')\n",
    "print(f.readline())  # it will only read the first line\n",
    "f.close()"
   ]
  },
  {
   "cell_type": "code",
   "execution_count": 31,
   "id": "acb65bf2-2d0b-4f1a-9c5f-df564c8af7c5",
   "metadata": {},
   "outputs": [
    {
     "name": "stdout",
     "output_type": "stream",
     "text": [
      "['This is my first line\\n', 'This is my second line\\n', 'This is my third line\\n', 'This is my forth line\\n', 'This is fifth line']\n"
     ]
    }
   ],
   "source": [
    "f = open('file.txt', 'r')\n",
    "print(f.readlines()) # all the lines will be the element of a list\n",
    "f.close()"
   ]
  },
  {
   "cell_type": "code",
   "execution_count": 32,
   "id": "b41e6020-7fb3-4e86-a94e-6daa195e0890",
   "metadata": {},
   "outputs": [],
   "source": [
    "import os"
   ]
  },
  {
   "cell_type": "code",
   "execution_count": 33,
   "id": "9954ed9d-af07-49f9-b65b-f67f55275d2f",
   "metadata": {},
   "outputs": [],
   "source": [
    "# present working directory\n",
    "# pwd"
   ]
  },
  {
   "cell_type": "code",
   "execution_count": 34,
   "id": "903a73a2-d202-456f-bd8a-bdd715891222",
   "metadata": {},
   "outputs": [
    {
     "data": {
      "text/plain": [
       "'C:\\\\Users\\\\Lucky Kaushik\\\\OneDrive\\\\Desktop\\\\dsGenAi\\\\python'"
      ]
     },
     "execution_count": 34,
     "metadata": {},
     "output_type": "execute_result"
    }
   ],
   "source": [
    "os.getcwd()"
   ]
  },
  {
   "cell_type": "code",
   "execution_count": 35,
   "id": "c57c799e-35f8-4df0-85a3-32a6e40f0114",
   "metadata": {},
   "outputs": [
    {
     "name": "stdout",
     "output_type": "stream",
     "text": [
      " Volume in drive C has no label.\n",
      " Volume Serial Number is DE7F-DF27\n",
      "\n",
      " Directory of C:\\Users\\Lucky Kaushik\\OneDrive\\Desktop\\dsGenAi\\python\n",
      "\n",
      "11-09-2024  09:49    <DIR>          .\n",
      "29-07-2024  17:47    <DIR>          ..\n",
      "10-09-2024  13:54    <DIR>          .ipynb_checkpoints\n",
      "30-07-2024  16:42            12,308 1.basics.ipynb\n",
      "30-07-2024  11:37            26,964 10.dictionary.ipynb\n",
      "12-08-2024  18:19            41,219 11.function.ipynb\n",
      "09-08-2024  21:52            17,578 12.iteratorAndGenerator.ipynb\n",
      "10-08-2024  12:15            19,063 13.lambdaMapReduceAndFilter.ipynb\n",
      "23-08-2024  14:50            22,819 14.oops.ipynb\n",
      "24-08-2024  17:06           180,441 15.inheritanceAndAbstraction.ipynb\n",
      "25-08-2024  19:02            28,954 16.polymorphinAndEncapsulation.ipynb\n",
      "26-08-2024  01:27            12,363 17.classAndStaticMethod.ipynb\n",
      "27-08-2024  16:43            17,557 18.dunderMethod.ipynb\n",
      "27-08-2024  20:31            27,826 19.decorator.ipynb\n",
      "08-07-2024  12:19            21,758 2.operators.ipynb\n",
      "30-08-2024  21:10            27,045 20.numpyBasics.ipynb\n",
      "31-08-2024  20:48            99,840 21.numpyAdvance.ipynb\n",
      "06-09-2024  21:36           705,033 22.pandasBasics.ipynb\n",
      "03-09-2024  13:24           219,788 23.pandasAdvance1.ipynb\n",
      "04-09-2024  09:24           148,243 24.pandasAdvance2.ipynb\n",
      "04-09-2024  14:01           171,863 25.pandasAdvance3.ipynb\n",
      "05-09-2024  21:58            85,089 26.pandasAdvance4.ipynb\n",
      "06-09-2024  21:36         1,621,477 27.matplotlib.ipynb\n",
      "07-09-2024  10:25         2,738,646 29.seaborn.ipynb\n",
      "08-07-2024  14:31            10,655 3.typecasting.ipynb\n",
      "07-09-2024  15:38         4,990,040 30.plotly.ipynb\n",
      "07-09-2024  16:09            61,825 31.bokeh.ipynb\n",
      "11-09-2024  09:49            23,007 32.FilesHandlingBasic.ipynb\n",
      "10-09-2024  13:55            12,577 33.readAndWriteAnyFile.ipynb\n",
      "09-07-2024  14:34             2,819 4.conditional.ipynb\n",
      "17-08-2024  21:28            20,465 5.loops.ipynb\n",
      "15-07-2024  19:28            26,652 6.introToDataStructure.ipynb\n",
      "25-07-2024  20:09            34,251 7.string.ipynb\n",
      "27-07-2024  13:41            33,266 8.lists.ipynb\n",
      "28-07-2024  12:22            32,219 9.tupleAndSets.ipynb\n",
      "07-09-2024  19:01    <DIR>          assignments\n",
      "02-09-2024  18:07           684,858 Bank_churn.csv\n",
      "10-09-2024  13:54                32 example.txt\n",
      "10-09-2024  13:54                54 example_csv.csv\n",
      "11-09-2024  09:50               111 file.txt\n",
      "10-09-2024  13:54                47 file_json.json\n",
      "10-09-2024  11:09    <DIR>          file_test\n",
      "02-09-2024  17:58           136,632 LUSID Excel - Setting up your market data.xlsx\n",
      "10-09-2024  11:04                 0 myfile.txt\n",
      "02-09-2024  18:39            78,961 players.csv\n",
      "02-09-2024  18:42            81,552 playersWithIndex.csv\n",
      "02-09-2024  16:00            19,128 services.csv\n",
      "02-09-2024  18:07            14,618 taxonomy.csv\n",
      "10-09-2024  10:20    <DIR>          test\n",
      "07-09-2024  16:07             6,266 test.html\n",
      "10-09-2024  13:54                13 test_bin.bin\n",
      "10-09-2024  13:54             2,972 test_buf.txt\n",
      "25-07-2024  17:41               136 usernames.txt\n",
      "              47 File(s)     12,519,030 bytes\n",
      "               6 Dir(s)  114,405,294,080 bytes free\n"
     ]
    }
   ],
   "source": [
    "ls"
   ]
  },
  {
   "cell_type": "code",
   "execution_count": 36,
   "id": "f867aede-815d-48b8-877a-15996f6dc1a9",
   "metadata": {},
   "outputs": [
    {
     "data": {
      "text/plain": [
       "111"
      ]
     },
     "execution_count": 36,
     "metadata": {},
     "output_type": "execute_result"
    }
   ],
   "source": [
    "os.path.getsize(\"file.txt\")"
   ]
  },
  {
   "cell_type": "code",
   "execution_count": 37,
   "id": "1136c526-6243-4d7a-a78a-4fa06c213909",
   "metadata": {},
   "outputs": [],
   "source": [
    "# os.mkdir(\"test\")"
   ]
  },
  {
   "cell_type": "code",
   "execution_count": 38,
   "id": "c68bf497-35a7-44db-a742-1ceb6e742e10",
   "metadata": {},
   "outputs": [],
   "source": [
    "# os.mkdir(\"test/test1\")"
   ]
  },
  {
   "cell_type": "code",
   "execution_count": 39,
   "id": "9a9742ce-1dc5-4a11-8809-258ee0692d01",
   "metadata": {},
   "outputs": [],
   "source": [
    "# os.mkdir(\"1/2\") # it will throw an error >> bcos 1 is not made first "
   ]
  },
  {
   "cell_type": "code",
   "execution_count": 40,
   "id": "b06f8e2a-6b83-4a12-96bf-a02e9a221207",
   "metadata": {},
   "outputs": [],
   "source": [
    "os.makedirs(\"test/1/2/3\")"
   ]
  },
  {
   "cell_type": "code",
   "execution_count": 41,
   "id": "db87b842-7034-4c5c-8223-5632928b22cc",
   "metadata": {},
   "outputs": [
    {
     "data": {
      "text/plain": [
       "['.ipynb_checkpoints',\n",
       " '1.basics.ipynb',\n",
       " '10.dictionary.ipynb',\n",
       " '11.function.ipynb',\n",
       " '12.iteratorAndGenerator.ipynb',\n",
       " '13.lambdaMapReduceAndFilter.ipynb',\n",
       " '14.oops.ipynb',\n",
       " '15.inheritanceAndAbstraction.ipynb',\n",
       " '16.polymorphinAndEncapsulation.ipynb',\n",
       " '17.classAndStaticMethod.ipynb',\n",
       " '18.dunderMethod.ipynb',\n",
       " '19.decorator.ipynb',\n",
       " '2.operators.ipynb',\n",
       " '20.numpyBasics.ipynb',\n",
       " '21.numpyAdvance.ipynb',\n",
       " '22.pandasBasics.ipynb',\n",
       " '23.pandasAdvance1.ipynb',\n",
       " '24.pandasAdvance2.ipynb',\n",
       " '25.pandasAdvance3.ipynb',\n",
       " '26.pandasAdvance4.ipynb',\n",
       " '27.matplotlib.ipynb',\n",
       " '29.seaborn.ipynb',\n",
       " '3.typecasting.ipynb',\n",
       " '30.plotly.ipynb',\n",
       " '31.bokeh.ipynb',\n",
       " '32.FilesHandlingBasic.ipynb',\n",
       " '33.readAndWriteAnyFile.ipynb',\n",
       " '4.conditional.ipynb',\n",
       " '5.loops.ipynb',\n",
       " '6.introToDataStructure.ipynb',\n",
       " '7.string.ipynb',\n",
       " '8.lists.ipynb',\n",
       " '9.tupleAndSets.ipynb',\n",
       " 'assignments',\n",
       " 'Bank_churn.csv',\n",
       " 'example.txt',\n",
       " 'example_csv.csv',\n",
       " 'file.txt',\n",
       " 'file_json.json',\n",
       " 'file_test',\n",
       " 'LUSID Excel - Setting up your market data.xlsx',\n",
       " 'myfile.txt',\n",
       " 'players.csv',\n",
       " 'playersWithIndex.csv',\n",
       " 'services.csv',\n",
       " 'taxonomy.csv',\n",
       " 'test',\n",
       " 'test.html',\n",
       " 'test_bin.bin',\n",
       " 'test_buf.txt',\n",
       " 'usernames.txt']"
      ]
     },
     "execution_count": 41,
     "metadata": {},
     "output_type": "execute_result"
    }
   ],
   "source": [
    "os.listdir()"
   ]
  },
  {
   "cell_type": "code",
   "execution_count": 42,
   "id": "460301dc-df26-4265-912a-a17509976f61",
   "metadata": {},
   "outputs": [],
   "source": [
    "os.mkdir(\"test/feat\")"
   ]
  },
  {
   "cell_type": "code",
   "execution_count": 43,
   "id": "f5e099bb-3f9f-4ee0-be2b-2806c562db16",
   "metadata": {},
   "outputs": [
    {
     "ename": "FileNotFoundError",
     "evalue": "[WinError 3] The system cannot find the path specified: '1/2/3/4'",
     "output_type": "error",
     "traceback": [
      "\u001b[1;31m---------------------------------------------------------------------------\u001b[0m",
      "\u001b[1;31mFileNotFoundError\u001b[0m                         Traceback (most recent call last)",
      "Cell \u001b[1;32mIn[43], line 1\u001b[0m\n\u001b[1;32m----> 1\u001b[0m \u001b[43mos\u001b[49m\u001b[38;5;241;43m.\u001b[39;49m\u001b[43mrmdir\u001b[49m\u001b[43m(\u001b[49m\u001b[38;5;124;43m\"\u001b[39;49m\u001b[38;5;124;43m1/2/3/4\u001b[39;49m\u001b[38;5;124;43m\"\u001b[39;49m\u001b[43m)\u001b[49m\n",
      "\u001b[1;31mFileNotFoundError\u001b[0m: [WinError 3] The system cannot find the path specified: '1/2/3/4'"
     ]
    }
   ],
   "source": [
    "os.rmdir(\"1/2/3/4\")"
   ]
  },
  {
   "cell_type": "code",
   "execution_count": null,
   "id": "15ca4e33-23cd-41f8-b655-0069e2b86066",
   "metadata": {},
   "outputs": [],
   "source": [
    "os.rmdir(\"1/2/3\")"
   ]
  },
  {
   "cell_type": "code",
   "execution_count": null,
   "id": "b49d35ce-b090-4e92-91c0-fdd48c9066bb",
   "metadata": {},
   "outputs": [],
   "source": [
    "os.rmdir(\"1/2\")"
   ]
  },
  {
   "cell_type": "code",
   "execution_count": null,
   "id": "490482be-3dd7-4e51-84b4-255c03f9a900",
   "metadata": {},
   "outputs": [],
   "source": [
    "os.rmdir(\"1\")"
   ]
  },
  {
   "cell_type": "code",
   "execution_count": null,
   "id": "bd85ddf7-e3f2-4b3a-8e83-3808102a445e",
   "metadata": {},
   "outputs": [],
   "source": [
    "# os.rmdir() >> to delete one directory without any content inside the directory"
   ]
  },
  {
   "cell_type": "code",
   "execution_count": null,
   "id": "3da1ae43-7046-4181-a29c-55865855709a",
   "metadata": {},
   "outputs": [],
   "source": [
    "# os.rmdir(\"test\") #thow an error as test is mot empty "
   ]
  },
  {
   "cell_type": "code",
   "execution_count": null,
   "id": "d789ffe3-bc24-445b-b15e-cb2da7c3d796",
   "metadata": {},
   "outputs": [],
   "source": [
    "import shutil\n",
    "shutil.rmtree('test') # it will remove the folder hierarchy"
   ]
  },
  {
   "cell_type": "code",
   "execution_count": null,
   "id": "da9d24d2-2003-4cdf-ade4-a60d6f561a83",
   "metadata": {},
   "outputs": [],
   "source": [
    "# current working directory\n",
    "os.getcwd()"
   ]
  },
  {
   "cell_type": "code",
   "execution_count": null,
   "id": "817287cf-e65d-462c-bb63-3dcda5f3c32b",
   "metadata": {},
   "outputs": [],
   "source": [
    "os.makedirs(\"test/test1\")"
   ]
  },
  {
   "cell_type": "code",
   "execution_count": null,
   "id": "9bf3931d-f8cc-43d8-81df-f2c3ca1bbb9e",
   "metadata": {},
   "outputs": [],
   "source": [
    "f = open(\"C:\\\\Users\\\\Lucky Kaushik\\\\OneDrive\\\\Desktop\\\\dsGenAi\\\\python\\\\test\\\\test1\\\\myfile.txt\", \"w\")"
   ]
  },
  {
   "cell_type": "code",
   "execution_count": null,
   "id": "3a815e63-28a3-4bc9-a56c-d43e7c203946",
   "metadata": {},
   "outputs": [],
   "source": [
    "# coping the file in current location >> C:\\\\Users\\\\Lucky Kaushik\\\\OneDrive\\\\Desktop\\\\dsGenAi\\\\python\n",
    "# shutil.copy(src, dest)"
   ]
  },
  {
   "cell_type": "code",
   "execution_count": null,
   "id": "593ea917-3c19-4bab-8f8b-899a2b818b0c",
   "metadata": {},
   "outputs": [],
   "source": [
    "shutil.copy(\"C:\\\\Users\\\\Lucky Kaushik\\\\OneDrive\\\\Desktop\\\\dsGenAi\\\\python\\\\test\\\\test1\\\\myfile.txt\", 'C:\\\\Users\\\\Lucky Kaushik\\\\OneDrive\\\\Desktop\\\\dsGenAi\\\\python') # keep a copy and original source as well"
   ]
  },
  {
   "cell_type": "code",
   "execution_count": null,
   "id": "5eb56ebf-8ccb-42ca-ac18-39155af7b457",
   "metadata": {},
   "outputs": [],
   "source": [
    "os.mkdir(\"file_test\")"
   ]
  },
  {
   "cell_type": "code",
   "execution_count": null,
   "id": "82562e24-25e2-4ee8-98d7-6157b13cb435",
   "metadata": {},
   "outputs": [],
   "source": [
    "shutil.move(\"C:\\\\Users\\\\Lucky Kaushik\\\\OneDrive\\\\Desktop\\\\dsGenAi\\\\python\\\\test\\\\test1\\\\file.txt\", 'C:\\\\Users\\\\Lucky Kaushik\\\\OneDrive\\\\Desktop\\\\dsGenAi\\\\python\\\\file_test')  # move will remove the file from original source to destination source"
   ]
  },
  {
   "cell_type": "code",
   "execution_count": 60,
   "id": "ced3ffbd-194f-4368-82ce-f65a5cbce79f",
   "metadata": {},
   "outputs": [],
   "source": [
    "with open(\"file.txt\", \"w\") as f:\n",
    "    f.write(\"This is my first line\")\n",
    "    f.write(\"This is my first line\")\n",
    "# with statment ensures that the file is closed propely after the block of code is excuted\n",
    "# important >> free up system resource and avoid issues like data corruption or file lock"
   ]
  },
  {
   "cell_type": "code",
   "execution_count": 62,
   "id": "8fb57e5d-4573-4089-baa9-b53ecd6410af",
   "metadata": {},
   "outputs": [
    {
     "name": "stdout",
     "output_type": "stream",
     "text": [
      "['This is my first lineThis is my first line']\n"
     ]
    }
   ],
   "source": [
    "with open(\"file.txt\", \"r\") as f:\n",
    "    line = f.readlines()\n",
    "    print(line)"
   ]
  },
  {
   "cell_type": "code",
   "execution_count": null,
   "id": "f0dfb28f-eca3-4a1b-be09-9f52a234d46e",
   "metadata": {},
   "outputs": [],
   "source": []
  }
 ],
 "metadata": {
  "kernelspec": {
   "display_name": "Python 3 (ipykernel)",
   "language": "python",
   "name": "python3"
  },
  "language_info": {
   "codemirror_mode": {
    "name": "ipython",
    "version": 3
   },
   "file_extension": ".py",
   "mimetype": "text/x-python",
   "name": "python",
   "nbconvert_exporter": "python",
   "pygments_lexer": "ipython3",
   "version": "3.12.4"
  }
 },
 "nbformat": 4,
 "nbformat_minor": 5
}
